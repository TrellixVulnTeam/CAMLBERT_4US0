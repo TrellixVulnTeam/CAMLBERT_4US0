{
 "cells": [
  {
   "cell_type": "markdown",
   "metadata": {},
   "source": [
    "# Reversing Label Polarity (Method 2)"
   ]
  },
  {
   "cell_type": "markdown",
   "metadata": {},
   "source": [
    "### This notebook is simply used to reverse the polarity of the label.\n",
    "The ClinicalBERT model seemed to  be making the opposite prediction, and so in an effort to improve performance, I tried reversing the label of the original data, making all 1s 0s and all 0s 1s. This notebook needs to be run in the same folder as the original 'clean_caml.csv\" file."
   ]
  },
  {
   "cell_type": "code",
   "execution_count": 18,
   "metadata": {},
   "outputs": [],
   "source": [
    "import pandas as pd"
   ]
  },
  {
   "cell_type": "code",
   "execution_count": 19,
   "metadata": {},
   "outputs": [
    {
     "name": "stdout",
     "output_type": "stream",
     "text": [
      "ADMISSIONS.csv      caml_test.csv       clean_caml.csv      fake_noteevents.csv\r\n",
      "NOTEEVENTS.csv      caml_train.csv      fake_admin.csv      rev_clean_caml.csv\r\n"
     ]
    }
   ],
   "source": [
    "!ls *.csv"
   ]
  },
  {
   "cell_type": "code",
   "execution_count": 20,
   "metadata": {},
   "outputs": [],
   "source": [
    "df = pd.read_csv('clean_caml.csv', header = [0])"
   ]
  },
  {
   "cell_type": "code",
   "execution_count": 21,
   "metadata": {},
   "outputs": [
    {
     "data": {
      "text/html": [
       "<div>\n",
       "<style scoped>\n",
       "    .dataframe tbody tr th:only-of-type {\n",
       "        vertical-align: middle;\n",
       "    }\n",
       "\n",
       "    .dataframe tbody tr th {\n",
       "        vertical-align: top;\n",
       "    }\n",
       "\n",
       "    .dataframe thead th {\n",
       "        text-align: right;\n",
       "    }\n",
       "</style>\n",
       "<table border=\"1\" class=\"dataframe\">\n",
       "  <thead>\n",
       "    <tr style=\"text-align: right;\">\n",
       "      <th></th>\n",
       "      <th>LABEL</th>\n",
       "      <th>TEXTSTRING</th>\n",
       "      <th>TEXTLIST</th>\n",
       "    </tr>\n",
       "  </thead>\n",
       "  <tbody>\n",
       "    <tr>\n",
       "      <td>0</td>\n",
       "      <td>1</td>\n",
       "      <td>cardiac silhouette mediastinum size within nor...</td>\n",
       "      <td>['cardiac', 'silhouette', 'mediastinum', 'size...</td>\n",
       "    </tr>\n",
       "    <tr>\n",
       "      <td>1</td>\n",
       "      <td>0</td>\n",
       "      <td>borderline cardiomegaly midline sternotomy xxx...</td>\n",
       "      <td>['borderline', 'cardiomegaly', 'midline', 'ste...</td>\n",
       "    </tr>\n",
       "    <tr>\n",
       "      <td>2</td>\n",
       "      <td>1</td>\n",
       "      <td>displace rib fracture pneumothorax pleural eff...</td>\n",
       "      <td>['displace', 'rib', 'fracture', 'pneumothorax'...</td>\n",
       "    </tr>\n",
       "    <tr>\n",
       "      <td>3</td>\n",
       "      <td>0</td>\n",
       "      <td>diffuse bilateral interstitial alveolar opacit...</td>\n",
       "      <td>['diffuse', 'bilateral', 'interstitial', 'alve...</td>\n",
       "    </tr>\n",
       "    <tr>\n",
       "      <td>4</td>\n",
       "      <td>0</td>\n",
       "      <td>cardiomediastinal silhouette pulmonary vascula...</td>\n",
       "      <td>['cardiomediastinal', 'silhouette', 'pulmonary...</td>\n",
       "    </tr>\n",
       "  </tbody>\n",
       "</table>\n",
       "</div>"
      ],
      "text/plain": [
       "   LABEL                                         TEXTSTRING  \\\n",
       "0      1  cardiac silhouette mediastinum size within nor...   \n",
       "1      0  borderline cardiomegaly midline sternotomy xxx...   \n",
       "2      1  displace rib fracture pneumothorax pleural eff...   \n",
       "3      0  diffuse bilateral interstitial alveolar opacit...   \n",
       "4      0  cardiomediastinal silhouette pulmonary vascula...   \n",
       "\n",
       "                                            TEXTLIST  \n",
       "0  ['cardiac', 'silhouette', 'mediastinum', 'size...  \n",
       "1  ['borderline', 'cardiomegaly', 'midline', 'ste...  \n",
       "2  ['displace', 'rib', 'fracture', 'pneumothorax'...  \n",
       "3  ['diffuse', 'bilateral', 'interstitial', 'alve...  \n",
       "4  ['cardiomediastinal', 'silhouette', 'pulmonary...  "
      ]
     },
     "execution_count": 21,
     "metadata": {},
     "output_type": "execute_result"
    }
   ],
   "source": [
    "df.head()"
   ]
  },
  {
   "cell_type": "code",
   "execution_count": 22,
   "metadata": {},
   "outputs": [
    {
     "data": {
      "text/html": [
       "<div>\n",
       "<style scoped>\n",
       "    .dataframe tbody tr th:only-of-type {\n",
       "        vertical-align: middle;\n",
       "    }\n",
       "\n",
       "    .dataframe tbody tr th {\n",
       "        vertical-align: top;\n",
       "    }\n",
       "\n",
       "    .dataframe thead th {\n",
       "        text-align: right;\n",
       "    }\n",
       "</style>\n",
       "<table border=\"1\" class=\"dataframe\">\n",
       "  <thead>\n",
       "    <tr style=\"text-align: right;\">\n",
       "      <th></th>\n",
       "      <th>ORIGINAL_LABEL</th>\n",
       "      <th>TEXTSTRING</th>\n",
       "      <th>TEXTLIST</th>\n",
       "    </tr>\n",
       "  </thead>\n",
       "  <tbody>\n",
       "    <tr>\n",
       "      <td>0</td>\n",
       "      <td>1</td>\n",
       "      <td>cardiac silhouette mediastinum size within nor...</td>\n",
       "      <td>['cardiac', 'silhouette', 'mediastinum', 'size...</td>\n",
       "    </tr>\n",
       "    <tr>\n",
       "      <td>1</td>\n",
       "      <td>0</td>\n",
       "      <td>borderline cardiomegaly midline sternotomy xxx...</td>\n",
       "      <td>['borderline', 'cardiomegaly', 'midline', 'ste...</td>\n",
       "    </tr>\n",
       "    <tr>\n",
       "      <td>2</td>\n",
       "      <td>1</td>\n",
       "      <td>displace rib fracture pneumothorax pleural eff...</td>\n",
       "      <td>['displace', 'rib', 'fracture', 'pneumothorax'...</td>\n",
       "    </tr>\n",
       "    <tr>\n",
       "      <td>3</td>\n",
       "      <td>0</td>\n",
       "      <td>diffuse bilateral interstitial alveolar opacit...</td>\n",
       "      <td>['diffuse', 'bilateral', 'interstitial', 'alve...</td>\n",
       "    </tr>\n",
       "    <tr>\n",
       "      <td>4</td>\n",
       "      <td>0</td>\n",
       "      <td>cardiomediastinal silhouette pulmonary vascula...</td>\n",
       "      <td>['cardiomediastinal', 'silhouette', 'pulmonary...</td>\n",
       "    </tr>\n",
       "  </tbody>\n",
       "</table>\n",
       "</div>"
      ],
      "text/plain": [
       "   ORIGINAL_LABEL                                         TEXTSTRING  \\\n",
       "0               1  cardiac silhouette mediastinum size within nor...   \n",
       "1               0  borderline cardiomegaly midline sternotomy xxx...   \n",
       "2               1  displace rib fracture pneumothorax pleural eff...   \n",
       "3               0  diffuse bilateral interstitial alveolar opacit...   \n",
       "4               0  cardiomediastinal silhouette pulmonary vascula...   \n",
       "\n",
       "                                            TEXTLIST  \n",
       "0  ['cardiac', 'silhouette', 'mediastinum', 'size...  \n",
       "1  ['borderline', 'cardiomegaly', 'midline', 'ste...  \n",
       "2  ['displace', 'rib', 'fracture', 'pneumothorax'...  \n",
       "3  ['diffuse', 'bilateral', 'interstitial', 'alve...  \n",
       "4  ['cardiomediastinal', 'silhouette', 'pulmonary...  "
      ]
     },
     "execution_count": 22,
     "metadata": {},
     "output_type": "execute_result"
    }
   ],
   "source": [
    "df = df.rename(columns = {\"LABEL\":\"ORIGINAL_LABEL\"})\n",
    "df.head()"
   ]
  },
  {
   "cell_type": "code",
   "execution_count": 23,
   "metadata": {},
   "outputs": [],
   "source": [
    "df[\"LABEL\"] = df[\"ORIGINAL_LABEL\"].apply(lambda x: 1 if x == 0 else 0)"
   ]
  },
  {
   "cell_type": "code",
   "execution_count": 24,
   "metadata": {},
   "outputs": [
    {
     "data": {
      "text/html": [
       "<div>\n",
       "<style scoped>\n",
       "    .dataframe tbody tr th:only-of-type {\n",
       "        vertical-align: middle;\n",
       "    }\n",
       "\n",
       "    .dataframe tbody tr th {\n",
       "        vertical-align: top;\n",
       "    }\n",
       "\n",
       "    .dataframe thead th {\n",
       "        text-align: right;\n",
       "    }\n",
       "</style>\n",
       "<table border=\"1\" class=\"dataframe\">\n",
       "  <thead>\n",
       "    <tr style=\"text-align: right;\">\n",
       "      <th></th>\n",
       "      <th>ORIGINAL_LABEL</th>\n",
       "      <th>TEXTSTRING</th>\n",
       "      <th>TEXTLIST</th>\n",
       "      <th>LABEL</th>\n",
       "    </tr>\n",
       "  </thead>\n",
       "  <tbody>\n",
       "    <tr>\n",
       "      <td>0</td>\n",
       "      <td>1</td>\n",
       "      <td>cardiac silhouette mediastinum size within nor...</td>\n",
       "      <td>['cardiac', 'silhouette', 'mediastinum', 'size...</td>\n",
       "      <td>0</td>\n",
       "    </tr>\n",
       "    <tr>\n",
       "      <td>1</td>\n",
       "      <td>0</td>\n",
       "      <td>borderline cardiomegaly midline sternotomy xxx...</td>\n",
       "      <td>['borderline', 'cardiomegaly', 'midline', 'ste...</td>\n",
       "      <td>1</td>\n",
       "    </tr>\n",
       "    <tr>\n",
       "      <td>2</td>\n",
       "      <td>1</td>\n",
       "      <td>displace rib fracture pneumothorax pleural eff...</td>\n",
       "      <td>['displace', 'rib', 'fracture', 'pneumothorax'...</td>\n",
       "      <td>0</td>\n",
       "    </tr>\n",
       "    <tr>\n",
       "      <td>3</td>\n",
       "      <td>0</td>\n",
       "      <td>diffuse bilateral interstitial alveolar opacit...</td>\n",
       "      <td>['diffuse', 'bilateral', 'interstitial', 'alve...</td>\n",
       "      <td>1</td>\n",
       "    </tr>\n",
       "    <tr>\n",
       "      <td>4</td>\n",
       "      <td>0</td>\n",
       "      <td>cardiomediastinal silhouette pulmonary vascula...</td>\n",
       "      <td>['cardiomediastinal', 'silhouette', 'pulmonary...</td>\n",
       "      <td>1</td>\n",
       "    </tr>\n",
       "  </tbody>\n",
       "</table>\n",
       "</div>"
      ],
      "text/plain": [
       "   ORIGINAL_LABEL                                         TEXTSTRING  \\\n",
       "0               1  cardiac silhouette mediastinum size within nor...   \n",
       "1               0  borderline cardiomegaly midline sternotomy xxx...   \n",
       "2               1  displace rib fracture pneumothorax pleural eff...   \n",
       "3               0  diffuse bilateral interstitial alveolar opacit...   \n",
       "4               0  cardiomediastinal silhouette pulmonary vascula...   \n",
       "\n",
       "                                            TEXTLIST  LABEL  \n",
       "0  ['cardiac', 'silhouette', 'mediastinum', 'size...      0  \n",
       "1  ['borderline', 'cardiomegaly', 'midline', 'ste...      1  \n",
       "2  ['displace', 'rib', 'fracture', 'pneumothorax'...      0  \n",
       "3  ['diffuse', 'bilateral', 'interstitial', 'alve...      1  \n",
       "4  ['cardiomediastinal', 'silhouette', 'pulmonary...      1  "
      ]
     },
     "execution_count": 24,
     "metadata": {},
     "output_type": "execute_result"
    }
   ],
   "source": [
    "df.head()"
   ]
  },
  {
   "cell_type": "code",
   "execution_count": 12,
   "metadata": {},
   "outputs": [],
   "source": [
    "df.to_csv(\"rev_clean_caml.csv\")"
   ]
  },
  {
   "cell_type": "code",
   "execution_count": null,
   "metadata": {},
   "outputs": [],
   "source": []
  }
 ],
 "metadata": {
  "kernelspec": {
   "display_name": "Python 3",
   "language": "python",
   "name": "python3"
  },
  "language_info": {
   "codemirror_mode": {
    "name": "ipython",
    "version": 3
   },
   "file_extension": ".py",
   "mimetype": "text/x-python",
   "name": "python",
   "nbconvert_exporter": "python",
   "pygments_lexer": "ipython3",
   "version": "3.7.4"
  }
 },
 "nbformat": 4,
 "nbformat_minor": 2
}
