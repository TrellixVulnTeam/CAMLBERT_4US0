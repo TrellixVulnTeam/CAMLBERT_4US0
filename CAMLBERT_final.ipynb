{
  "cells": [
    {
      "cell_type": "markdown",
      "metadata": {
        "id": "LdLekYQYrh9S"
      },
      "source": [
        "# CAML ClinicalBERT"
      ]
    },
    {
      "cell_type": "markdown",
      "metadata": {
        "id": "y7qLAVzqrh9U"
      },
      "source": [
        "This Jupyter Notebook file is a substitute for the original file I created for the project. Initially I was going to be reproducing the work of Nwamake Imasogie using MIMIC-III data, but because of a snafu with PhysioNet, I have had to resort to using the CAML data from one of the homework assignments. The preprocessing of this data is described in detail in prep_caml_data.ipynb, where I convert the original CAML data to a simple dataset containing TEXT and LABEL fields. Unlike the original CAML data, the LABEL is a binary value based on the first value found in the original CAML dataset's Label field."
      ]
    },
    {
      "cell_type": "markdown",
      "metadata": {
        "id": "km4BmVBUrh9V"
      },
      "source": [
        "Since all the NLP-style preprocessing is done in the other notebook, in this notebook, I simply import the CAML data I prepared in that notebook and run the same version of ClinicalBERT that Nwamake Imasogie used for her study."
      ]
    },
    {
      "cell_type": "code",
      "source": [
        "gpu_info = !nvidia-smi\n",
        "gpu_info = '\\n'.join(gpu_info)\n",
        "if gpu_info.find('failed') >= 0:\n",
        "  print('Not connected to a GPU')\n",
        "else:\n",
        "  print(gpu_info)"
      ],
      "metadata": {
        "colab": {
          "base_uri": "https://localhost:8080/"
        },
        "id": "Xc4x2w_rvwWF",
        "outputId": "62af0cd3-544a-4004-cea4-031c2fe587f1"
      },
      "execution_count": 207,
      "outputs": [
        {
          "output_type": "stream",
          "name": "stdout",
          "text": [
            "Sat May  7 19:19:43 2022       \n",
            "+-----------------------------------------------------------------------------+\n",
            "| NVIDIA-SMI 460.32.03    Driver Version: 460.32.03    CUDA Version: 11.2     |\n",
            "|-------------------------------+----------------------+----------------------+\n",
            "| GPU  Name        Persistence-M| Bus-Id        Disp.A | Volatile Uncorr. ECC |\n",
            "| Fan  Temp  Perf  Pwr:Usage/Cap|         Memory-Usage | GPU-Util  Compute M. |\n",
            "|                               |                      |               MIG M. |\n",
            "|===============================+======================+======================|\n",
            "|   0  Tesla P100-PCIE...  Off  | 00000000:00:04.0 Off |                    0 |\n",
            "| N/A   40C    P0    34W / 250W |   9175MiB / 16280MiB |      0%      Default |\n",
            "|                               |                      |                  N/A |\n",
            "+-------------------------------+----------------------+----------------------+\n",
            "                                                                               \n",
            "+-----------------------------------------------------------------------------+\n",
            "| Processes:                                                                  |\n",
            "|  GPU   GI   CI        PID   Type   Process name                  GPU Memory |\n",
            "|        ID   ID                                                   Usage      |\n",
            "|=============================================================================|\n",
            "+-----------------------------------------------------------------------------+\n"
          ]
        }
      ]
    },
    {
      "cell_type": "code",
      "source": [
        "from psutil import virtual_memory\n",
        "ram_gb = virtual_memory().total / 1e9\n",
        "print('Your runtime has {:.1f} gigabytes of available RAM\\n'.format(ram_gb))\n",
        "\n",
        "if ram_gb < 20:\n",
        "  print('Not using a high-RAM runtime')\n",
        "else:\n",
        "  print('You are using a high-RAM runtime!')"
      ],
      "metadata": {
        "colab": {
          "base_uri": "https://localhost:8080/"
        },
        "id": "QWZAYhIpvvP2",
        "outputId": "5048522c-19f3-459a-8dfa-859c9482bb30"
      },
      "execution_count": 208,
      "outputs": [
        {
          "output_type": "stream",
          "name": "stdout",
          "text": [
            "Your runtime has 27.3 gigabytes of available RAM\n",
            "\n",
            "You are using a high-RAM runtime!\n"
          ]
        }
      ]
    },
    {
      "cell_type": "code",
      "execution_count": 209,
      "metadata": {
        "id": "OhLT1KXqrh9V"
      },
      "outputs": [],
      "source": [
        "import pandas as pd\n",
        "import numpy as np\n",
        "import matplotlib.pyplot as plt\n",
        "import torch\n",
        "import os\n",
        "from tqdm import tqdm, trange"
      ]
    },
    {
      "cell_type": "code",
      "source": [
        "!pip install transformers"
      ],
      "metadata": {
        "colab": {
          "base_uri": "https://localhost:8080/"
        },
        "id": "0f-zvLB9oepp",
        "outputId": "05f0d0a8-b19a-482f-9f83-aa9fa6417165"
      },
      "execution_count": 210,
      "outputs": [
        {
          "output_type": "stream",
          "name": "stdout",
          "text": [
            "Requirement already satisfied: transformers in /usr/local/lib/python3.7/dist-packages (4.18.0)\n",
            "Requirement already satisfied: tqdm>=4.27 in /usr/local/lib/python3.7/dist-packages (from transformers) (4.64.0)\n",
            "Requirement already satisfied: filelock in /usr/local/lib/python3.7/dist-packages (from transformers) (3.6.0)\n",
            "Requirement already satisfied: numpy>=1.17 in /usr/local/lib/python3.7/dist-packages (from transformers) (1.21.6)\n",
            "Requirement already satisfied: regex!=2019.12.17 in /usr/local/lib/python3.7/dist-packages (from transformers) (2019.12.20)\n",
            "Requirement already satisfied: importlib-metadata in /usr/local/lib/python3.7/dist-packages (from transformers) (4.11.3)\n",
            "Requirement already satisfied: packaging>=20.0 in /usr/local/lib/python3.7/dist-packages (from transformers) (21.3)\n",
            "Requirement already satisfied: requests in /usr/local/lib/python3.7/dist-packages (from transformers) (2.23.0)\n",
            "Requirement already satisfied: sacremoses in /usr/local/lib/python3.7/dist-packages (from transformers) (0.0.53)\n",
            "Requirement already satisfied: pyyaml>=5.1 in /usr/local/lib/python3.7/dist-packages (from transformers) (6.0)\n",
            "Requirement already satisfied: tokenizers!=0.11.3,<0.13,>=0.11.1 in /usr/local/lib/python3.7/dist-packages (from transformers) (0.12.1)\n",
            "Requirement already satisfied: huggingface-hub<1.0,>=0.1.0 in /usr/local/lib/python3.7/dist-packages (from transformers) (0.5.1)\n",
            "Requirement already satisfied: typing-extensions>=3.7.4.3 in /usr/local/lib/python3.7/dist-packages (from huggingface-hub<1.0,>=0.1.0->transformers) (4.2.0)\n",
            "Requirement already satisfied: pyparsing!=3.0.5,>=2.0.2 in /usr/local/lib/python3.7/dist-packages (from packaging>=20.0->transformers) (3.0.8)\n",
            "Requirement already satisfied: zipp>=0.5 in /usr/local/lib/python3.7/dist-packages (from importlib-metadata->transformers) (3.8.0)\n",
            "Requirement already satisfied: urllib3!=1.25.0,!=1.25.1,<1.26,>=1.21.1 in /usr/local/lib/python3.7/dist-packages (from requests->transformers) (1.25.11)\n",
            "Requirement already satisfied: idna<3,>=2.5 in /usr/local/lib/python3.7/dist-packages (from requests->transformers) (2.10)\n",
            "Requirement already satisfied: certifi>=2017.4.17 in /usr/local/lib/python3.7/dist-packages (from requests->transformers) (2021.10.8)\n",
            "Requirement already satisfied: chardet<4,>=3.0.2 in /usr/local/lib/python3.7/dist-packages (from requests->transformers) (3.0.4)\n",
            "Requirement already satisfied: joblib in /usr/local/lib/python3.7/dist-packages (from sacremoses->transformers) (1.1.0)\n",
            "Requirement already satisfied: six in /usr/local/lib/python3.7/dist-packages (from sacremoses->transformers) (1.15.0)\n",
            "Requirement already satisfied: click in /usr/local/lib/python3.7/dist-packages (from sacremoses->transformers) (7.1.2)\n"
          ]
        }
      ]
    },
    {
      "cell_type": "code",
      "source": [
        "!pip install boto3"
      ],
      "metadata": {
        "colab": {
          "base_uri": "https://localhost:8080/"
        },
        "id": "P9BNJyc0fOtQ",
        "outputId": "fa6516e4-ad8c-42ab-e407-4ffb51551fc0"
      },
      "execution_count": 211,
      "outputs": [
        {
          "output_type": "stream",
          "name": "stdout",
          "text": [
            "Requirement already satisfied: boto3 in /usr/local/lib/python3.7/dist-packages (1.22.9)\n",
            "Requirement already satisfied: jmespath<2.0.0,>=0.7.1 in /usr/local/lib/python3.7/dist-packages (from boto3) (1.0.0)\n",
            "Requirement already satisfied: s3transfer<0.6.0,>=0.5.0 in /usr/local/lib/python3.7/dist-packages (from boto3) (0.5.2)\n",
            "Requirement already satisfied: botocore<1.26.0,>=1.25.9 in /usr/local/lib/python3.7/dist-packages (from boto3) (1.25.9)\n",
            "Requirement already satisfied: urllib3<1.27,>=1.25.4 in /usr/local/lib/python3.7/dist-packages (from botocore<1.26.0,>=1.25.9->boto3) (1.25.11)\n",
            "Requirement already satisfied: python-dateutil<3.0.0,>=2.1 in /usr/local/lib/python3.7/dist-packages (from botocore<1.26.0,>=1.25.9->boto3) (2.8.2)\n",
            "Requirement already satisfied: six>=1.5 in /usr/local/lib/python3.7/dist-packages (from python-dateutil<3.0.0,>=2.1->botocore<1.26.0,>=1.25.9->boto3) (1.15.0)\n"
          ]
        }
      ]
    },
    {
      "cell_type": "markdown",
      "metadata": {
        "id": "yP-cvWfSrh9W"
      },
      "source": [
        "#### File locations will differ depending on whether running on colab or your own machine\n",
        "- On colab, you need to place files in your drive.\n",
        "- On your own computer, file structure is as described below."
      ]
    },
    {
      "cell_type": "code",
      "execution_count": 212,
      "metadata": {
        "id": "DXXz8tmQrh9X"
      },
      "outputs": [],
      "source": [
        "# Set these flags depending on whether running on Colab or your own machine\n",
        "# I may end up adding other flags if I create new environments\n",
        "on_mac = False\n",
        "on_colab = True"
      ]
    },
    {
      "cell_type": "code",
      "execution_count": 213,
      "metadata": {
        "id": "g1Y3TNTarh9Y"
      },
      "outputs": [],
      "source": [
        "if on_mac == True:\n",
        "    results_location = 'results'\n",
        "    clean_caml_path = 'clean_caml.csv'\n",
        "    caml_data_folder = 'caml_data'\n",
        "    bert_model_folder = './model' # location simplified from original code\n",
        "\n",
        "    if os.path.isdir(results_location):\n",
        "        !rmdir results\n",
        "        # raise SystemExit(f'You need to move {results_location} before running cells!')\n",
        "        \n",
        "    if not os.path.isfile(clean_caml_path):\n",
        "        raise SystemExit(f'make sure {clean_caml_path} is in place before running cells!')\n",
        "        \n",
        "    if not os.path.isdir('caml_data'):\n",
        "        raise SystemExit(f'make sure {data_dir} is in place before running cells!')"
      ]
    },
    {
      "cell_type": "code",
      "source": [
        "    if on_colab == True:\n",
        "      from google.colab import drive\n",
        "      drive.mount('/content/drive')"
      ],
      "metadata": {
        "colab": {
          "base_uri": "https://localhost:8080/"
        },
        "id": "NjeU3qFkscIH",
        "outputId": "49f732ff-3081-4513-d093-d5a15e5471cf"
      },
      "execution_count": 214,
      "outputs": [
        {
          "output_type": "stream",
          "name": "stdout",
          "text": [
            "Drive already mounted at /content/drive; to attempt to forcibly remount, call drive.mount(\"/content/drive\", force_remount=True).\n"
          ]
        }
      ]
    },
    {
      "cell_type": "code",
      "source": [
        "# !ls /content/drive/MyDrive/CAMLBERT"
      ],
      "metadata": {
        "id": "aQ96dyL7slqo"
      },
      "execution_count": 215,
      "outputs": []
    },
    {
      "cell_type": "code",
      "execution_count": 216,
      "metadata": {
        "id": "RMitLGk2rh9Y"
      },
      "outputs": [],
      "source": [
        "if on_colab == True:\n",
        "\n",
        "    results_location = '/content/drive/My Drive/CAMLBERT/results'\n",
        "    # clean_caml_path = '/content/drive/My Drive/CAMLBERT/clean_caml.csv'\n",
        "    clean_caml_path = '/content/drive/My Drive/CAMLBERT/rev_clean_caml.csv'\n",
        "\n",
        "    caml_data_folder = '/content/drive/My Drive/CAMLBERT/caml_data'\n",
        "    bert_model_folder = '/content/drive/My Drive/CAMLBERT/model' # simplified compared to the original code\n",
        "\n",
        "    if os.path.isdir(results_location):\n",
        "        !rmdir /content/drive/My\\ Drive/CAMLBERT/results\n",
        "        # raise SystemExit(f'You need to move {results_location} before running cells!')\n",
        "        \n",
        "    if not os.path.isfile(clean_caml_path):\n",
        "        raise SystemExit(f'make sure {clean_caml_path} is in place before running cells!')\n",
        "        \n",
        "    if not os.path.isdir(caml_data_folder):\n",
        "        raise SystemExit(f'make sure {caml_data_folder} is in place before running cells!')"
      ]
    },
    {
      "cell_type": "code",
      "source": [
        "# !ls /content/drive/MyDrive/CAMLBERT"
      ],
      "metadata": {
        "id": "xrwxgpPfyHdz"
      },
      "execution_count": 217,
      "outputs": []
    },
    {
      "cell_type": "markdown",
      "source": [
        "### We need to decide whether to train or to do eval, or both. This allows you to set the flags here."
      ],
      "metadata": {
        "id": "DRIHhLFt-z2i"
      }
    },
    {
      "cell_type": "code",
      "execution_count": 218,
      "metadata": {
        "id": "mSMKHY3Frh9Z"
      },
      "outputs": [],
      "source": [
        "seed= 44 # random seed for initialization\n",
        "do_train = True # Whether to run training\n",
        "do_eval = True # Whether to run eval on the dev set."
      ]
    },
    {
      "cell_type": "code",
      "execution_count": 219,
      "metadata": {
        "colab": {
          "base_uri": "https://localhost:8080/",
          "height": 206
        },
        "id": "mnoqEhjPrh9a",
        "outputId": "ed311e8b-1975-443a-9c56-140651198a18"
      },
      "outputs": [
        {
          "output_type": "execute_result",
          "data": {
            "text/plain": [
              "   ID  Unnamed: 0  ORIGINAL_LABEL  \\\n",
              "0   0           0               1   \n",
              "1   1           1               0   \n",
              "2   2           2               1   \n",
              "3   3           3               0   \n",
              "4   4           4               0   \n",
              "\n",
              "                                                TEXT  \\\n",
              "0  cardiac silhouette mediastinum size within nor...   \n",
              "1  borderline cardiomegaly midline sternotomy xxx...   \n",
              "2  displace rib fracture pneumothorax pleural eff...   \n",
              "3  diffuse bilateral interstitial alveolar opacit...   \n",
              "4  cardiomediastinal silhouette pulmonary vascula...   \n",
              "\n",
              "                                            TEXTLIST  LABEL  \n",
              "0  ['cardiac', 'silhouette', 'mediastinum', 'size...      0  \n",
              "1  ['borderline', 'cardiomegaly', 'midline', 'ste...      1  \n",
              "2  ['displace', 'rib', 'fracture', 'pneumothorax'...      0  \n",
              "3  ['diffuse', 'bilateral', 'interstitial', 'alve...      1  \n",
              "4  ['cardiomediastinal', 'silhouette', 'pulmonary...      1  "
            ],
            "text/html": [
              "\n",
              "  <div id=\"df-39f47aa9-5df2-4a2f-847a-16b6d5ac8c43\">\n",
              "    <div class=\"colab-df-container\">\n",
              "      <div>\n",
              "<style scoped>\n",
              "    .dataframe tbody tr th:only-of-type {\n",
              "        vertical-align: middle;\n",
              "    }\n",
              "\n",
              "    .dataframe tbody tr th {\n",
              "        vertical-align: top;\n",
              "    }\n",
              "\n",
              "    .dataframe thead th {\n",
              "        text-align: right;\n",
              "    }\n",
              "</style>\n",
              "<table border=\"1\" class=\"dataframe\">\n",
              "  <thead>\n",
              "    <tr style=\"text-align: right;\">\n",
              "      <th></th>\n",
              "      <th>ID</th>\n",
              "      <th>Unnamed: 0</th>\n",
              "      <th>ORIGINAL_LABEL</th>\n",
              "      <th>TEXT</th>\n",
              "      <th>TEXTLIST</th>\n",
              "      <th>LABEL</th>\n",
              "    </tr>\n",
              "  </thead>\n",
              "  <tbody>\n",
              "    <tr>\n",
              "      <th>0</th>\n",
              "      <td>0</td>\n",
              "      <td>0</td>\n",
              "      <td>1</td>\n",
              "      <td>cardiac silhouette mediastinum size within nor...</td>\n",
              "      <td>['cardiac', 'silhouette', 'mediastinum', 'size...</td>\n",
              "      <td>0</td>\n",
              "    </tr>\n",
              "    <tr>\n",
              "      <th>1</th>\n",
              "      <td>1</td>\n",
              "      <td>1</td>\n",
              "      <td>0</td>\n",
              "      <td>borderline cardiomegaly midline sternotomy xxx...</td>\n",
              "      <td>['borderline', 'cardiomegaly', 'midline', 'ste...</td>\n",
              "      <td>1</td>\n",
              "    </tr>\n",
              "    <tr>\n",
              "      <th>2</th>\n",
              "      <td>2</td>\n",
              "      <td>2</td>\n",
              "      <td>1</td>\n",
              "      <td>displace rib fracture pneumothorax pleural eff...</td>\n",
              "      <td>['displace', 'rib', 'fracture', 'pneumothorax'...</td>\n",
              "      <td>0</td>\n",
              "    </tr>\n",
              "    <tr>\n",
              "      <th>3</th>\n",
              "      <td>3</td>\n",
              "      <td>3</td>\n",
              "      <td>0</td>\n",
              "      <td>diffuse bilateral interstitial alveolar opacit...</td>\n",
              "      <td>['diffuse', 'bilateral', 'interstitial', 'alve...</td>\n",
              "      <td>1</td>\n",
              "    </tr>\n",
              "    <tr>\n",
              "      <th>4</th>\n",
              "      <td>4</td>\n",
              "      <td>4</td>\n",
              "      <td>0</td>\n",
              "      <td>cardiomediastinal silhouette pulmonary vascula...</td>\n",
              "      <td>['cardiomediastinal', 'silhouette', 'pulmonary...</td>\n",
              "      <td>1</td>\n",
              "    </tr>\n",
              "  </tbody>\n",
              "</table>\n",
              "</div>\n",
              "      <button class=\"colab-df-convert\" onclick=\"convertToInteractive('df-39f47aa9-5df2-4a2f-847a-16b6d5ac8c43')\"\n",
              "              title=\"Convert this dataframe to an interactive table.\"\n",
              "              style=\"display:none;\">\n",
              "        \n",
              "  <svg xmlns=\"http://www.w3.org/2000/svg\" height=\"24px\"viewBox=\"0 0 24 24\"\n",
              "       width=\"24px\">\n",
              "    <path d=\"M0 0h24v24H0V0z\" fill=\"none\"/>\n",
              "    <path d=\"M18.56 5.44l.94 2.06.94-2.06 2.06-.94-2.06-.94-.94-2.06-.94 2.06-2.06.94zm-11 1L8.5 8.5l.94-2.06 2.06-.94-2.06-.94L8.5 2.5l-.94 2.06-2.06.94zm10 10l.94 2.06.94-2.06 2.06-.94-2.06-.94-.94-2.06-.94 2.06-2.06.94z\"/><path d=\"M17.41 7.96l-1.37-1.37c-.4-.4-.92-.59-1.43-.59-.52 0-1.04.2-1.43.59L10.3 9.45l-7.72 7.72c-.78.78-.78 2.05 0 2.83L4 21.41c.39.39.9.59 1.41.59.51 0 1.02-.2 1.41-.59l7.78-7.78 2.81-2.81c.8-.78.8-2.07 0-2.86zM5.41 20L4 18.59l7.72-7.72 1.47 1.35L5.41 20z\"/>\n",
              "  </svg>\n",
              "      </button>\n",
              "      \n",
              "  <style>\n",
              "    .colab-df-container {\n",
              "      display:flex;\n",
              "      flex-wrap:wrap;\n",
              "      gap: 12px;\n",
              "    }\n",
              "\n",
              "    .colab-df-convert {\n",
              "      background-color: #E8F0FE;\n",
              "      border: none;\n",
              "      border-radius: 50%;\n",
              "      cursor: pointer;\n",
              "      display: none;\n",
              "      fill: #1967D2;\n",
              "      height: 32px;\n",
              "      padding: 0 0 0 0;\n",
              "      width: 32px;\n",
              "    }\n",
              "\n",
              "    .colab-df-convert:hover {\n",
              "      background-color: #E2EBFA;\n",
              "      box-shadow: 0px 1px 2px rgba(60, 64, 67, 0.3), 0px 1px 3px 1px rgba(60, 64, 67, 0.15);\n",
              "      fill: #174EA6;\n",
              "    }\n",
              "\n",
              "    [theme=dark] .colab-df-convert {\n",
              "      background-color: #3B4455;\n",
              "      fill: #D2E3FC;\n",
              "    }\n",
              "\n",
              "    [theme=dark] .colab-df-convert:hover {\n",
              "      background-color: #434B5C;\n",
              "      box-shadow: 0px 1px 3px 1px rgba(0, 0, 0, 0.15);\n",
              "      filter: drop-shadow(0px 1px 2px rgba(0, 0, 0, 0.3));\n",
              "      fill: #FFFFFF;\n",
              "    }\n",
              "  </style>\n",
              "\n",
              "      <script>\n",
              "        const buttonEl =\n",
              "          document.querySelector('#df-39f47aa9-5df2-4a2f-847a-16b6d5ac8c43 button.colab-df-convert');\n",
              "        buttonEl.style.display =\n",
              "          google.colab.kernel.accessAllowed ? 'block' : 'none';\n",
              "\n",
              "        async function convertToInteractive(key) {\n",
              "          const element = document.querySelector('#df-39f47aa9-5df2-4a2f-847a-16b6d5ac8c43');\n",
              "          const dataTable =\n",
              "            await google.colab.kernel.invokeFunction('convertToInteractive',\n",
              "                                                     [key], {});\n",
              "          if (!dataTable) return;\n",
              "\n",
              "          const docLinkHtml = 'Like what you see? Visit the ' +\n",
              "            '<a target=\"_blank\" href=https://colab.research.google.com/notebooks/data_table.ipynb>data table notebook</a>'\n",
              "            + ' to learn more about interactive tables.';\n",
              "          element.innerHTML = '';\n",
              "          dataTable['output_type'] = 'display_data';\n",
              "          await google.colab.output.renderOutput(dataTable, element);\n",
              "          const docLink = document.createElement('div');\n",
              "          docLink.innerHTML = docLinkHtml;\n",
              "          element.appendChild(docLink);\n",
              "        }\n",
              "      </script>\n",
              "    </div>\n",
              "  </div>\n",
              "  "
            ]
          },
          "metadata": {},
          "execution_count": 219
        }
      ],
      "source": [
        "df_caml = pd.read_csv(clean_caml_path, header = [0])\n",
        "df_caml.reset_index(inplace=True)\n",
        "df_caml = df_caml.rename(columns={\"index\": \"ID\", \"TEXTSTRING\": \"TEXT\"})\n",
        "df_caml.head()"
      ]
    },
    {
      "cell_type": "code",
      "execution_count": 220,
      "metadata": {
        "id": "nda2AI_Srh9a"
      },
      "outputs": [],
      "source": [
        "from sklearn.model_selection import train_test_split\n",
        "# X = df_caml[[\"ID\", \"TEXT\"]] # maybe the problem is the use of \"ID\" TRY WITHOUT ID, SHOULDN'T MATTER THOUGH\n",
        "X = df_caml[[\"ID\", \"TEXT\"]]\n",
        "y = df_caml.LABEL\n",
        "X_train, X_val_test, y_train, y_val_test = train_test_split(X, y, test_size=0.20, random_state = 44)\n",
        "X_val, X_test, y_val, y_test = train_test_split(X_val_test, y_val_test, test_size = 0.50, random_state = 44)"
      ]
    },
    {
      "cell_type": "code",
      "execution_count": 221,
      "metadata": {
        "colab": {
          "base_uri": "https://localhost:8080/",
          "height": 206
        },
        "id": "rgPjbHD3rh9b",
        "outputId": "70d552c4-6c0c-4631-f5e4-7b240078de5c"
      },
      "outputs": [
        {
          "output_type": "execute_result",
          "data": {
            "text/plain": [
              "        ID                                               TEXT  LABEL\n",
              "3035  3035  heart normal size prominent right paratracheal...      1\n",
              "1768  1768  heart size mediastinal contour pulmonary vascu...      1\n",
              "682    682  persistent mild elevation right hemidiaphragm ...      1\n",
              "457    457  normal heart size mild tortuosity aorta pneumo...      1\n",
              "3188  3188  lung relatively clear heart size normal unfold...      1"
            ],
            "text/html": [
              "\n",
              "  <div id=\"df-d19d2fe8-4de1-4640-bb4f-f9237a586cef\">\n",
              "    <div class=\"colab-df-container\">\n",
              "      <div>\n",
              "<style scoped>\n",
              "    .dataframe tbody tr th:only-of-type {\n",
              "        vertical-align: middle;\n",
              "    }\n",
              "\n",
              "    .dataframe tbody tr th {\n",
              "        vertical-align: top;\n",
              "    }\n",
              "\n",
              "    .dataframe thead th {\n",
              "        text-align: right;\n",
              "    }\n",
              "</style>\n",
              "<table border=\"1\" class=\"dataframe\">\n",
              "  <thead>\n",
              "    <tr style=\"text-align: right;\">\n",
              "      <th></th>\n",
              "      <th>ID</th>\n",
              "      <th>TEXT</th>\n",
              "      <th>LABEL</th>\n",
              "    </tr>\n",
              "  </thead>\n",
              "  <tbody>\n",
              "    <tr>\n",
              "      <th>3035</th>\n",
              "      <td>3035</td>\n",
              "      <td>heart normal size prominent right paratracheal...</td>\n",
              "      <td>1</td>\n",
              "    </tr>\n",
              "    <tr>\n",
              "      <th>1768</th>\n",
              "      <td>1768</td>\n",
              "      <td>heart size mediastinal contour pulmonary vascu...</td>\n",
              "      <td>1</td>\n",
              "    </tr>\n",
              "    <tr>\n",
              "      <th>682</th>\n",
              "      <td>682</td>\n",
              "      <td>persistent mild elevation right hemidiaphragm ...</td>\n",
              "      <td>1</td>\n",
              "    </tr>\n",
              "    <tr>\n",
              "      <th>457</th>\n",
              "      <td>457</td>\n",
              "      <td>normal heart size mild tortuosity aorta pneumo...</td>\n",
              "      <td>1</td>\n",
              "    </tr>\n",
              "    <tr>\n",
              "      <th>3188</th>\n",
              "      <td>3188</td>\n",
              "      <td>lung relatively clear heart size normal unfold...</td>\n",
              "      <td>1</td>\n",
              "    </tr>\n",
              "  </tbody>\n",
              "</table>\n",
              "</div>\n",
              "      <button class=\"colab-df-convert\" onclick=\"convertToInteractive('df-d19d2fe8-4de1-4640-bb4f-f9237a586cef')\"\n",
              "              title=\"Convert this dataframe to an interactive table.\"\n",
              "              style=\"display:none;\">\n",
              "        \n",
              "  <svg xmlns=\"http://www.w3.org/2000/svg\" height=\"24px\"viewBox=\"0 0 24 24\"\n",
              "       width=\"24px\">\n",
              "    <path d=\"M0 0h24v24H0V0z\" fill=\"none\"/>\n",
              "    <path d=\"M18.56 5.44l.94 2.06.94-2.06 2.06-.94-2.06-.94-.94-2.06-.94 2.06-2.06.94zm-11 1L8.5 8.5l.94-2.06 2.06-.94-2.06-.94L8.5 2.5l-.94 2.06-2.06.94zm10 10l.94 2.06.94-2.06 2.06-.94-2.06-.94-.94-2.06-.94 2.06-2.06.94z\"/><path d=\"M17.41 7.96l-1.37-1.37c-.4-.4-.92-.59-1.43-.59-.52 0-1.04.2-1.43.59L10.3 9.45l-7.72 7.72c-.78.78-.78 2.05 0 2.83L4 21.41c.39.39.9.59 1.41.59.51 0 1.02-.2 1.41-.59l7.78-7.78 2.81-2.81c.8-.78.8-2.07 0-2.86zM5.41 20L4 18.59l7.72-7.72 1.47 1.35L5.41 20z\"/>\n",
              "  </svg>\n",
              "      </button>\n",
              "      \n",
              "  <style>\n",
              "    .colab-df-container {\n",
              "      display:flex;\n",
              "      flex-wrap:wrap;\n",
              "      gap: 12px;\n",
              "    }\n",
              "\n",
              "    .colab-df-convert {\n",
              "      background-color: #E8F0FE;\n",
              "      border: none;\n",
              "      border-radius: 50%;\n",
              "      cursor: pointer;\n",
              "      display: none;\n",
              "      fill: #1967D2;\n",
              "      height: 32px;\n",
              "      padding: 0 0 0 0;\n",
              "      width: 32px;\n",
              "    }\n",
              "\n",
              "    .colab-df-convert:hover {\n",
              "      background-color: #E2EBFA;\n",
              "      box-shadow: 0px 1px 2px rgba(60, 64, 67, 0.3), 0px 1px 3px 1px rgba(60, 64, 67, 0.15);\n",
              "      fill: #174EA6;\n",
              "    }\n",
              "\n",
              "    [theme=dark] .colab-df-convert {\n",
              "      background-color: #3B4455;\n",
              "      fill: #D2E3FC;\n",
              "    }\n",
              "\n",
              "    [theme=dark] .colab-df-convert:hover {\n",
              "      background-color: #434B5C;\n",
              "      box-shadow: 0px 1px 3px 1px rgba(0, 0, 0, 0.15);\n",
              "      filter: drop-shadow(0px 1px 2px rgba(0, 0, 0, 0.3));\n",
              "      fill: #FFFFFF;\n",
              "    }\n",
              "  </style>\n",
              "\n",
              "      <script>\n",
              "        const buttonEl =\n",
              "          document.querySelector('#df-d19d2fe8-4de1-4640-bb4f-f9237a586cef button.colab-df-convert');\n",
              "        buttonEl.style.display =\n",
              "          google.colab.kernel.accessAllowed ? 'block' : 'none';\n",
              "\n",
              "        async function convertToInteractive(key) {\n",
              "          const element = document.querySelector('#df-d19d2fe8-4de1-4640-bb4f-f9237a586cef');\n",
              "          const dataTable =\n",
              "            await google.colab.kernel.invokeFunction('convertToInteractive',\n",
              "                                                     [key], {});\n",
              "          if (!dataTable) return;\n",
              "\n",
              "          const docLinkHtml = 'Like what you see? Visit the ' +\n",
              "            '<a target=\"_blank\" href=https://colab.research.google.com/notebooks/data_table.ipynb>data table notebook</a>'\n",
              "            + ' to learn more about interactive tables.';\n",
              "          element.innerHTML = '';\n",
              "          dataTable['output_type'] = 'display_data';\n",
              "          await google.colab.output.renderOutput(dataTable, element);\n",
              "          const docLink = document.createElement('div');\n",
              "          docLink.innerHTML = docLinkHtml;\n",
              "          element.appendChild(docLink);\n",
              "        }\n",
              "      </script>\n",
              "    </div>\n",
              "  </div>\n",
              "  "
            ]
          },
          "metadata": {},
          "execution_count": 221
        }
      ],
      "source": [
        "XY_train = pd.concat([X_train, y_train], axis = 1)\n",
        "XY_val = pd.concat([X_val, y_val], axis = 1)\n",
        "XY_test = pd.concat([X_test, y_test], axis = 1)\n",
        "XY_train.head()"
      ]
    },
    {
      "cell_type": "code",
      "execution_count": 222,
      "metadata": {
        "id": "fFosExdfrh9b"
      },
      "outputs": [],
      "source": [
        "data_dir = caml_data_folder"
      ]
    },
    {
      "cell_type": "code",
      "execution_count": 223,
      "metadata": {
        "id": "u6lEUBFCrh9c"
      },
      "outputs": [],
      "source": [
        "train_path = os.path.join(caml_data_folder, 'train.csv')\n",
        "val_path = os.path.join(caml_data_folder, 'val.csv')\n",
        "test_path = os.path.join(caml_data_folder, 'test.csv')\n",
        "XY_train.to_csv(train_path, index = False)\n",
        "XY_val.to_csv(val_path, index = False)\n",
        "XY_test.to_csv(test_path, index = False)"
      ]
    },
    {
      "cell_type": "markdown",
      "metadata": {
        "id": "b92kWuZ7rh9c"
      },
      "source": [
        "# Run Model for Predicting Sickness Using CAML Data"
      ]
    },
    {
      "cell_type": "code",
      "execution_count": 224,
      "metadata": {
        "id": "slIMj92zrh9c"
      },
      "outputs": [],
      "source": [
        "# We need to figure out whether a GPU is available.\n",
        "local_rank = -1\n",
        "no_cuda = False # Set flag to True to disable CUDA"
      ]
    },
    {
      "cell_type": "code",
      "execution_count": 225,
      "metadata": {
        "id": "PwIfLln1rh9d",
        "colab": {
          "base_uri": "https://localhost:8080/"
        },
        "outputId": "4ea38341-0713-41c1-c46c-a42d010d1606"
      },
      "outputs": [
        {
          "output_type": "stream",
          "name": "stdout",
          "text": [
            "n_gpu: 1\n"
          ]
        }
      ],
      "source": [
        "if local_rank == -1 or no_cuda:\n",
        "    device = torch.device(\"cuda\" if torch.cuda.is_available() and not no_cuda else \"cpu\")\n",
        "    n_gpu = torch.cuda.device_count()\n",
        "else:\n",
        "    device = torch.device(\"cuda\", local_rank)\n",
        "    n_gpu = 1\n",
        "    # Initializes the distributed backend which will take care of sychronizing nodes/GPUs\n",
        "    torch.distributed.init_process_group(backend='nccl')\n",
        "print('n_gpu:', n_gpu)"
      ]
    },
    {
      "cell_type": "code",
      "execution_count": 226,
      "metadata": {
        "id": "HMbQC_3Erh9d"
      },
      "outputs": [],
      "source": [
        "import logging\n",
        "logging.basicConfig(format = '%(asctime)s - %(levelname)s - %(name)s -   %(message)s', \n",
        "                    datefmt = '%m/%d/%Y %H:%M:%S',\n",
        "                    level = logging.INFO)\n",
        "logger = logging.getLogger(__name__)"
      ]
    },
    {
      "cell_type": "code",
      "execution_count": 227,
      "metadata": {
        "colab": {
          "base_uri": "https://localhost:8080/"
        },
        "id": "vf4YWP7prh9d",
        "outputId": "7545caf2-2ce4-4ad8-9eff-a49f3ba1fd11"
      },
      "outputs": [
        {
          "output_type": "stream",
          "name": "stderr",
          "text": [
            "05/07/2022 19:19:51 - INFO - __main__ -   device: cuda n_gpu: 1 Distributed training: False\n"
          ]
        }
      ],
      "source": [
        "logger.info(\"device: %s n_gpu: %d Distributed training: %r\", device, n_gpu, bool(local_rank != -1))"
      ]
    },
    {
      "cell_type": "markdown",
      "metadata": {
        "id": "Ql4SgM77rh9e"
      },
      "source": [
        "Accumulating gradients just means that, before calling optimizer.step() to perform a step of gradient descent, we will sum the gradients of several backward operations in the parameter.grad tensors.\n",
        "\n",
        "Below I set the number of update steps to accumulate before performing a backward/update pass. I will set it to a default of 1. Feel free to change if needed.\n"
      ]
    },
    {
      "cell_type": "code",
      "execution_count": 228,
      "metadata": {
        "id": "1O7yLjf_rh9e"
      },
      "outputs": [],
      "source": [
        "gradient_accumulation_steps = 1"
      ]
    },
    {
      "cell_type": "code",
      "execution_count": 229,
      "metadata": {
        "id": "wW4zKuWerh9e"
      },
      "outputs": [],
      "source": [
        "if gradient_accumulation_steps < 1:\n",
        "    raise ValueError(\"Invalid gradient_accumulation_steps parameter: {}, should be >= 1\".format(gradient_accumulation_steps))"
      ]
    },
    {
      "cell_type": "code",
      "execution_count": 230,
      "metadata": {
        "id": "F5VH7fnTrh9f"
      },
      "outputs": [],
      "source": [
        "train_batch_size = 32\n",
        "train_batch_size = int(train_batch_size / gradient_accumulation_steps)"
      ]
    },
    {
      "cell_type": "code",
      "execution_count": 231,
      "metadata": {
        "id": "3aGjRG8arh9f"
      },
      "outputs": [],
      "source": [
        "import os\n",
        "import random"
      ]
    },
    {
      "cell_type": "markdown",
      "metadata": {
        "id": "WDlE9bgerh9f"
      },
      "source": [
        "Create the `temp_output` folder where results will go."
      ]
    },
    {
      "cell_type": "code",
      "execution_count": 232,
      "metadata": {
        "id": "QJIcLzUwrh9g"
      },
      "outputs": [],
      "source": [
        "random.seed(seed)\n",
        "np.random.seed(seed)\n",
        "torch.manual_seed(seed)\n",
        "\n",
        "if n_gpu > 0:\n",
        "    torch.cuda.manual_seed_all(seed)\n",
        "\n",
        "if not do_train and not do_eval:\n",
        "    raise ValueError(\"At least one of `do_train` or `do_eval` must be True.\")\n",
        "\n",
        "if os.path.exists(results_location) and os.listdir(results_location):\n",
        "    raise ValueError(\"Output directory ({}) already exists and should be renamed to store its contents and results.\".format(results_location))\n",
        "\n",
        "os.makedirs(results_location, exist_ok=True)"
      ]
    },
    {
      "cell_type": "markdown",
      "metadata": {
        "id": "7iLj8ARrrh9g"
      },
      "source": [
        "# Define Classes Needed to Assess Sickness"
      ]
    },
    {
      "cell_type": "code",
      "execution_count": 233,
      "metadata": {
        "id": "R7qvAWl2rh9g"
      },
      "outputs": [],
      "source": [
        "class InputExample(object):\n",
        "    \"\"\"A single training/test example for simple sequence classification.\"\"\"\n",
        "\n",
        "    def __init__(self, guid, text_a, text_b=None, label=None):\n",
        "        \"\"\"Constructs a InputExample.\n",
        "\n",
        "        Args:\n",
        "            guid: Unique id for the example.\n",
        "            text_a: string. The untokenized text of the first sequence. For single\n",
        "            sequence tasks, only this sequence must be specified.\n",
        "            text_b: (Optional) string. The untokenized text of the second sequence.\n",
        "            Only must be specified for sequence pair tasks.\n",
        "            label: (Optional) string. The label of the example. This should be\n",
        "            specified for train and dev examples, but not for test examples.\n",
        "        \"\"\"\n",
        "        self.guid = guid\n",
        "        self.text_a = text_a\n",
        "        self.text_b = text_b\n",
        "        self.label = label"
      ]
    },
    {
      "cell_type": "markdown",
      "metadata": {
        "id": "1XK6t060rh9g"
      },
      "source": [
        "In our case, the InputExample objects will only have `guid`, `text_a`, and `label`. The `guid` (as defined below) will look like \"train.csv 3\" (dataset source and number), `text_a` will come from TEXT, and  `label` will come from the LABEL field."
      ]
    },
    {
      "cell_type": "code",
      "execution_count": 234,
      "metadata": {
        "id": "1633xxaurh9h"
      },
      "outputs": [],
      "source": [
        "class DataProcessor(object):\n",
        "    \"\"\"Base class for data converters for sequence classification data sets.\"\"\"\n",
        "\n",
        "    def get_train_examples(self, data_dir):\n",
        "        \"\"\"Gets a collection of `InputExample`s for the train set.\"\"\"\n",
        "        raise NotImplementedError()\n",
        "\n",
        "    def get_dev_examples(self, data_dir):\n",
        "        \"\"\"Gets a collection of `InputExample`s for the dev set.\"\"\"\n",
        "        raise NotImplementedError()\n",
        "\n",
        "    def get_labels(self):\n",
        "        \"\"\"Gets the list of labels for this data set.\"\"\"\n",
        "        raise NotImplementedError()\n",
        "\n",
        "    @classmethod\n",
        "    def _read_tsv(cls, input_file, quotechar=None):\n",
        "        \"\"\"Reads a tab separated value file.\"\"\"\n",
        "        with open(input_file, \"r\") as f:\n",
        "            reader = csv.reader(f, delimiter=\"\\t\", quotechar=quotechar)\n",
        "            lines = []\n",
        "            for line in reader:\n",
        "                lines.append(line)\n",
        "            return lines\n",
        "        \n",
        "    @classmethod\n",
        "    def _read_csv(cls, input_file):\n",
        "        \"\"\"Reads a comma separated value file.\"\"\"\n",
        "        file=pd.read_csv(input_file)\n",
        "        lines=zip(file.ID,file.TEXT,file.LABEL) # had to change Label to LABEL\n",
        "        print(lines)\n",
        "        return lines"
      ]
    },
    {
      "cell_type": "code",
      "execution_count": 235,
      "metadata": {
        "id": "Ubxki10Zrh9i",
        "colab": {
          "base_uri": "https://localhost:8080/",
          "height": 71
        },
        "outputId": "681e9eec-2291-423c-e11f-28a5a4d88cd4"
      },
      "outputs": [
        {
          "output_type": "execute_result",
          "data": {
            "text/plain": [
              "'\\nIf you print out, the input appears to be correct. text_ gets a list of words presented as a string, and the label is 0 or 1 (as a string)\\n\\nid 1201\\ntext_a: heart size pulmonary vascularity appear within normal limit lung free focal airspace disease pleural effusion pneumothorax see xxxx xxxx foreign body note soft tissue leave chest wall evidence active disease\\nlabel: 0\\nid 2437\\ntext_a: stable cm right apical pneumothorax minimal atelectasis leave base heart size normal\\nlabel: 0\\n'"
            ],
            "application/vnd.google.colaboratory.intrinsic+json": {
              "type": "string"
            }
          },
          "metadata": {},
          "execution_count": 235
        }
      ],
      "source": [
        "class CamlDataProcessor(DataProcessor):\n",
        "    def get_train_examples(self, data_dir):\n",
        "        logger.info(\"Retrieving data examples from {}\".format(os.path.join(data_dir, \"train.csv\")))\n",
        "        return self._create_examples(self._read_csv(os.path.join(data_dir, \"train.csv\")), \"train\")\n",
        "    \n",
        "    def get_dev_examples(self, data_dir):\n",
        "        logger.info(\"Retrieving data examples from {}\".format(os.path.join(data_dir, \"val.csv\")))\n",
        "        return self._create_examples(self._read_csv(os.path.join(data_dir, \"val.csv\")), \"val\")\n",
        "    \n",
        "    def get_test_examples(self, data_dir):\n",
        "        logger.info(\"Retrieving data examples from {}\".format(os.path.join(data_dir, \"test.csv\")))\n",
        "        return self._create_examples(self._read_csv(os.path.join(data_dir, \"test.csv\")), \"test\")\n",
        "    \n",
        "    def get_labels(self):\n",
        "        return [\"0\", \"1\"] # QUESTION: SHOULD THESE BE INTEGERS\n",
        "    \n",
        "    # Why was this made a non-callable method?\n",
        "    def _create_examples(self, lines, data_set_type):\n",
        "        \"\"\"Creates examples for the training and dev sets.\"\"\"\n",
        "        examples = []\n",
        "        for (i, line) in enumerate(lines):\n",
        "            guid = \"%s-%s\" % (data_set_type, i)\n",
        "            # print(f'id {line[0]}')\n",
        "            text_a = line[1]\n",
        "            # print(f'text_a: {text_a}') # APPEARS TO WORK CORRECT: string of tokenized and separated words\n",
        "            label = str(int(line[2])) \n",
        "            # print(f'label: {label}') # APPEARS TO WORK CORRECTLY: prints a number 1 or 0\n",
        "            examples.append(InputExample(guid=guid, text_a=text_a, text_b=None, label=label))\n",
        "        return examples\n",
        "\n",
        "'''\n",
        "If you print out, the input appears to be correct. text_ gets a list of words presented as a string, and the label is 0 or 1 (as a string)\n",
        "\n",
        "id 1201\n",
        "text_a: heart size pulmonary vascularity appear within normal limit lung free focal airspace disease pleural effusion pneumothorax see xxxx xxxx foreign body note soft tissue leave chest wall evidence active disease\n",
        "label: 0\n",
        "id 2437\n",
        "text_a: stable cm right apical pneumothorax minimal atelectasis leave base heart size normal\n",
        "label: 0\n",
        "'''"
      ]
    },
    {
      "cell_type": "code",
      "execution_count": 236,
      "metadata": {
        "id": "CO0H1wkTrh9i"
      },
      "outputs": [],
      "source": [
        "processor = CamlDataProcessor()"
      ]
    },
    {
      "cell_type": "code",
      "execution_count": 237,
      "metadata": {
        "colab": {
          "base_uri": "https://localhost:8080/",
          "height": 53
        },
        "id": "cD6fB7mnrh9j",
        "outputId": "2239a7f5-1e97-4720-ea78-6af49a3a60ac"
      },
      "outputs": [
        {
          "output_type": "stream",
          "name": "stdout",
          "text": [
            "<zip object at 0x7facd9063d20>\n"
          ]
        },
        {
          "output_type": "execute_result",
          "data": {
            "text/plain": [
              "'\\n[<__main__.InputExample at 0x7f84a38125d0>,\\n <__main__.InputExample at 0x7f84a38079d0>, .... \\n]\\n'"
            ],
            "application/vnd.google.colaboratory.intrinsic+json": {
              "type": "string"
            }
          },
          "metadata": {},
          "execution_count": 237
        }
      ],
      "source": [
        "# Let's look at some train examples.\n",
        "if do_train == True:\n",
        "    train_lines = CamlDataProcessor._read_csv(os.path.join(caml_data_folder,'train.csv'))\n",
        "    train_examples = CamlDataProcessor._create_examples(processor, train_lines, 'train')\n",
        "\n",
        "# Printing train_examples => leads to\n",
        "'''\n",
        "[<__main__.InputExample at 0x7f84a38125d0>,\n",
        " <__main__.InputExample at 0x7f84a38079d0>, .... \n",
        "]\n",
        "'''"
      ]
    },
    {
      "cell_type": "code",
      "execution_count": 238,
      "metadata": {
        "id": "7UV8UsQdrh9j"
      },
      "outputs": [],
      "source": [
        "### QUESTION: IT'S UNCLEAR WHETHER LABELS SHOULD BE STRINGS OR INTEGERS"
      ]
    },
    {
      "cell_type": "code",
      "execution_count": 239,
      "metadata": {
        "colab": {
          "base_uri": "https://localhost:8080/"
        },
        "id": "zYWh8fKbrh9k",
        "outputId": "1ec25413-4360-4403-8071-b71faaeb5529"
      },
      "outputs": [
        {
          "output_type": "execute_result",
          "data": {
            "text/plain": [
              "['0', '1']"
            ]
          },
          "metadata": {},
          "execution_count": 239
        }
      ],
      "source": [
        "label_list = processor.get_labels() # label_list = ['0', '1']\n",
        "label_list"
      ]
    },
    {
      "cell_type": "code",
      "execution_count": 240,
      "metadata": {
        "colab": {
          "base_uri": "https://localhost:8080/"
        },
        "id": "gqN4v2Aurh9k",
        "outputId": "22e2a91e-9e94-4029-e0a3-8f80760e681b"
      },
      "outputs": [
        {
          "output_type": "stream",
          "name": "stdout",
          "text": [
            "done\n"
          ]
        }
      ],
      "source": [
        "from transformers import BertTokenizer\n",
        "print('done')"
      ]
    },
    {
      "cell_type": "markdown",
      "metadata": {
        "id": "fqzQPph_rh9k"
      },
      "source": [
        "### Tokenization\n",
        "During tokenization, each word in the sentence is broken apart into smaller and smaller tokens (word pieces) until all the tokens in the dataset are recognized by the Transformer."
      ]
    },
    {
      "cell_type": "code",
      "execution_count": 241,
      "metadata": {
        "colab": {
          "base_uri": "https://localhost:8080/"
        },
        "id": "ruvPj817rh9l",
        "outputId": "ba4f7ca2-bbd2-4cdb-9f56-0fc0a8e2c943"
      },
      "outputs": [
        {
          "output_type": "stream",
          "name": "stdout",
          "text": [
            "done\n"
          ]
        }
      ],
      "source": [
        "tokenizer = BertTokenizer.from_pretrained('bert-base-uncased') \n",
        "print('done')"
      ]
    },
    {
      "cell_type": "code",
      "source": [
        "test_sequence = \"In a hole in the ground there lived a hobbit.\"\n",
        "print(tokenizer(test_sequence))"
      ],
      "metadata": {
        "colab": {
          "base_uri": "https://localhost:8080/"
        },
        "id": "zLnuonn_Th6i",
        "outputId": "bf67885c-1280-46f1-a0e0-42eb290f8d68"
      },
      "execution_count": 242,
      "outputs": [
        {
          "output_type": "stream",
          "name": "stdout",
          "text": [
            "{'input_ids': [101, 1999, 1037, 4920, 1999, 1996, 2598, 2045, 2973, 1037, 7570, 10322, 4183, 1012, 102], 'token_type_ids': [0, 0, 0, 0, 0, 0, 0, 0, 0, 0, 0, 0, 0, 0, 0], 'attention_mask': [1, 1, 1, 1, 1, 1, 1, 1, 1, 1, 1, 1, 1, 1, 1]}\n"
          ]
        }
      ]
    },
    {
      "cell_type": "markdown",
      "metadata": {
        "id": "OfE03r9Mrh9l"
      },
      "source": [
        "The code below is only needed if you want to pre-train ClinicalBERT. If you want to perform pre-training of BERT yourself, you should have set the variable do_train earlier to True."
      ]
    },
    {
      "cell_type": "markdown",
      "metadata": {
        "id": "x57S4F91rh9l"
      },
      "source": [
        "### Choosing the number of epochs \n",
        "\n",
        "1.   Theoretically, because BERT is pretrained, we should be able to get away with using a single epoch.\n",
        "2.   I tried using as many as 8, but it seemed to make no difference."
      ]
    },
    {
      "cell_type": "code",
      "execution_count": 243,
      "metadata": {
        "colab": {
          "base_uri": "https://localhost:8080/"
        },
        "id": "FzTSQ5Derh9l",
        "outputId": "fb4d3069-4c27-410e-a70c-ebb670b8f830"
      },
      "outputs": [
        {
          "output_type": "stream",
          "name": "stderr",
          "text": [
            "05/07/2022 19:19:52 - INFO - __main__ -   Retrieving data examples from /content/drive/My Drive/CAMLBERT/caml_data/train.csv\n"
          ]
        },
        {
          "output_type": "stream",
          "name": "stdout",
          "text": [
            "<zip object at 0x7facc34f9f00>\n",
            "98\n"
          ]
        }
      ],
      "source": [
        "# Try putting do_train to True to see what happens\n",
        "# do_train = False This flag no set above\n",
        "# num_train_epochs = 10 # CAN ADJUST THIS\n",
        "num_train_epochs = 1 # TRYING TO JUST DO ONE! It is supposed to be sufficient\n",
        "train_examples = None\n",
        "num_train_steps = None\n",
        "if do_train:\n",
        "    train_examples = processor.get_train_examples(data_dir)\n",
        "    num_train_steps = int(\n",
        "        len(train_examples) / train_batch_size / gradient_accumulation_steps * num_train_epochs)\n",
        "# print(do_train)\n",
        "print(num_train_steps)\n",
        "# print(train_examples)"
      ]
    },
    {
      "cell_type": "markdown",
      "metadata": {
        "id": "Y0XSL9pBrh9l"
      },
      "source": [
        "# Prepare Model\n",
        "To import a custom module into Jupyter notebook, use sys.path.append because Jupyter doesn't always see/find the module you uploaded. Thanks to this Stack Overflow [answer](https://stackoverflow.com/questions/53049195/importing-custom-module-into-jupyter-notebook). "
      ]
    },
    {
      "cell_type": "code",
      "execution_count": 244,
      "metadata": {
        "id": "63hHDn5wrh9l"
      },
      "outputs": [],
      "source": [
        "import sys"
      ]
    },
    {
      "cell_type": "code",
      "execution_count": 245,
      "metadata": {
        "id": "pXbyNkwArh9l"
      },
      "outputs": [],
      "source": [
        "sys.path.append('./')\n",
        "sys.path.append('/content/drive/My Drive/CAMLBERT/')\n",
        "sys.path.append('/usr/local/lib/python3.7/dist-packages')"
      ]
    },
    {
      "cell_type": "code",
      "execution_count": 246,
      "metadata": {
        "id": "4d_z7FNhrh9m"
      },
      "outputs": [],
      "source": [
        "#!pip install file_utils"
      ]
    },
    {
      "cell_type": "code",
      "source": [
        "# !ls /usr/local/lib/python3.7/dist-packages"
      ],
      "metadata": {
        "id": "AZm208zYWDF_"
      },
      "execution_count": 247,
      "outputs": []
    },
    {
      "cell_type": "code",
      "source": [
        "# !cat /usr/local/lib/python3.7/dist-packages/file.utils-0.0.1.dist-info"
      ],
      "metadata": {
        "id": "lcLNc1QIWPct"
      },
      "execution_count": 248,
      "outputs": []
    },
    {
      "cell_type": "code",
      "source": [
        "# !ls /usr/local/lib/python3.7/dist-packages/file.utils-0.0.1.dist-info"
      ],
      "metadata": {
        "id": "H1vI8nxsWmgI"
      },
      "execution_count": 249,
      "outputs": []
    },
    {
      "cell_type": "code",
      "source": [
        "from file_utils import cached_path"
      ],
      "metadata": {
        "id": "65F64NWmJyXA"
      },
      "execution_count": 250,
      "outputs": []
    },
    {
      "cell_type": "code",
      "source": [
        "from modeling_readmission import BertForSequenceClassification "
      ],
      "metadata": {
        "id": "7UcOQysHJMH8"
      },
      "execution_count": 251,
      "outputs": []
    },
    {
      "cell_type": "markdown",
      "metadata": {
        "id": "7sMgnvQwrh9m"
      },
      "source": [
        "`bert_model` is the BERT pre-trained model selected from the list: \n",
        "* bert-base-uncased\n",
        "* bert-large-uncased\n",
        "* bert-base-cased\n",
        "* bert-base-multilingual\n",
        "* bert-base-chinese"
      ]
    },
    {
      "cell_type": "markdown",
      "metadata": {
        "id": "RmDeDvUlrh9m"
      },
      "source": [
        "The main breaking change when migrating from pytorch-pretrained-bert to transformers is that the models forward method always outputs a tuple with various elements depending on the model and the configuration parameters."
      ]
    },
    {
      "cell_type": "code",
      "execution_count": 252,
      "metadata": {
        "colab": {
          "base_uri": "https://localhost:8080/"
        },
        "id": "rV0bNhUxrh9n",
        "outputId": "92e80a95-08db-4bee-962b-44c8e41f173b"
      },
      "outputs": [
        {
          "output_type": "stream",
          "name": "stderr",
          "text": [
            "05/07/2022 19:19:52 - INFO - modeling_readmission -   loading archive file /content/drive/My Drive/CAMLBERT/model\n",
            "05/07/2022 19:19:52 - INFO - modeling_readmission -   Model config {\n",
            "  \"attention_probs_dropout_prob\": 0.1,\n",
            "  \"hidden_act\": \"gelu\",\n",
            "  \"hidden_dropout_prob\": 0.1,\n",
            "  \"hidden_size\": 768,\n",
            "  \"initializer_range\": 0.02,\n",
            "  \"intermediate_size\": 3072,\n",
            "  \"max_position_embeddings\": 512,\n",
            "  \"num_attention_heads\": 12,\n",
            "  \"num_hidden_layers\": 12,\n",
            "  \"type_vocab_size\": 2,\n",
            "  \"vocab_size\": 30522\n",
            "}\n",
            "\n"
          ]
        }
      ],
      "source": [
        "model = BertForSequenceClassification.from_pretrained(bert_model_folder, 1) # changed bert_model to bert_model_folder"
      ]
    },
    {
      "cell_type": "code",
      "execution_count": 253,
      "metadata": {
        "colab": {
          "base_uri": "https://localhost:8080/"
        },
        "id": "_D-xWs0Rrh9n",
        "outputId": "95e7455c-606f-4ce7-e113-96527d37d332"
      },
      "outputs": [
        {
          "output_type": "execute_result",
          "data": {
            "text/plain": [
              "BertForSequenceClassification(\n",
              "  (bert): BertModel(\n",
              "    (embeddings): BertEmbeddings(\n",
              "      (word_embeddings): Embedding(30522, 768)\n",
              "      (position_embeddings): Embedding(512, 768)\n",
              "      (token_type_embeddings): Embedding(2, 768)\n",
              "      (LayerNorm): BertLayerNorm()\n",
              "      (dropout): Dropout(p=0.1, inplace=False)\n",
              "    )\n",
              "    (encoder): BertEncoder(\n",
              "      (layer): ModuleList(\n",
              "        (0): BertLayer(\n",
              "          (attention): BertAttention(\n",
              "            (self): BertSelfAttention(\n",
              "              (query): Linear(in_features=768, out_features=768, bias=True)\n",
              "              (key): Linear(in_features=768, out_features=768, bias=True)\n",
              "              (value): Linear(in_features=768, out_features=768, bias=True)\n",
              "              (dropout): Dropout(p=0.1, inplace=False)\n",
              "            )\n",
              "            (output): BertSelfOutput(\n",
              "              (dense): Linear(in_features=768, out_features=768, bias=True)\n",
              "              (LayerNorm): BertLayerNorm()\n",
              "              (dropout): Dropout(p=0.1, inplace=False)\n",
              "            )\n",
              "          )\n",
              "          (intermediate): BertIntermediate(\n",
              "            (dense): Linear(in_features=768, out_features=3072, bias=True)\n",
              "          )\n",
              "          (output): BertOutput(\n",
              "            (dense): Linear(in_features=3072, out_features=768, bias=True)\n",
              "            (LayerNorm): BertLayerNorm()\n",
              "            (dropout): Dropout(p=0.1, inplace=False)\n",
              "          )\n",
              "        )\n",
              "        (1): BertLayer(\n",
              "          (attention): BertAttention(\n",
              "            (self): BertSelfAttention(\n",
              "              (query): Linear(in_features=768, out_features=768, bias=True)\n",
              "              (key): Linear(in_features=768, out_features=768, bias=True)\n",
              "              (value): Linear(in_features=768, out_features=768, bias=True)\n",
              "              (dropout): Dropout(p=0.1, inplace=False)\n",
              "            )\n",
              "            (output): BertSelfOutput(\n",
              "              (dense): Linear(in_features=768, out_features=768, bias=True)\n",
              "              (LayerNorm): BertLayerNorm()\n",
              "              (dropout): Dropout(p=0.1, inplace=False)\n",
              "            )\n",
              "          )\n",
              "          (intermediate): BertIntermediate(\n",
              "            (dense): Linear(in_features=768, out_features=3072, bias=True)\n",
              "          )\n",
              "          (output): BertOutput(\n",
              "            (dense): Linear(in_features=3072, out_features=768, bias=True)\n",
              "            (LayerNorm): BertLayerNorm()\n",
              "            (dropout): Dropout(p=0.1, inplace=False)\n",
              "          )\n",
              "        )\n",
              "        (2): BertLayer(\n",
              "          (attention): BertAttention(\n",
              "            (self): BertSelfAttention(\n",
              "              (query): Linear(in_features=768, out_features=768, bias=True)\n",
              "              (key): Linear(in_features=768, out_features=768, bias=True)\n",
              "              (value): Linear(in_features=768, out_features=768, bias=True)\n",
              "              (dropout): Dropout(p=0.1, inplace=False)\n",
              "            )\n",
              "            (output): BertSelfOutput(\n",
              "              (dense): Linear(in_features=768, out_features=768, bias=True)\n",
              "              (LayerNorm): BertLayerNorm()\n",
              "              (dropout): Dropout(p=0.1, inplace=False)\n",
              "            )\n",
              "          )\n",
              "          (intermediate): BertIntermediate(\n",
              "            (dense): Linear(in_features=768, out_features=3072, bias=True)\n",
              "          )\n",
              "          (output): BertOutput(\n",
              "            (dense): Linear(in_features=3072, out_features=768, bias=True)\n",
              "            (LayerNorm): BertLayerNorm()\n",
              "            (dropout): Dropout(p=0.1, inplace=False)\n",
              "          )\n",
              "        )\n",
              "        (3): BertLayer(\n",
              "          (attention): BertAttention(\n",
              "            (self): BertSelfAttention(\n",
              "              (query): Linear(in_features=768, out_features=768, bias=True)\n",
              "              (key): Linear(in_features=768, out_features=768, bias=True)\n",
              "              (value): Linear(in_features=768, out_features=768, bias=True)\n",
              "              (dropout): Dropout(p=0.1, inplace=False)\n",
              "            )\n",
              "            (output): BertSelfOutput(\n",
              "              (dense): Linear(in_features=768, out_features=768, bias=True)\n",
              "              (LayerNorm): BertLayerNorm()\n",
              "              (dropout): Dropout(p=0.1, inplace=False)\n",
              "            )\n",
              "          )\n",
              "          (intermediate): BertIntermediate(\n",
              "            (dense): Linear(in_features=768, out_features=3072, bias=True)\n",
              "          )\n",
              "          (output): BertOutput(\n",
              "            (dense): Linear(in_features=3072, out_features=768, bias=True)\n",
              "            (LayerNorm): BertLayerNorm()\n",
              "            (dropout): Dropout(p=0.1, inplace=False)\n",
              "          )\n",
              "        )\n",
              "        (4): BertLayer(\n",
              "          (attention): BertAttention(\n",
              "            (self): BertSelfAttention(\n",
              "              (query): Linear(in_features=768, out_features=768, bias=True)\n",
              "              (key): Linear(in_features=768, out_features=768, bias=True)\n",
              "              (value): Linear(in_features=768, out_features=768, bias=True)\n",
              "              (dropout): Dropout(p=0.1, inplace=False)\n",
              "            )\n",
              "            (output): BertSelfOutput(\n",
              "              (dense): Linear(in_features=768, out_features=768, bias=True)\n",
              "              (LayerNorm): BertLayerNorm()\n",
              "              (dropout): Dropout(p=0.1, inplace=False)\n",
              "            )\n",
              "          )\n",
              "          (intermediate): BertIntermediate(\n",
              "            (dense): Linear(in_features=768, out_features=3072, bias=True)\n",
              "          )\n",
              "          (output): BertOutput(\n",
              "            (dense): Linear(in_features=3072, out_features=768, bias=True)\n",
              "            (LayerNorm): BertLayerNorm()\n",
              "            (dropout): Dropout(p=0.1, inplace=False)\n",
              "          )\n",
              "        )\n",
              "        (5): BertLayer(\n",
              "          (attention): BertAttention(\n",
              "            (self): BertSelfAttention(\n",
              "              (query): Linear(in_features=768, out_features=768, bias=True)\n",
              "              (key): Linear(in_features=768, out_features=768, bias=True)\n",
              "              (value): Linear(in_features=768, out_features=768, bias=True)\n",
              "              (dropout): Dropout(p=0.1, inplace=False)\n",
              "            )\n",
              "            (output): BertSelfOutput(\n",
              "              (dense): Linear(in_features=768, out_features=768, bias=True)\n",
              "              (LayerNorm): BertLayerNorm()\n",
              "              (dropout): Dropout(p=0.1, inplace=False)\n",
              "            )\n",
              "          )\n",
              "          (intermediate): BertIntermediate(\n",
              "            (dense): Linear(in_features=768, out_features=3072, bias=True)\n",
              "          )\n",
              "          (output): BertOutput(\n",
              "            (dense): Linear(in_features=3072, out_features=768, bias=True)\n",
              "            (LayerNorm): BertLayerNorm()\n",
              "            (dropout): Dropout(p=0.1, inplace=False)\n",
              "          )\n",
              "        )\n",
              "        (6): BertLayer(\n",
              "          (attention): BertAttention(\n",
              "            (self): BertSelfAttention(\n",
              "              (query): Linear(in_features=768, out_features=768, bias=True)\n",
              "              (key): Linear(in_features=768, out_features=768, bias=True)\n",
              "              (value): Linear(in_features=768, out_features=768, bias=True)\n",
              "              (dropout): Dropout(p=0.1, inplace=False)\n",
              "            )\n",
              "            (output): BertSelfOutput(\n",
              "              (dense): Linear(in_features=768, out_features=768, bias=True)\n",
              "              (LayerNorm): BertLayerNorm()\n",
              "              (dropout): Dropout(p=0.1, inplace=False)\n",
              "            )\n",
              "          )\n",
              "          (intermediate): BertIntermediate(\n",
              "            (dense): Linear(in_features=768, out_features=3072, bias=True)\n",
              "          )\n",
              "          (output): BertOutput(\n",
              "            (dense): Linear(in_features=3072, out_features=768, bias=True)\n",
              "            (LayerNorm): BertLayerNorm()\n",
              "            (dropout): Dropout(p=0.1, inplace=False)\n",
              "          )\n",
              "        )\n",
              "        (7): BertLayer(\n",
              "          (attention): BertAttention(\n",
              "            (self): BertSelfAttention(\n",
              "              (query): Linear(in_features=768, out_features=768, bias=True)\n",
              "              (key): Linear(in_features=768, out_features=768, bias=True)\n",
              "              (value): Linear(in_features=768, out_features=768, bias=True)\n",
              "              (dropout): Dropout(p=0.1, inplace=False)\n",
              "            )\n",
              "            (output): BertSelfOutput(\n",
              "              (dense): Linear(in_features=768, out_features=768, bias=True)\n",
              "              (LayerNorm): BertLayerNorm()\n",
              "              (dropout): Dropout(p=0.1, inplace=False)\n",
              "            )\n",
              "          )\n",
              "          (intermediate): BertIntermediate(\n",
              "            (dense): Linear(in_features=768, out_features=3072, bias=True)\n",
              "          )\n",
              "          (output): BertOutput(\n",
              "            (dense): Linear(in_features=3072, out_features=768, bias=True)\n",
              "            (LayerNorm): BertLayerNorm()\n",
              "            (dropout): Dropout(p=0.1, inplace=False)\n",
              "          )\n",
              "        )\n",
              "        (8): BertLayer(\n",
              "          (attention): BertAttention(\n",
              "            (self): BertSelfAttention(\n",
              "              (query): Linear(in_features=768, out_features=768, bias=True)\n",
              "              (key): Linear(in_features=768, out_features=768, bias=True)\n",
              "              (value): Linear(in_features=768, out_features=768, bias=True)\n",
              "              (dropout): Dropout(p=0.1, inplace=False)\n",
              "            )\n",
              "            (output): BertSelfOutput(\n",
              "              (dense): Linear(in_features=768, out_features=768, bias=True)\n",
              "              (LayerNorm): BertLayerNorm()\n",
              "              (dropout): Dropout(p=0.1, inplace=False)\n",
              "            )\n",
              "          )\n",
              "          (intermediate): BertIntermediate(\n",
              "            (dense): Linear(in_features=768, out_features=3072, bias=True)\n",
              "          )\n",
              "          (output): BertOutput(\n",
              "            (dense): Linear(in_features=3072, out_features=768, bias=True)\n",
              "            (LayerNorm): BertLayerNorm()\n",
              "            (dropout): Dropout(p=0.1, inplace=False)\n",
              "          )\n",
              "        )\n",
              "        (9): BertLayer(\n",
              "          (attention): BertAttention(\n",
              "            (self): BertSelfAttention(\n",
              "              (query): Linear(in_features=768, out_features=768, bias=True)\n",
              "              (key): Linear(in_features=768, out_features=768, bias=True)\n",
              "              (value): Linear(in_features=768, out_features=768, bias=True)\n",
              "              (dropout): Dropout(p=0.1, inplace=False)\n",
              "            )\n",
              "            (output): BertSelfOutput(\n",
              "              (dense): Linear(in_features=768, out_features=768, bias=True)\n",
              "              (LayerNorm): BertLayerNorm()\n",
              "              (dropout): Dropout(p=0.1, inplace=False)\n",
              "            )\n",
              "          )\n",
              "          (intermediate): BertIntermediate(\n",
              "            (dense): Linear(in_features=768, out_features=3072, bias=True)\n",
              "          )\n",
              "          (output): BertOutput(\n",
              "            (dense): Linear(in_features=3072, out_features=768, bias=True)\n",
              "            (LayerNorm): BertLayerNorm()\n",
              "            (dropout): Dropout(p=0.1, inplace=False)\n",
              "          )\n",
              "        )\n",
              "        (10): BertLayer(\n",
              "          (attention): BertAttention(\n",
              "            (self): BertSelfAttention(\n",
              "              (query): Linear(in_features=768, out_features=768, bias=True)\n",
              "              (key): Linear(in_features=768, out_features=768, bias=True)\n",
              "              (value): Linear(in_features=768, out_features=768, bias=True)\n",
              "              (dropout): Dropout(p=0.1, inplace=False)\n",
              "            )\n",
              "            (output): BertSelfOutput(\n",
              "              (dense): Linear(in_features=768, out_features=768, bias=True)\n",
              "              (LayerNorm): BertLayerNorm()\n",
              "              (dropout): Dropout(p=0.1, inplace=False)\n",
              "            )\n",
              "          )\n",
              "          (intermediate): BertIntermediate(\n",
              "            (dense): Linear(in_features=768, out_features=3072, bias=True)\n",
              "          )\n",
              "          (output): BertOutput(\n",
              "            (dense): Linear(in_features=3072, out_features=768, bias=True)\n",
              "            (LayerNorm): BertLayerNorm()\n",
              "            (dropout): Dropout(p=0.1, inplace=False)\n",
              "          )\n",
              "        )\n",
              "        (11): BertLayer(\n",
              "          (attention): BertAttention(\n",
              "            (self): BertSelfAttention(\n",
              "              (query): Linear(in_features=768, out_features=768, bias=True)\n",
              "              (key): Linear(in_features=768, out_features=768, bias=True)\n",
              "              (value): Linear(in_features=768, out_features=768, bias=True)\n",
              "              (dropout): Dropout(p=0.1, inplace=False)\n",
              "            )\n",
              "            (output): BertSelfOutput(\n",
              "              (dense): Linear(in_features=768, out_features=768, bias=True)\n",
              "              (LayerNorm): BertLayerNorm()\n",
              "              (dropout): Dropout(p=0.1, inplace=False)\n",
              "            )\n",
              "          )\n",
              "          (intermediate): BertIntermediate(\n",
              "            (dense): Linear(in_features=768, out_features=3072, bias=True)\n",
              "          )\n",
              "          (output): BertOutput(\n",
              "            (dense): Linear(in_features=3072, out_features=768, bias=True)\n",
              "            (LayerNorm): BertLayerNorm()\n",
              "            (dropout): Dropout(p=0.1, inplace=False)\n",
              "          )\n",
              "        )\n",
              "      )\n",
              "    )\n",
              "    (pooler): BertPooler(\n",
              "      (dense): Linear(in_features=768, out_features=768, bias=True)\n",
              "      (activation): Tanh()\n",
              "    )\n",
              "  )\n",
              "  (dropout): Dropout(p=0.1, inplace=False)\n",
              "  (classifier): Linear(in_features=768, out_features=1, bias=True)\n",
              ")"
            ]
          },
          "metadata": {},
          "execution_count": 253
        }
      ],
      "source": [
        "# Send data to the chosen device\n",
        "model.to(device)"
      ]
    },
    {
      "cell_type": "markdown",
      "metadata": {
        "id": "pM5UwMMmrh9o"
      },
      "source": [
        "DistributedDataParallel (DDP) implements data parallelism at the module level. It synchronizes gradients, parameters, and buffers. If your model is too large to fit on a single GPU, you must use model parallel to split it across multiple GPUs. DDP works with model parallel. DDP is multi-process and works for both single- and multi-machine training."
      ]
    },
    {
      "cell_type": "code",
      "execution_count": 254,
      "metadata": {
        "id": "XbYE69MVrh9o"
      },
      "outputs": [],
      "source": [
        "if local_rank != -1:\n",
        "    model = torch.nn.parallel.DistributedDataParallel(model, device_ids=[local_rank], output_device=local_rank)\n",
        "elif n_gpu > 1:\n",
        "    model = torch.nn.DataParallel(model)"
      ]
    },
    {
      "cell_type": "markdown",
      "metadata": {
        "id": "Olle7E5arh9o"
      },
      "source": [
        "Prepare the Optimizer - AdamW (Weight Decay with Adam)¶"
      ]
    },
    {
      "cell_type": "markdown",
      "metadata": {
        "id": "r3n27XMHrh9p"
      },
      "source": [
        "Training the BERT baseline model is typically done with AdamW, a variant of the Adam optimizer with weight decay as the optimizer.\n",
        "\n",
        "At its heart, Adam is a simple and intuitive idea: why use the same learning rate for every parameter, when we know that some surely need to be moved further and faster than others? Since the square of recent gradients tells us how much signal we’re getting for each weight, we can just divide by that to ensure even the most sluggish weights get their chance to shine. Adam takes that idea, adds on the standard approach to momentum, and (with a little tweak to keep early batches from being biased) that’s it!...We should use weight decay with Adam, and not the L2 regularization that classic deep learning libraries implement [fast.ai].\n",
        "\n",
        "    optimize_on_cpu is whether to perform optimization and keep the optimizer averages on CPU.\n",
        "    learning_rate is the initial learning rate for Adam.\n",
        "    warmup_proportion is the proportion of training to perform linear learning rate warmup for."
      ]
    },
    {
      "cell_type": "code",
      "execution_count": 255,
      "metadata": {
        "id": "-xVsUAG1rh9q"
      },
      "outputs": [],
      "source": [
        "optimize_on_cpu = False\n",
        "# learning_rate = 5e-5 # original\n",
        "learning_rate = 5e-3\n",
        "warmup_proportion = 0.1\n",
        "\n",
        "# MY ADDITIONS\n",
        "num_training_steps = 10\n",
        "num_warmup_steps = warmup_proportion * float(num_training_steps)"
      ]
    },
    {
      "cell_type": "code",
      "execution_count": 256,
      "metadata": {
        "id": "V14ia3rrrh9q"
      },
      "outputs": [],
      "source": [
        "global_step = 0\n",
        "train_loss = 100000\n",
        "number_training_steps = 1\n",
        "global_step_check = 0\n",
        "train_loss_history = []"
      ]
    },
    {
      "cell_type": "markdown",
      "metadata": {
        "id": "jfi4qLw3rh9q"
      },
      "source": [
        "Uncomment the cells below to run AdamW optimizer if training."
      ]
    },
    {
      "cell_type": "code",
      "execution_count": 257,
      "metadata": {
        "id": "XGUvIM3Krh9r"
      },
      "outputs": [],
      "source": [
        "from transformers import AdamW, get_linear_schedule_with_warmup"
      ]
    },
    {
      "cell_type": "code",
      "execution_count": 258,
      "metadata": {
        "colab": {
          "base_uri": "https://localhost:8080/"
        },
        "id": "rUpz7eUMrh9r",
        "outputId": "aaaf8db2-c7e7-4126-fa4a-0f04ea42d671"
      },
      "outputs": [
        {
          "output_type": "stream",
          "name": "stdout",
          "text": [
            "We will be training\n"
          ]
        }
      ],
      "source": [
        "# do_train = False # This flag now put above\n",
        "if do_train == True:\n",
        "    print('We will be training')\n",
        "else:\n",
        "    print('We will not be training')"
      ]
    },
    {
      "cell_type": "markdown",
      "source": [
        "Note: This cell was throwing an error on num_warmup_steps, so I added num_training_steps = 10 above, and also defined num_warmup_steps. I suspect she never actually used this code (wherever she got it from). And that is why it was commented out in the original code sample."
      ],
      "metadata": {
        "id": "OwJ4CGCoxfTX"
      }
    },
    {
      "cell_type": "code",
      "execution_count": 259,
      "metadata": {
        "id": "I2INW95Prh9s"
      },
      "outputs": [],
      "source": [
        "from torch import nn # Base class for all neural network modules"
      ]
    },
    {
      "cell_type": "code",
      "execution_count": 260,
      "metadata": {
        "colab": {
          "base_uri": "https://localhost:8080/"
        },
        "id": "zI3_d4v4rh9s",
        "outputId": "41b24764-ff05-4e81-dfb3-1711add30610"
      },
      "outputs": [
        {
          "output_type": "stream",
          "name": "stdout",
          "text": [
            "Requirement already satisfied: funcsigs in /usr/local/lib/python3.7/dist-packages (1.0.2)\n"
          ]
        }
      ],
      "source": [
        "!pip install funcsigs # NEEDED TO ADD THIS\n",
        "from sklearn.metrics import roc_auc_score, precision_recall_curve, roc_curve, auc, confusion_matrix, classification_report\n",
        "# from sklearn.utils.fixes import signature => cannot import name 'signature' from 'sklearn.utils.fixes'\n",
        "from funcsigs import signature # HERE IS THE WORKAROUND FOR PYTHON 3"
      ]
    },
    {
      "cell_type": "code",
      "execution_count": 261,
      "metadata": {
        "id": "TV9TZQdirh9t"
      },
      "outputs": [],
      "source": [
        "def vote_score(df, score, results_location):\n",
        "    print(f'INCOMING DF\\n {df.head()}')\n",
        "    df['pred_score'] = score\n",
        "    # print('IN VOTE SCORE', df.head())\n",
        "    df_sort = df.sort_values(by=['ID'])\n",
        "    print('IN VOTE SCORE\\n', df.head())\n",
        "\n",
        "    #score \n",
        "    ### BLOCKING OUT HER COMPLICATED PREDICTION\n",
        "    \n",
        "    temp = (df_sort.groupby(['ID'])['pred_score'].agg(max)+df_sort.groupby(['ID'])['pred_score'].agg(sum)/2)/(1+df_sort.groupby(['ID'])['pred_score'].agg(len)/2)\n",
        "    x = df_sort.groupby(['ID'])['LABEL'].agg(np.min).values # CHANGED Label to LABEL\n",
        "    print(f'GROUP BY LABEL PRODUCING X {x}')\n",
        "    df_out = pd.DataFrame({'logits': temp.values, 'ID': x})\n",
        "\n",
        "    # NEW, DETERMING VALIDITY OF TEMP FUNCTION\n",
        "    df_compare = pd.DataFrame({'logits': temp.values, 'orig_score': score})\n",
        "    print('COMPARISON OF SCORE AND TEMP')\n",
        "    print(df_compare.head())\n",
        "    \n",
        "    # fpr, tpr, thresholds = roc_curve(x, temp.values) # returns false positive rate, true positive rate, thresholds\n",
        "    fpr, tpr, thresholds = roc_curve(x, temp.values) # returns false positive rate, true positive rate, thresholds\n",
        "\n",
        "    # fpr, tpr, thresholds = roc_curve(df['LABEL'], df['pred_score']) # USE THIS INSTEAD\n",
        "    # df_out = pd.DataFrame({'logits':score, 'ID': df_sort['LABEL']}) # was original label CHANGED\n",
        "    auc_score = auc(fpr, tpr)\n",
        "\n",
        "    plt.figure(1)\n",
        "    plt.plot([0, 1], [0, 1], 'k--')\n",
        "    plt.plot(fpr, tpr, label='Val (area = {:.3f})'.format(auc_score))\n",
        "    plt.xlabel('False positive rate')\n",
        "    plt.ylabel('True positive rate')\n",
        "    plt.title('ROC curve')\n",
        "    plt.legend(loc='best')\n",
        "    plt.show()\n",
        "    string = 'camlbert_auroc.png'\n",
        "    plt.savefig(os.path.join(results_location, string))\n",
        "\n",
        "    return fpr, tpr, df_out"
      ]
    },
    {
      "cell_type": "code",
      "execution_count": 262,
      "metadata": {
        "id": "GN2Z_-KZrh9t"
      },
      "outputs": [],
      "source": [
        "def pr_curve_plot(y, y_score, results_location):\n",
        "    precision, recall, _ = precision_recall_curve(y, y_score)\n",
        "    area = auc(recall,precision)\n",
        "    step_kwargs = ({'step': 'post'}\n",
        "                   if 'step' in signature(plt.fill_between).parameters\n",
        "                   else {})\n",
        "    \n",
        "    plt.figure(2)\n",
        "    plt.step(recall, precision, color='b', alpha=0.2,\n",
        "             where='post')\n",
        "    plt.fill_between(recall, precision, alpha=0.2, color='b', **step_kwargs)\n",
        "    plt.xlabel('Recall')\n",
        "    plt.ylabel('Precision')\n",
        "    plt.ylim([0.0, 1.05])\n",
        "    plt.xlim([0.0, 1.0])\n",
        "    plt.title('Precision-Recall curve: AUC={0:0.2f}'.format(area))\n",
        "    \n",
        "    string = 'camlbert_auprc.png'\n",
        "\n",
        "    plt.savefig(os.path.join(results_location, string))"
      ]
    },
    {
      "cell_type": "code",
      "execution_count": 263,
      "metadata": {
        "id": "KyKDvuJirh9t"
      },
      "outputs": [],
      "source": [
        "def vote_pr_curve(df, score, results_location):\n",
        "    df['pred_score'] = score\n",
        "    # print('IN VOTE_PR_CURVE df.presorted\\n', df.head())\n",
        "    df_sort = df.sort_values(by=['ID'])\n",
        "    # print('IN VOTE_PR_CURVE df sorted\\n', df.head())\n",
        "    \n",
        "    # ELIMINATING HER COMPLICATED TEMP formula\n",
        "    '''\n",
        "    temp = (df_sort.groupby(['ID'])['pred_score'].agg(max)+df_sort.groupby(['ID'])['pred_score'].agg(sum)/2)/(1+df_sort.groupby(['ID'])['pred_score'].agg(len)/2)\n",
        "    y = df_sort.groupby(['ID'])['LABEL'].agg(np.min).values # CHANGED Label to LABEL\n",
        "\n",
        "    precision, recall, thres = precision_recall_curve(y, temp)\n",
        "    '''\n",
        "\n",
        "    y = df['LABEL']\n",
        "    temp = score # replacing complicated temp with the original score # FIXES HER INVALID FORMULA\n",
        "    precision, recall, thres = precision_recall_curve(y, score) # ELIMINATE HER COMPLICATED FORMULA\n",
        "\n",
        "    pr_thres = pd.DataFrame(data =  list(zip(precision, recall, thres)), columns = ['prec','recall','thres'])\n",
        "    vote_df = pd.DataFrame(data =  list(zip(temp, y)), columns = ['score','label'])\n",
        "    \n",
        "    pr_curve_plot(y, temp, results_location) # TEMP NOW == SCORE\n",
        "    \n",
        "    temp = pr_thres[pr_thres.prec > 0.799999].reset_index() # temp now == score\n",
        "    \n",
        "    rp80 = 0\n",
        "    if temp.size == 0:\n",
        "        print('Test Sample too small or RP80=0')\n",
        "    else:\n",
        "        rp80 = temp.iloc[0].recall\n",
        "        print('Recall at Precision of 80 is {}', rp80)\n",
        "\n",
        "    return rp80"
      ]
    },
    {
      "cell_type": "code",
      "execution_count": 264,
      "metadata": {
        "id": "DXjQZWMPrh9t"
      },
      "outputs": [],
      "source": [
        "def _truncate_seq_pair(tokens_a, tokens_b, max_length):\n",
        "    \"\"\"Truncates a sequence pair in place to the maximum length.\"\"\"\n",
        "\n",
        "    # This is a simple heuristic which will always truncate the longer sequence\n",
        "    # one token at a time. This makes more sense than truncating an equal percent\n",
        "    # of tokens from each, since if one sequence is very short then each token\n",
        "    # that's truncated likely contains more information than a longer sequence.\n",
        "    while True:\n",
        "        total_length = len(tokens_a) + len(tokens_b)\n",
        "        if total_length <= max_length:\n",
        "            break\n",
        "        if len(tokens_a) > len(tokens_b):\n",
        "            tokens_a.pop()\n",
        "        else:\n",
        "            tokens_b.pop()"
      ]
    },
    {
      "cell_type": "code",
      "execution_count": 265,
      "metadata": {
        "id": "0vsN9bHqrh9t"
      },
      "outputs": [],
      "source": [
        "class InputFeatures(object):\n",
        "    \"\"\"A single set of features of data.\"\"\"\n",
        "\n",
        "    def __init__(self, input_ids, input_mask, segment_ids, label_id):\n",
        "        self.input_ids = input_ids\n",
        "        self.input_mask = input_mask\n",
        "        self.segment_ids = segment_ids\n",
        "        self.label_id = label_id"
      ]
    },
    {
      "cell_type": "code",
      "execution_count": 266,
      "metadata": {
        "id": "3I0Qqp_urh9u"
      },
      "outputs": [],
      "source": [
        "def convert_examples_to_features(examples, label_list, max_seq_length, tokenizer):\n",
        "    \"\"\"Loads a data file into a list of `InputBatch`s.\"\"\"\n",
        "    print('Will be converting examples to features.')\n",
        "\n",
        "    label_map = {}\n",
        "    for (i, label) in enumerate(label_list):\n",
        "        label_map[label] = i\n",
        "\n",
        "    features = []\n",
        "    for (ex_index, example) in enumerate(examples):\n",
        "        tokens_a = tokenizer.tokenize(example.text_a)\n",
        "\n",
        "        tokens_b = None\n",
        "        if example.text_b:\n",
        "            tokens_b = tokenizer.tokenize(example.text_b)\n",
        "\n",
        "        if tokens_b:\n",
        "            # Modifies `tokens_a` and `tokens_b` in place so that the total\n",
        "            # length is less than the specified length.\n",
        "            # Account for [CLS], [SEP], [SEP] with \"- 3\"\n",
        "            _truncate_seq_pair(tokens_a, tokens_b, max_seq_length - 3)\n",
        "        else:\n",
        "            # Account for [CLS] and [SEP] with \"- 2\"\n",
        "            if len(tokens_a) > max_seq_length - 2:\n",
        "                tokens_a = tokens_a[0:(max_seq_length - 2)]\n",
        "\n",
        "        # The convention in BERT is:\n",
        "        # (a) For sequence pairs:\n",
        "        #  tokens:   [CLS] is this jack ##son ##ville ? [SEP] no it is not . [SEP]\n",
        "        #  type_ids: 0   0  0    0    0     0       0 0    1  1  1  1   1 1\n",
        "        # (b) For single sequences:\n",
        "        #  tokens:   [CLS] the dog is hairy . [SEP]\n",
        "        #  type_ids: 0   0   0   0  0     0 0\n",
        "        #\n",
        "        # Where \"type_ids\" are used to indicate whether this is the first\n",
        "        # sequence or the second sequence. The embedding vectors for `type=0` and\n",
        "        # `type=1` were learned during pre-training and are added to the wordpiece\n",
        "        # embedding vector (and position vector). This is not *strictly* necessary\n",
        "        # since the [SEP] token unambigiously separates the sequences, but it makes\n",
        "        # it easier for the model to learn the concept of sequences.\n",
        "        #\n",
        "        # For classification tasks, the first vector (corresponding to [CLS]) is\n",
        "        # used as as the \"sentence vector\". Note that this only makes sense because\n",
        "        # the entire model is fine-tuned.\n",
        "        tokens = []\n",
        "        segment_ids = []\n",
        "        tokens.append(\"[CLS]\")\n",
        "        segment_ids.append(0)\n",
        "        for token in tokens_a:\n",
        "            tokens.append(token)\n",
        "            segment_ids.append(0)\n",
        "        tokens.append(\"[SEP]\")\n",
        "        segment_ids.append(0)\n",
        "\n",
        "        if tokens_b:\n",
        "            for token in tokens_b:\n",
        "                tokens.append(token)\n",
        "                segment_ids.append(1)\n",
        "            tokens.append(\"[SEP]\")\n",
        "            segment_ids.append(1)\n",
        "\n",
        "        input_ids = tokenizer.convert_tokens_to_ids(tokens)\n",
        "\n",
        "        # The mask has 1 for real tokens and 0 for padding tokens. Only real tokens are attended to.\n",
        "        input_mask = [1] * len(input_ids)\n",
        "\n",
        "        # Zero-pad up to the sequence length.\n",
        "        while len(input_ids) < max_seq_length:\n",
        "            input_ids.append(0)\n",
        "            input_mask.append(0)\n",
        "            segment_ids.append(0)\n",
        "\n",
        "        assert len(input_ids) == max_seq_length\n",
        "        assert len(input_mask) == max_seq_length\n",
        "        assert len(segment_ids) == max_seq_length\n",
        "        #print (example.label)\n",
        "        label_id = label_map[example.label]\n",
        "        if ex_index < 5:\n",
        "            logger.info(\"*** Example ***\")\n",
        "            logger.info(\"guid: %s\" % (example.guid))\n",
        "            logger.info(\"tokens: %s\" % \" \".join(\n",
        "                    [str(x) for x in tokens]))\n",
        "            logger.info(\"input_ids: %s\" % \" \".join([str(x) for x in input_ids]))\n",
        "            logger.info(\"input_mask: %s\" % \" \".join([str(x) for x in input_mask]))\n",
        "            logger.info(\n",
        "                    \"segment_ids: %s\" % \" \".join([str(x) for x in segment_ids]))\n",
        "            logger.info(\"label: %s (id = %d)\" % (example.label, label_id))\n",
        "\n",
        "        features.append(\n",
        "                InputFeatures(input_ids=input_ids,\n",
        "                              input_mask=input_mask,\n",
        "                              segment_ids=segment_ids,\n",
        "                              label_id=label_id))\n",
        "    return features"
      ]
    },
    {
      "cell_type": "code",
      "execution_count": 267,
      "metadata": {
        "id": "oLOR1oV4rh9u"
      },
      "outputs": [],
      "source": [
        "max_seq_length = 140 # actually she had 128, but I increased it because max caml seq after cleaning is 138\n",
        "eval_batch_size = 32"
      ]
    },
    {
      "cell_type": "code",
      "execution_count": 268,
      "metadata": {
        "id": "LLTQJDxkrh9u"
      },
      "outputs": [],
      "source": [
        "from torch.utils.data import TensorDataset, DataLoader, RandomSampler, SequentialSampler\n",
        "from torch.utils.data.distributed import DistributedSampler\n",
        "import torch.nn as nn"
      ]
    },
    {
      "cell_type": "markdown",
      "source": [
        "### The optimizer is AdamW."
      ],
      "metadata": {
        "id": "1_1uH1__1PRs"
      }
    },
    {
      "cell_type": "code",
      "source": [
        "if optimize_on_cpu:\n",
        "    param_optimizer = [(n, param.clone().detach().to('cpu').requires_grad_()) \\\n",
        "                        for n, param in model.named_parameters()]\n",
        "else:\n",
        "    param_optimizer = list(model.named_parameters())\n",
        "no_decay = ['bias', 'gamma', 'beta']\n",
        "optimizer_grouped_parameters = [\n",
        "    {'params': [p for n, p in param_optimizer if not any(nd in n for nd in no_decay)], 'weight_decay_rate': 0.01},\n",
        "    {'params': [p for n, p in param_optimizer if any(nd in n for nd in no_decay)], 'weight_decay_rate': 0.0}\n",
        "    ]\n",
        "\n",
        "optimizer = AdamW(optimizer_grouped_parameters,\n",
        "                     lr=learning_rate,\n",
        "                     correct_bias=False)  # To reproduce old BertAdam specific behavior set correct_bias=False\n",
        "\n",
        "# PyTorch scheduler\n",
        "scheduler = get_linear_schedule_with_warmup(optimizer, \n",
        "                                            num_warmup_steps=num_warmup_steps,\n",
        "                                            num_training_steps=num_training_steps) "
      ],
      "metadata": {
        "colab": {
          "base_uri": "https://localhost:8080/"
        },
        "id": "kjwcxNi31HBx",
        "outputId": "9352285e-6ae4-422c-d7cf-c8550a0d6511"
      },
      "execution_count": 269,
      "outputs": [
        {
          "output_type": "stream",
          "name": "stderr",
          "text": [
            "/usr/local/lib/python3.7/dist-packages/transformers/optimization.py:309: FutureWarning: This implementation of AdamW is deprecated and will be removed in a future version. Use the PyTorch implementation torch.optim.AdamW instead, or set `no_deprecation_warning=True` to disable this warning\n",
            "  FutureWarning,\n"
          ]
        }
      ]
    },
    {
      "cell_type": "code",
      "execution_count": 270,
      "metadata": {
        "colab": {
          "base_uri": "https://localhost:8080/",
          "height": 1000
        },
        "id": "hvmkE9Eorh9v",
        "outputId": "9f8e7ca6-7ba1-43bb-cee8-83fb404df2e1"
      },
      "outputs": [
        {
          "output_type": "stream",
          "name": "stderr",
          "text": [
            "05/07/2022 19:19:59 - INFO - __main__ -   *** Example ***\n",
            "05/07/2022 19:19:59 - INFO - __main__ -   guid: train-0\n",
            "05/07/2022 19:19:59 - INFO - __main__ -   tokens: [CLS] heart normal size prominent right para ##tra ##che ##al soft tissue density round mass right middle lobe measure approximately cm x cm mild surround airspace disease and ##or ate ##le ##cta ##sis pl ##eur ##al e ##ff ##usion note visual ##ized bony thor ##ax appear gross ##ly intact right mid lung mass mild right para ##tra ##che ##al soft tissue may secondary associate l ##ym ##pha ##den ##opa ##thy image ct chest recommend [SEP]\n",
            "05/07/2022 19:19:59 - INFO - __main__ -   input_ids: 101 2540 3671 2946 4069 2157 11498 6494 5403 2389 3730 8153 4304 2461 3742 2157 2690 21833 5468 3155 4642 1060 4642 10256 15161 29357 4295 1998 2953 8823 2571 25572 6190 20228 11236 2389 1041 4246 14499 3602 5107 3550 22678 15321 8528 3711 7977 2135 10109 2157 3054 11192 3742 10256 2157 11498 6494 5403 2389 3730 8153 2089 3905 5482 1048 24335 21890 4181 29477 16921 3746 14931 3108 16755 102 0 0 0 0 0 0 0 0 0 0 0 0 0 0 0 0 0 0 0 0 0 0 0 0 0 0 0 0 0 0 0 0 0 0 0 0 0 0 0 0 0 0 0 0 0 0 0 0 0 0 0 0 0 0 0 0 0 0 0 0 0 0 0 0 0\n",
            "05/07/2022 19:19:59 - INFO - __main__ -   input_mask: 1 1 1 1 1 1 1 1 1 1 1 1 1 1 1 1 1 1 1 1 1 1 1 1 1 1 1 1 1 1 1 1 1 1 1 1 1 1 1 1 1 1 1 1 1 1 1 1 1 1 1 1 1 1 1 1 1 1 1 1 1 1 1 1 1 1 1 1 1 1 1 1 1 1 1 0 0 0 0 0 0 0 0 0 0 0 0 0 0 0 0 0 0 0 0 0 0 0 0 0 0 0 0 0 0 0 0 0 0 0 0 0 0 0 0 0 0 0 0 0 0 0 0 0 0 0 0 0 0 0 0 0 0 0 0 0 0 0 0 0\n",
            "05/07/2022 19:19:59 - INFO - __main__ -   segment_ids: 0 0 0 0 0 0 0 0 0 0 0 0 0 0 0 0 0 0 0 0 0 0 0 0 0 0 0 0 0 0 0 0 0 0 0 0 0 0 0 0 0 0 0 0 0 0 0 0 0 0 0 0 0 0 0 0 0 0 0 0 0 0 0 0 0 0 0 0 0 0 0 0 0 0 0 0 0 0 0 0 0 0 0 0 0 0 0 0 0 0 0 0 0 0 0 0 0 0 0 0 0 0 0 0 0 0 0 0 0 0 0 0 0 0 0 0 0 0 0 0 0 0 0 0 0 0 0 0 0 0 0 0 0 0 0 0 0 0 0 0\n",
            "05/07/2022 19:19:59 - INFO - __main__ -   label: 1 (id = 1)\n",
            "05/07/2022 19:19:59 - INFO - __main__ -   *** Example ***\n",
            "05/07/2022 19:19:59 - INFO - __main__ -   guid: train-1\n",
            "05/07/2022 19:19:59 - INFO - __main__ -   tokens: [CLS] heart size media ##sti ##nal con ##tour pulmonary vascular ##ity within normal limit right chest xx ##xx central ve ##nous cat ##het ##er tip over ##lie high sv ##c focal consolidation suspicious pulmonary op ##ac ##ity large pl ##eur ##al e ##ff ##usion p ##ne ##um ##otho ##ra ##x identify visual ##ize os ##se ##ous structure appear intact acute card ##io ##pu ##lm ##ona ##ry abnormal ##ity [SEP]\n",
            "05/07/2022 19:19:59 - INFO - __main__ -   input_ids: 101 2540 2946 2865 16643 12032 9530 21163 21908 21449 3012 2306 3671 5787 2157 3108 22038 20348 2430 2310 18674 4937 27065 2121 5955 2058 8751 2152 17917 2278 15918 17439 10027 21908 6728 6305 3012 2312 20228 11236 2389 1041 4246 14499 1052 2638 2819 29288 2527 2595 6709 5107 4697 9808 3366 3560 3252 3711 10109 11325 4003 3695 14289 13728 7856 2854 19470 3012 102 0 0 0 0 0 0 0 0 0 0 0 0 0 0 0 0 0 0 0 0 0 0 0 0 0 0 0 0 0 0 0 0 0 0 0 0 0 0 0 0 0 0 0 0 0 0 0 0 0 0 0 0 0 0 0 0 0 0 0 0 0 0 0 0 0 0 0 0 0 0 0\n",
            "05/07/2022 19:19:59 - INFO - __main__ -   input_mask: 1 1 1 1 1 1 1 1 1 1 1 1 1 1 1 1 1 1 1 1 1 1 1 1 1 1 1 1 1 1 1 1 1 1 1 1 1 1 1 1 1 1 1 1 1 1 1 1 1 1 1 1 1 1 1 1 1 1 1 1 1 1 1 1 1 1 1 1 1 0 0 0 0 0 0 0 0 0 0 0 0 0 0 0 0 0 0 0 0 0 0 0 0 0 0 0 0 0 0 0 0 0 0 0 0 0 0 0 0 0 0 0 0 0 0 0 0 0 0 0 0 0 0 0 0 0 0 0 0 0 0 0 0 0 0 0 0 0 0 0\n",
            "05/07/2022 19:19:59 - INFO - __main__ -   segment_ids: 0 0 0 0 0 0 0 0 0 0 0 0 0 0 0 0 0 0 0 0 0 0 0 0 0 0 0 0 0 0 0 0 0 0 0 0 0 0 0 0 0 0 0 0 0 0 0 0 0 0 0 0 0 0 0 0 0 0 0 0 0 0 0 0 0 0 0 0 0 0 0 0 0 0 0 0 0 0 0 0 0 0 0 0 0 0 0 0 0 0 0 0 0 0 0 0 0 0 0 0 0 0 0 0 0 0 0 0 0 0 0 0 0 0 0 0 0 0 0 0 0 0 0 0 0 0 0 0 0 0 0 0 0 0 0 0 0 0 0 0\n",
            "05/07/2022 19:19:59 - INFO - __main__ -   label: 1 (id = 1)\n",
            "05/07/2022 19:19:59 - INFO - __main__ -   *** Example ***\n",
            "05/07/2022 19:19:59 - INFO - __main__ -   guid: train-2\n",
            "05/07/2022 19:19:59 - INFO - __main__ -   tokens: [CLS] persistent mild elevation right hem ##idia ##ph ##rag ##m suggestion subtle patch ##y op ##ac ##ity lower lung xx ##xx bilateral ##ly xx ##xx similar xx ##xx scan heart normal ao ##rta cal ##ci ##fy tor ##tu ##ous skeletal structure show sc ##olio ##sis art ##hri ##tic change cop ##d chronic op ##ac ##ity pro ##no ##unce low lung xx ##xx [SEP]\n",
            "05/07/2022 19:19:59 - INFO - __main__ -   input_ids: 101 14516 10256 6678 2157 19610 29342 8458 29181 2213 10293 11259 8983 2100 6728 6305 3012 2896 11192 22038 20348 17758 2135 22038 20348 2714 22038 20348 13594 2540 3671 20118 13320 10250 6895 12031 17153 8525 3560 20415 3252 2265 8040 29401 6190 2396 26378 4588 2689 8872 2094 11888 6728 6305 3012 4013 3630 17457 2659 11192 22038 20348 102 0 0 0 0 0 0 0 0 0 0 0 0 0 0 0 0 0 0 0 0 0 0 0 0 0 0 0 0 0 0 0 0 0 0 0 0 0 0 0 0 0 0 0 0 0 0 0 0 0 0 0 0 0 0 0 0 0 0 0 0 0 0 0 0 0 0 0 0 0 0 0 0 0 0 0 0 0\n",
            "05/07/2022 19:19:59 - INFO - __main__ -   input_mask: 1 1 1 1 1 1 1 1 1 1 1 1 1 1 1 1 1 1 1 1 1 1 1 1 1 1 1 1 1 1 1 1 1 1 1 1 1 1 1 1 1 1 1 1 1 1 1 1 1 1 1 1 1 1 1 1 1 1 1 1 1 1 1 0 0 0 0 0 0 0 0 0 0 0 0 0 0 0 0 0 0 0 0 0 0 0 0 0 0 0 0 0 0 0 0 0 0 0 0 0 0 0 0 0 0 0 0 0 0 0 0 0 0 0 0 0 0 0 0 0 0 0 0 0 0 0 0 0 0 0 0 0 0 0 0 0 0 0 0 0\n",
            "05/07/2022 19:19:59 - INFO - __main__ -   segment_ids: 0 0 0 0 0 0 0 0 0 0 0 0 0 0 0 0 0 0 0 0 0 0 0 0 0 0 0 0 0 0 0 0 0 0 0 0 0 0 0 0 0 0 0 0 0 0 0 0 0 0 0 0 0 0 0 0 0 0 0 0 0 0 0 0 0 0 0 0 0 0 0 0 0 0 0 0 0 0 0 0 0 0 0 0 0 0 0 0 0 0 0 0 0 0 0 0 0 0 0 0 0 0 0 0 0 0 0 0 0 0 0 0 0 0 0 0 0 0 0 0 0 0 0 0 0 0 0 0 0 0 0 0 0 0 0 0 0 0 0 0\n",
            "05/07/2022 19:19:59 - INFO - __main__ -   label: 1 (id = 1)\n",
            "05/07/2022 19:19:59 - INFO - __main__ -   *** Example ***\n",
            "05/07/2022 19:19:59 - INFO - __main__ -   guid: train-3\n",
            "05/07/2022 19:19:59 - INFO - __main__ -   tokens: [CLS] normal heart size mild tor ##tu ##osity ao ##rta p ##ne ##um ##otho ##ra ##x pl ##eur ##al e ##ff ##usion suspicious airspace op ##ac ##ity mild lev ##os ##col ##ios ##is lu ##mba ##r spine acute abnormal ##ity see [SEP]\n",
            "05/07/2022 19:19:59 - INFO - __main__ -   input_ids: 101 3671 2540 2946 10256 17153 8525 25949 20118 13320 1052 2638 2819 29288 2527 2595 20228 11236 2389 1041 4246 14499 10027 29357 6728 6305 3012 10256 23310 2891 25778 10735 2483 11320 11201 2099 8560 11325 19470 3012 2156 102 0 0 0 0 0 0 0 0 0 0 0 0 0 0 0 0 0 0 0 0 0 0 0 0 0 0 0 0 0 0 0 0 0 0 0 0 0 0 0 0 0 0 0 0 0 0 0 0 0 0 0 0 0 0 0 0 0 0 0 0 0 0 0 0 0 0 0 0 0 0 0 0 0 0 0 0 0 0 0 0 0 0 0 0 0 0 0 0 0 0 0 0 0 0 0 0 0 0\n",
            "05/07/2022 19:19:59 - INFO - __main__ -   input_mask: 1 1 1 1 1 1 1 1 1 1 1 1 1 1 1 1 1 1 1 1 1 1 1 1 1 1 1 1 1 1 1 1 1 1 1 1 1 1 1 1 1 1 0 0 0 0 0 0 0 0 0 0 0 0 0 0 0 0 0 0 0 0 0 0 0 0 0 0 0 0 0 0 0 0 0 0 0 0 0 0 0 0 0 0 0 0 0 0 0 0 0 0 0 0 0 0 0 0 0 0 0 0 0 0 0 0 0 0 0 0 0 0 0 0 0 0 0 0 0 0 0 0 0 0 0 0 0 0 0 0 0 0 0 0 0 0 0 0 0 0\n",
            "05/07/2022 19:19:59 - INFO - __main__ -   segment_ids: 0 0 0 0 0 0 0 0 0 0 0 0 0 0 0 0 0 0 0 0 0 0 0 0 0 0 0 0 0 0 0 0 0 0 0 0 0 0 0 0 0 0 0 0 0 0 0 0 0 0 0 0 0 0 0 0 0 0 0 0 0 0 0 0 0 0 0 0 0 0 0 0 0 0 0 0 0 0 0 0 0 0 0 0 0 0 0 0 0 0 0 0 0 0 0 0 0 0 0 0 0 0 0 0 0 0 0 0 0 0 0 0 0 0 0 0 0 0 0 0 0 0 0 0 0 0 0 0 0 0 0 0 0 0 0 0 0 0 0 0\n",
            "05/07/2022 19:19:59 - INFO - __main__ -   label: 1 (id = 1)\n",
            "05/07/2022 19:19:59 - INFO - __main__ -   *** Example ***\n",
            "05/07/2022 19:19:59 - INFO - __main__ -   guid: train-4\n",
            "05/07/2022 19:19:59 - INFO - __main__ -   tokens: [CLS] lung relatively clear heart size normal unfolded ao ##rta moderate hi ##atal her ##nia ts ##pine os ##te ##op ##hy ##tes dish moderate hi ##atal her ##nia definite pneumonia [SEP]\n",
            "05/07/2022 19:19:59 - INFO - __main__ -   input_ids: 101 11192 4659 3154 2540 2946 3671 23959 20118 13320 8777 7632 27815 2014 6200 24529 19265 9808 2618 7361 10536 4570 9841 8777 7632 27815 2014 6200 15298 18583 102 0 0 0 0 0 0 0 0 0 0 0 0 0 0 0 0 0 0 0 0 0 0 0 0 0 0 0 0 0 0 0 0 0 0 0 0 0 0 0 0 0 0 0 0 0 0 0 0 0 0 0 0 0 0 0 0 0 0 0 0 0 0 0 0 0 0 0 0 0 0 0 0 0 0 0 0 0 0 0 0 0 0 0 0 0 0 0 0 0 0 0 0 0 0 0 0 0 0 0 0 0 0 0 0 0 0 0 0 0\n",
            "05/07/2022 19:19:59 - INFO - __main__ -   input_mask: 1 1 1 1 1 1 1 1 1 1 1 1 1 1 1 1 1 1 1 1 1 1 1 1 1 1 1 1 1 1 1 0 0 0 0 0 0 0 0 0 0 0 0 0 0 0 0 0 0 0 0 0 0 0 0 0 0 0 0 0 0 0 0 0 0 0 0 0 0 0 0 0 0 0 0 0 0 0 0 0 0 0 0 0 0 0 0 0 0 0 0 0 0 0 0 0 0 0 0 0 0 0 0 0 0 0 0 0 0 0 0 0 0 0 0 0 0 0 0 0 0 0 0 0 0 0 0 0 0 0 0 0 0 0 0 0 0 0 0 0\n",
            "05/07/2022 19:19:59 - INFO - __main__ -   segment_ids: 0 0 0 0 0 0 0 0 0 0 0 0 0 0 0 0 0 0 0 0 0 0 0 0 0 0 0 0 0 0 0 0 0 0 0 0 0 0 0 0 0 0 0 0 0 0 0 0 0 0 0 0 0 0 0 0 0 0 0 0 0 0 0 0 0 0 0 0 0 0 0 0 0 0 0 0 0 0 0 0 0 0 0 0 0 0 0 0 0 0 0 0 0 0 0 0 0 0 0 0 0 0 0 0 0 0 0 0 0 0 0 0 0 0 0 0 0 0 0 0 0 0 0 0 0 0 0 0 0 0 0 0 0 0 0 0 0 0 0 0\n",
            "05/07/2022 19:19:59 - INFO - __main__ -   label: 1 (id = 1)\n"
          ]
        },
        {
          "output_type": "stream",
          "name": "stdout",
          "text": [
            "train examples [<__main__.InputExample object at 0x7facd70bd610>, <__main__.InputExample object at 0x7facd60aedd0>, <__main__.InputExample object at 0x7facc351dfd0>, <__main__.InputExample object at 0x7facd8f7e450>, <__main__.InputExample object at 0x7facd8f7e8d0>, <__main__.InputExample object at 0x7facd703e090>, <__main__.InputExample object at 0x7facd703e1d0>, <__main__.InputExample object at 0x7facd703e4d0>, <__main__.InputExample object at 0x7facd703e410>, <__main__.InputExample object at 0x7facd703e510>, <__main__.InputExample object at 0x7facd703e5d0>, <__main__.InputExample object at 0x7facd703e690>, <__main__.InputExample object at 0x7facd703e650>, <__main__.InputExample object at 0x7facd703e810>, <__main__.InputExample object at 0x7facd703e8d0>, <__main__.InputExample object at 0x7facd703e910>, <__main__.InputExample object at 0x7facd703e950>, <__main__.InputExample object at 0x7facd703eb10>, <__main__.InputExample object at 0x7facd703ebd0>, <__main__.InputExample object at 0x7facd703ec50>, <__main__.InputExample object at 0x7facd703ecd0>, <__main__.InputExample object at 0x7facd703ee10>, <__main__.InputExample object at 0x7facd8f6d290>, <__main__.InputExample object at 0x7facd8d31d10>, <__main__.InputExample object at 0x7facd71715d0>, <__main__.InputExample object at 0x7facd7171890>, <__main__.InputExample object at 0x7facd7171650>, <__main__.InputExample object at 0x7facd9129b90>, <__main__.InputExample object at 0x7facd9129e50>, <__main__.InputExample object at 0x7facd9129650>, <__main__.InputExample object at 0x7facd9129c50>, <__main__.InputExample object at 0x7facd91298d0>, <__main__.InputExample object at 0x7facd9129890>, <__main__.InputExample object at 0x7facd8f47e50>, <__main__.InputExample object at 0x7facd92ad490>, <__main__.InputExample object at 0x7facd8f10fd0>, <__main__.InputExample object at 0x7facd717ac10>, <__main__.InputExample object at 0x7facd717a710>, <__main__.InputExample object at 0x7facd60b1f10>, <__main__.InputExample object at 0x7facd60b1350>, <__main__.InputExample object at 0x7facd60b1550>, <__main__.InputExample object at 0x7facd60b11d0>, <__main__.InputExample object at 0x7facd60b1450>, <__main__.InputExample object at 0x7facd60b12d0>, <__main__.InputExample object at 0x7facd60b1e90>, <__main__.InputExample object at 0x7facd60b1650>, <__main__.InputExample object at 0x7facd60b1fd0>, <__main__.InputExample object at 0x7facd60b1f90>, <__main__.InputExample object at 0x7facd60b1790>, <__main__.InputExample object at 0x7facd60b1c50>, <__main__.InputExample object at 0x7facd60b1d50>, <__main__.InputExample object at 0x7facd60b1b10>, <__main__.InputExample object at 0x7facd60b1d10>, <__main__.InputExample object at 0x7facd60b1b50>, <__main__.InputExample object at 0x7facd60b1890>, <__main__.InputExample object at 0x7facd60b1590>, <__main__.InputExample object at 0x7facd70ba0d0>, <__main__.InputExample object at 0x7facd70ba190>, <__main__.InputExample object at 0x7facd70ba210>, <__main__.InputExample object at 0x7facd70ba310>, <__main__.InputExample object at 0x7facd70ba3d0>, <__main__.InputExample object at 0x7facd70ba490>, <__main__.InputExample object at 0x7facd70ba510>, <__main__.InputExample object at 0x7facd70ba610>, <__main__.InputExample object at 0x7facd70ba6d0>, <__main__.InputExample object at 0x7facd90f5e10>, <__main__.InputExample object at 0x7facd90f5ed0>, <__main__.InputExample object at 0x7facd90f5410>, <__main__.InputExample object at 0x7facd90f5490>, <__main__.InputExample object at 0x7facd90f5750>, <__main__.InputExample object at 0x7facd90f5190>, <__main__.InputExample object at 0x7facc332e310>, <__main__.InputExample object at 0x7facc332e250>, <__main__.InputExample object at 0x7facc332e050>, <__main__.InputExample object at 0x7facc332e390>, <__main__.InputExample object at 0x7facc332e4d0>, <__main__.InputExample object at 0x7facc332e490>, <__main__.InputExample object at 0x7facc332e650>, <__main__.InputExample object at 0x7facc332e350>, <__main__.InputExample object at 0x7facc332ee10>, <__main__.InputExample object at 0x7facc332ef50>, <__main__.InputExample object at 0x7facc332ed10>, <__main__.InputExample object at 0x7facc332ed50>, <__main__.InputExample object at 0x7facc332e9d0>, <__main__.InputExample object at 0x7facc332ea50>, <__main__.InputExample object at 0x7facc332e6d0>, <__main__.InputExample object at 0x7facc332e810>, <__main__.InputExample object at 0x7facc332e710>, <__main__.InputExample object at 0x7facc332ec10>, <__main__.InputExample object at 0x7facc332eb90>, <__main__.InputExample object at 0x7facc332eb50>, <__main__.InputExample object at 0x7facc332e1d0>, <__main__.InputExample object at 0x7facc332af10>, <__main__.InputExample object at 0x7facc332ae50>, <__main__.InputExample object at 0x7facc332ad10>, <__main__.InputExample object at 0x7facc332ac50>, <__main__.InputExample object at 0x7facc332afd0>, <__main__.InputExample object at 0x7facd8f72390>, <__main__.InputExample object at 0x7facd8f80bd0>, <__main__.InputExample object at 0x7facd8f80f50>, <__main__.InputExample object at 0x7facd8f805d0>, <__main__.InputExample object at 0x7facc332cb50>, <__main__.InputExample object at 0x7facc332c7d0>, <__main__.InputExample object at 0x7facc332c690>, <__main__.InputExample object at 0x7facc332c810>, <__main__.InputExample object at 0x7facc332c2d0>, <__main__.InputExample object at 0x7facc332c390>, <__main__.InputExample object at 0x7facc332c3d0>, <__main__.InputExample object at 0x7facc332c510>, <__main__.InputExample object at 0x7facc332c290>, <__main__.InputExample object at 0x7facc332cd10>, <__main__.InputExample object at 0x7facd6ba3310>, <__main__.InputExample object at 0x7facd6ba3390>, <__main__.InputExample object at 0x7facd6ba3690>, <__main__.InputExample object at 0x7facd6ba3790>, <__main__.InputExample object at 0x7facd6ba3110>, <__main__.InputExample object at 0x7facd6ba3a10>, <__main__.InputExample object at 0x7facd6ba34d0>, <__main__.InputExample object at 0x7facd6ba3250>, <__main__.InputExample object at 0x7facd6ba3210>, <__main__.InputExample object at 0x7facd6ba3850>, <__main__.InputExample object at 0x7facd6ba3290>, <__main__.InputExample object at 0x7facd6ba3590>, <__main__.InputExample object at 0x7facd6ba3bd0>, <__main__.InputExample object at 0x7facd6ba3b90>, <__main__.InputExample object at 0x7facd6ba3c90>, <__main__.InputExample object at 0x7facd6ba3c50>, <__main__.InputExample object at 0x7facd6ba3dd0>, <__main__.InputExample object at 0x7facd6ba3450>, <__main__.InputExample object at 0x7facd6ba3e90>, <__main__.InputExample object at 0x7facd6ba3350>, <__main__.InputExample object at 0x7facd8e13f50>, <__main__.InputExample object at 0x7facd60b33d0>, <__main__.InputExample object at 0x7facd60b3050>, <__main__.InputExample object at 0x7facd60b3310>, <__main__.InputExample object at 0x7facd60b3090>, <__main__.InputExample object at 0x7facd60b3990>, <__main__.InputExample object at 0x7facd60b3610>, <__main__.InputExample object at 0x7facd60b3f90>, <__main__.InputExample object at 0x7facd60b3f10>, <__main__.InputExample object at 0x7facd60b39d0>, <__main__.InputExample object at 0x7facd60b3b50>, <__main__.InputExample object at 0x7facd60b3cd0>, <__main__.InputExample object at 0x7facd60b3390>, <__main__.InputExample object at 0x7facd60b3c50>, <__main__.InputExample object at 0x7facd60b3a90>, <__main__.InputExample object at 0x7facd60b3e10>, <__main__.InputExample object at 0x7facd60b3190>, <__main__.InputExample object at 0x7facd60b3d50>, <__main__.InputExample object at 0x7facd60b3910>, <__main__.InputExample object at 0x7facd60b3490>, <__main__.InputExample object at 0x7facd60b3950>, <__main__.InputExample object at 0x7facd92d4210>, <__main__.InputExample object at 0x7facd92d4650>, <__main__.InputExample object at 0x7facd6e08050>, <__main__.InputExample object at 0x7facd621a090>, <__main__.InputExample object at 0x7facd621a150>, <__main__.InputExample object at 0x7facd621a210>, <__main__.InputExample object at 0x7facd621a2d0>, <__main__.InputExample object at 0x7facd621a390>, <__main__.InputExample object at 0x7facd621a450>, <__main__.InputExample object at 0x7facd621a510>, <__main__.InputExample object at 0x7facd621a5d0>, <__main__.InputExample object at 0x7facd621a690>, <__main__.InputExample object at 0x7facd621a750>, <__main__.InputExample object at 0x7facd621a810>, <__main__.InputExample object at 0x7facd621a8d0>, <__main__.InputExample object at 0x7facd621a990>, <__main__.InputExample object at 0x7facc2f47a90>, <__main__.InputExample object at 0x7facc2f47b50>, <__main__.InputExample object at 0x7facc2f47c10>, <__main__.InputExample object at 0x7facc2f47cd0>, <__main__.InputExample object at 0x7facc2f47d90>, <__main__.InputExample object at 0x7facc2f47e50>, <__main__.InputExample object at 0x7facc2f47f10>, <__main__.InputExample object at 0x7facc2f47fd0>, <__main__.InputExample object at 0x7facd70ac0d0>, <__main__.InputExample object at 0x7facd70ac190>, <__main__.InputExample object at 0x7facd70ac250>, <__main__.InputExample object at 0x7facd70ac310>, <__main__.InputExample object at 0x7facd70ac3d0>, <__main__.InputExample object at 0x7facd70ac490>, <__main__.InputExample object at 0x7facd70ac550>, <__main__.InputExample object at 0x7facd70ac610>, <__main__.InputExample object at 0x7facd70ac6d0>, <__main__.InputExample object at 0x7facd70ac790>, <__main__.InputExample object at 0x7facd70ac850>, <__main__.InputExample object at 0x7facd70ac910>, <__main__.InputExample object at 0x7facd70ac9d0>, <__main__.InputExample object at 0x7facd70aca90>, <__main__.InputExample object at 0x7facd70acb50>, <__main__.InputExample object at 0x7facd70acc10>, <__main__.InputExample object at 0x7facd70accd0>, <__main__.InputExample object at 0x7facd70acd90>, <__main__.InputExample object at 0x7facd70ace50>, <__main__.InputExample object at 0x7facd70acf10>, <__main__.InputExample object at 0x7facd70acfd0>, <__main__.InputExample object at 0x7facd70ad0d0>, <__main__.InputExample object at 0x7facd70ad190>, <__main__.InputExample object at 0x7facd70ad250>, <__main__.InputExample object at 0x7facd70ad310>, <__main__.InputExample object at 0x7facd70ad3d0>, <__main__.InputExample object at 0x7facd70ad490>, <__main__.InputExample object at 0x7facd70ad550>, <__main__.InputExample object at 0x7facd70ad610>, <__main__.InputExample object at 0x7facd70ad6d0>, <__main__.InputExample object at 0x7facd70ad790>, <__main__.InputExample object at 0x7facd70ad850>, <__main__.InputExample object at 0x7facd70ad910>, <__main__.InputExample object at 0x7facd70ad9d0>, <__main__.InputExample object at 0x7facd70ada90>, <__main__.InputExample object at 0x7facd70adb50>, <__main__.InputExample object at 0x7facd70adc10>, <__main__.InputExample object at 0x7facd70adcd0>, <__main__.InputExample object at 0x7facd70add90>, <__main__.InputExample object at 0x7facd70ade50>, <__main__.InputExample object at 0x7facd70adf10>, <__main__.InputExample object at 0x7facd70adfd0>, <__main__.InputExample object at 0x7facd70ae0d0>, <__main__.InputExample object at 0x7facd70ae190>, <__main__.InputExample object at 0x7facd70ae250>, <__main__.InputExample object at 0x7facd70ae310>, <__main__.InputExample object at 0x7facd70ae3d0>, <__main__.InputExample object at 0x7facd70ae490>, <__main__.InputExample object at 0x7facd70ae550>, <__main__.InputExample object at 0x7facd70ae610>, <__main__.InputExample object at 0x7facd70ae6d0>, <__main__.InputExample object at 0x7facd70ae790>, <__main__.InputExample object at 0x7facd70ae850>, <__main__.InputExample object at 0x7facd70ae910>, <__main__.InputExample object at 0x7facd70ae9d0>, <__main__.InputExample object at 0x7facd70aea90>, <__main__.InputExample object at 0x7facd70aeb50>, <__main__.InputExample object at 0x7facd70aec10>, <__main__.InputExample object at 0x7facd70aecd0>, <__main__.InputExample object at 0x7facd70aed90>, <__main__.InputExample object at 0x7facd70aee50>, <__main__.InputExample object at 0x7facd70aef10>, <__main__.InputExample object at 0x7facd70aefd0>, <__main__.InputExample object at 0x7facd70b00d0>, <__main__.InputExample object at 0x7facd70b0190>, <__main__.InputExample object at 0x7facd70b0250>, <__main__.InputExample object at 0x7facd70b0310>, <__main__.InputExample object at 0x7facd70b03d0>, <__main__.InputExample object at 0x7facd70b0490>, <__main__.InputExample object at 0x7facd70b0550>, <__main__.InputExample object at 0x7facd70b0610>, <__main__.InputExample object at 0x7facd70b06d0>, <__main__.InputExample object at 0x7facd70b0790>, <__main__.InputExample object at 0x7facd70b0850>, <__main__.InputExample object at 0x7facd70b0910>, <__main__.InputExample object at 0x7facd70b09d0>, <__main__.InputExample object at 0x7facd70b0a90>, <__main__.InputExample object at 0x7facd70b0b50>, <__main__.InputExample object at 0x7facd70b0c10>, <__main__.InputExample object at 0x7facd70b0cd0>, <__main__.InputExample object at 0x7facd70b0d90>, <__main__.InputExample object at 0x7facd70b0e50>, <__main__.InputExample object at 0x7facd70b0f10>, <__main__.InputExample object at 0x7facd70b0fd0>, <__main__.InputExample object at 0x7facd70b10d0>, <__main__.InputExample object at 0x7facd70b1190>, <__main__.InputExample object at 0x7facd70b1250>, <__main__.InputExample object at 0x7facd70b1310>, <__main__.InputExample object at 0x7facd70b13d0>, <__main__.InputExample object at 0x7facd70b1490>, <__main__.InputExample object at 0x7facd70b1550>, <__main__.InputExample object at 0x7facd70b1610>, <__main__.InputExample object at 0x7facd70b16d0>, <__main__.InputExample object at 0x7facd70b1790>, <__main__.InputExample object at 0x7facd70b1850>, <__main__.InputExample object at 0x7facd70b1910>, <__main__.InputExample object at 0x7facd70b19d0>, <__main__.InputExample object at 0x7facd70b1a90>, <__main__.InputExample object at 0x7facd70b1b50>, <__main__.InputExample object at 0x7facd70b1c10>, <__main__.InputExample object at 0x7facd70b1cd0>, <__main__.InputExample object at 0x7facd70b1d90>, <__main__.InputExample object at 0x7facd70b1e50>, <__main__.InputExample object at 0x7facd8e7c0d0>, <__main__.InputExample object at 0x7facd8e7c3d0>, <__main__.InputExample object at 0x7facd8e7cf90>, <__main__.InputExample object at 0x7facd8e7c090>, <__main__.InputExample object at 0x7facd6afd390>, <__main__.InputExample object at 0x7facd6afd890>, <__main__.InputExample object at 0x7facd8f7e3d0>, <__main__.InputExample object at 0x7facd9070f90>, <__main__.InputExample object at 0x7facc332cf50>, <__main__.InputExample object at 0x7facc332cd90>, <__main__.InputExample object at 0x7facc332ce10>, <__main__.InputExample object at 0x7facc332c150>, <__main__.InputExample object at 0x7facc332c190>, <__main__.InputExample object at 0x7facc332ca10>, <__main__.InputExample object at 0x7facd70b1f10>, <__main__.InputExample object at 0x7facd70b1fd0>, <__main__.InputExample object at 0x7facd70b20d0>, <__main__.InputExample object at 0x7facd70b2190>, <__main__.InputExample object at 0x7facd70b2250>, <__main__.InputExample object at 0x7facd70b2310>, <__main__.InputExample object at 0x7facd70b23d0>, <__main__.InputExample object at 0x7facd70b2490>, <__main__.InputExample object at 0x7facd70b2550>, <__main__.InputExample object at 0x7facd70b2610>, <__main__.InputExample object at 0x7facd70b26d0>, <__main__.InputExample object at 0x7facd70b2790>, <__main__.InputExample object at 0x7facd70b2850>, <__main__.InputExample object at 0x7facd70b2910>, <__main__.InputExample object at 0x7facd70b29d0>, <__main__.InputExample object at 0x7facd70b2a90>, <__main__.InputExample object at 0x7facd70b2b50>, <__main__.InputExample object at 0x7facd70b2c10>, <__main__.InputExample object at 0x7facd70b2cd0>, <__main__.InputExample object at 0x7facd70b2d90>, <__main__.InputExample object at 0x7facd70b2e50>, <__main__.InputExample object at 0x7facd70b2f10>, <__main__.InputExample object at 0x7facd70b2fd0>, <__main__.InputExample object at 0x7facd70b30d0>, <__main__.InputExample object at 0x7facd70b3190>, <__main__.InputExample object at 0x7facd70b3250>, <__main__.InputExample object at 0x7facd70b3310>, <__main__.InputExample object at 0x7facd70b33d0>, <__main__.InputExample object at 0x7facd70b3490>, <__main__.InputExample object at 0x7facd70b3550>, <__main__.InputExample object at 0x7facd70b3610>, <__main__.InputExample object at 0x7facd70b36d0>, <__main__.InputExample object at 0x7facd70b3790>, <__main__.InputExample object at 0x7facd70b3850>, <__main__.InputExample object at 0x7facd70b3910>, <__main__.InputExample object at 0x7facd70b39d0>, <__main__.InputExample object at 0x7facd70b3a90>, <__main__.InputExample object at 0x7facd70b3b50>, <__main__.InputExample object at 0x7facd70b3c10>, <__main__.InputExample object at 0x7facd70b3cd0>, <__main__.InputExample object at 0x7facd70b3d90>, <__main__.InputExample object at 0x7facd70b3e50>, <__main__.InputExample object at 0x7facd70b3f10>, <__main__.InputExample object at 0x7facd70b3fd0>, <__main__.InputExample object at 0x7facd70b50d0>, <__main__.InputExample object at 0x7facd70b5190>, <__main__.InputExample object at 0x7facd70b5250>, <__main__.InputExample object at 0x7facd70b5310>, <__main__.InputExample object at 0x7facd70b53d0>, <__main__.InputExample object at 0x7facd70b5490>, <__main__.InputExample object at 0x7facd70b5550>, <__main__.InputExample object at 0x7facd70b5610>, <__main__.InputExample object at 0x7facd70b56d0>, <__main__.InputExample object at 0x7facd70b5790>, <__main__.InputExample object at 0x7facd70b5850>, <__main__.InputExample object at 0x7facd70b5910>, <__main__.InputExample object at 0x7facd70b59d0>, <__main__.InputExample object at 0x7facd70b5a90>, <__main__.InputExample object at 0x7facd70b5b50>, <__main__.InputExample object at 0x7facd70b5c10>, <__main__.InputExample object at 0x7facd70b5cd0>, <__main__.InputExample object at 0x7facd70b5d90>, <__main__.InputExample object at 0x7facd70b5e50>, <__main__.InputExample object at 0x7facd70b5f10>, <__main__.InputExample object at 0x7facd70b5fd0>, <__main__.InputExample object at 0x7facd70b70d0>, <__main__.InputExample object at 0x7facd70b7190>, <__main__.InputExample object at 0x7facd70b7250>, <__main__.InputExample object at 0x7facd70b7310>, <__main__.InputExample object at 0x7facd70b73d0>, <__main__.InputExample object at 0x7facd70b7490>, <__main__.InputExample object at 0x7facd70b7550>, <__main__.InputExample object at 0x7facd70b7610>, <__main__.InputExample object at 0x7facd70b76d0>, <__main__.InputExample object at 0x7facd70b7790>, <__main__.InputExample object at 0x7facd70b7850>, <__main__.InputExample object at 0x7facd70b7910>, <__main__.InputExample object at 0x7facd70b79d0>, <__main__.InputExample object at 0x7facd70b7a90>, <__main__.InputExample object at 0x7facd70b7b50>, <__main__.InputExample object at 0x7facd70b7c10>, <__main__.InputExample object at 0x7facd70b7cd0>, <__main__.InputExample object at 0x7facd70b7d90>, <__main__.InputExample object at 0x7facd70b7e50>, <__main__.InputExample object at 0x7facd70b7f10>, <__main__.InputExample object at 0x7facd70b7fd0>, <__main__.InputExample object at 0x7facd70b90d0>, <__main__.InputExample object at 0x7facd70b9190>, <__main__.InputExample object at 0x7facd70b9250>, <__main__.InputExample object at 0x7facd70b9310>, <__main__.InputExample object at 0x7facd70b93d0>, <__main__.InputExample object at 0x7facd70b9490>, <__main__.InputExample object at 0x7facd70b9550>, <__main__.InputExample object at 0x7facd70b9610>, <__main__.InputExample object at 0x7facd70b96d0>, <__main__.InputExample object at 0x7facd70b9790>, <__main__.InputExample object at 0x7facd70b9850>, <__main__.InputExample object at 0x7facd70b9910>, <__main__.InputExample object at 0x7facd70b99d0>, <__main__.InputExample object at 0x7facd70b9a90>, <__main__.InputExample object at 0x7facd70b9b50>, <__main__.InputExample object at 0x7facd70b9c10>, <__main__.InputExample object at 0x7facd70b9cd0>, <__main__.InputExample object at 0x7facd70b9d90>, <__main__.InputExample object at 0x7facd70b9e50>, <__main__.InputExample object at 0x7facd70b9f10>, <__main__.InputExample object at 0x7facd70b9fd0>, <__main__.InputExample object at 0x7facc2f680d0>, <__main__.InputExample object at 0x7facc2f68190>, <__main__.InputExample object at 0x7facc2f68250>, <__main__.InputExample object at 0x7facc2f68310>, <__main__.InputExample object at 0x7facc2f683d0>, <__main__.InputExample object at 0x7facc2f68490>, <__main__.InputExample object at 0x7facc2f68550>, <__main__.InputExample object at 0x7facc2f68610>, <__main__.InputExample object at 0x7facc2f686d0>, <__main__.InputExample object at 0x7facc2f68790>, <__main__.InputExample object at 0x7facc2f68850>, <__main__.InputExample object at 0x7facc2f68910>, <__main__.InputExample object at 0x7facc2f689d0>, <__main__.InputExample object at 0x7facc2f68a90>, <__main__.InputExample object at 0x7facc2f68b50>, <__main__.InputExample object at 0x7facc2f68c10>, <__main__.InputExample object at 0x7facc2f68cd0>, <__main__.InputExample object at 0x7facc2f68d90>, <__main__.InputExample object at 0x7facc2f68e50>, <__main__.InputExample object at 0x7facc2f68f10>, <__main__.InputExample object at 0x7facc2f68fd0>, <__main__.InputExample object at 0x7facc2f6a0d0>, <__main__.InputExample object at 0x7facc2f6a190>, <__main__.InputExample object at 0x7facc2f6a250>, <__main__.InputExample object at 0x7facc2f6a310>, <__main__.InputExample object at 0x7facc2f6a3d0>, <__main__.InputExample object at 0x7facc2f6a490>, <__main__.InputExample object at 0x7facc2f6a550>, <__main__.InputExample object at 0x7facc2f6a610>, <__main__.InputExample object at 0x7facc2f6a6d0>, <__main__.InputExample object at 0x7facc2f6a790>, <__main__.InputExample object at 0x7facc2f6a850>, <__main__.InputExample object at 0x7facc2f6a910>, <__main__.InputExample object at 0x7facc2f6a9d0>, <__main__.InputExample object at 0x7facc2f6aa90>, <__main__.InputExample object at 0x7facc2f6ab50>, <__main__.InputExample object at 0x7facc2f6ac10>, <__main__.InputExample object at 0x7facc2f6acd0>, <__main__.InputExample object at 0x7facc2f6ad90>, <__main__.InputExample object at 0x7facc2f6ae50>, <__main__.InputExample object at 0x7facc2f6af10>, <__main__.InputExample object at 0x7facc2f6afd0>, <__main__.InputExample object at 0x7facc2f6b0d0>, <__main__.InputExample object at 0x7facc2f6b190>, <__main__.InputExample object at 0x7facc2f6b250>, <__main__.InputExample object at 0x7facc2f6b310>, <__main__.InputExample object at 0x7facc2f6b3d0>, <__main__.InputExample object at 0x7facc2f6b490>, <__main__.InputExample object at 0x7facc2f6b550>, <__main__.InputExample object at 0x7facc2f6b610>, <__main__.InputExample object at 0x7facc2f6b6d0>, <__main__.InputExample object at 0x7facc2f6b790>, <__main__.InputExample object at 0x7facc2f6b850>, <__main__.InputExample object at 0x7facc2f6b910>, <__main__.InputExample object at 0x7facc2f6b9d0>, <__main__.InputExample object at 0x7facc2f6ba90>, <__main__.InputExample object at 0x7facc2f6bb50>, <__main__.InputExample object at 0x7facc2f6bc10>, <__main__.InputExample object at 0x7facc2f6bcd0>, <__main__.InputExample object at 0x7facc2f6bd90>, <__main__.InputExample object at 0x7facc2f6be50>, <__main__.InputExample object at 0x7facc2f6bf10>, <__main__.InputExample object at 0x7facc2f6bfd0>, <__main__.InputExample object at 0x7facc2f6c0d0>, <__main__.InputExample object at 0x7facc2f6c190>, <__main__.InputExample object at 0x7facc2f6c250>, <__main__.InputExample object at 0x7facc2f6c310>, <__main__.InputExample object at 0x7facc2f6c3d0>, <__main__.InputExample object at 0x7facc2f6c490>, <__main__.InputExample object at 0x7facc2f6c550>, <__main__.InputExample object at 0x7facc2f6c610>, <__main__.InputExample object at 0x7facc2f6c6d0>, <__main__.InputExample object at 0x7facc2f6c790>, <__main__.InputExample object at 0x7facc2f6c850>, <__main__.InputExample object at 0x7facc2f6c910>, <__main__.InputExample object at 0x7facc2f6c9d0>, <__main__.InputExample object at 0x7facc2f6ca90>, <__main__.InputExample object at 0x7facc2f6cb50>, <__main__.InputExample object at 0x7facc2f6cc10>, <__main__.InputExample object at 0x7facc2f6ccd0>, <__main__.InputExample object at 0x7facc2f6cd90>, <__main__.InputExample object at 0x7facc2f6ce50>, <__main__.InputExample object at 0x7facc2f6cf10>, <__main__.InputExample object at 0x7facc2f6cfd0>, <__main__.InputExample object at 0x7facc2f6d0d0>, <__main__.InputExample object at 0x7facc2f6d190>, <__main__.InputExample object at 0x7facc2f6d250>, <__main__.InputExample object at 0x7facc2f6d310>, <__main__.InputExample object at 0x7facc2f6d3d0>, <__main__.InputExample object at 0x7facc2f6d490>, <__main__.InputExample object at 0x7facc2f6d550>, <__main__.InputExample object at 0x7facc2f6d610>, <__main__.InputExample object at 0x7facc2f6d6d0>, <__main__.InputExample object at 0x7facc2f6d790>, <__main__.InputExample object at 0x7facc2f6d850>, <__main__.InputExample object at 0x7facc2f6d910>, <__main__.InputExample object at 0x7facc2f6d9d0>, <__main__.InputExample object at 0x7facc2f6da90>, <__main__.InputExample object at 0x7facc2f6db50>, <__main__.InputExample object at 0x7facc2f6dc10>, <__main__.InputExample object at 0x7facc2f6dcd0>, <__main__.InputExample object at 0x7facc2f6dd90>, <__main__.InputExample object at 0x7facc2f6de50>, <__main__.InputExample object at 0x7facc2f6df10>, <__main__.InputExample object at 0x7facc2f6dfd0>, <__main__.InputExample object at 0x7facc2f6f0d0>, <__main__.InputExample object at 0x7facc2f6f190>, <__main__.InputExample object at 0x7facc2f6f250>, <__main__.InputExample object at 0x7facc2f6f310>, <__main__.InputExample object at 0x7facc2f6f3d0>, <__main__.InputExample object at 0x7facc2f6f490>, <__main__.InputExample object at 0x7facc2f6f550>, <__main__.InputExample object at 0x7facc2f6f610>, <__main__.InputExample object at 0x7facc2f6f6d0>, <__main__.InputExample object at 0x7facc2f6f790>, <__main__.InputExample object at 0x7facc2f6f850>, <__main__.InputExample object at 0x7facc2f6f910>, <__main__.InputExample object at 0x7facc2f6f9d0>, <__main__.InputExample object at 0x7facc2f6fa90>, <__main__.InputExample object at 0x7facc2f6fb50>, <__main__.InputExample object at 0x7facc2f6fc10>, <__main__.InputExample object at 0x7facc2f6fcd0>, <__main__.InputExample object at 0x7facc2f6fd90>, <__main__.InputExample object at 0x7facc2f6fe50>, <__main__.InputExample object at 0x7facc2f6ff10>, <__main__.InputExample object at 0x7facc2f6ffd0>, <__main__.InputExample object at 0x7facc2f700d0>, <__main__.InputExample object at 0x7facc2f70190>, <__main__.InputExample object at 0x7facc2f70250>, <__main__.InputExample object at 0x7facc2f70310>, <__main__.InputExample object at 0x7facc2f703d0>, <__main__.InputExample object at 0x7facc2f70490>, <__main__.InputExample object at 0x7facc2f70550>, <__main__.InputExample object at 0x7facc2f70610>, <__main__.InputExample object at 0x7facc2f706d0>, <__main__.InputExample object at 0x7facc2f70790>, <__main__.InputExample object at 0x7facc2f70850>, <__main__.InputExample object at 0x7facc2f70910>, <__main__.InputExample object at 0x7facc2f709d0>, <__main__.InputExample object at 0x7facc2f70a90>, <__main__.InputExample object at 0x7facc2f70b50>, <__main__.InputExample object at 0x7facc2f70c10>, <__main__.InputExample object at 0x7facc2f70cd0>, <__main__.InputExample object at 0x7facc2f70d90>, <__main__.InputExample object at 0x7facc2f70e50>, <__main__.InputExample object at 0x7facc2f70f10>, <__main__.InputExample object at 0x7facc2f70fd0>, <__main__.InputExample object at 0x7facc2f710d0>, <__main__.InputExample object at 0x7facc2f71190>, <__main__.InputExample object at 0x7facc2f71250>, <__main__.InputExample object at 0x7facc2f71310>, <__main__.InputExample object at 0x7facc2f713d0>, <__main__.InputExample object at 0x7facc2f71490>, <__main__.InputExample object at 0x7facc2f71550>, <__main__.InputExample object at 0x7facc2f71610>, <__main__.InputExample object at 0x7facc2f716d0>, <__main__.InputExample object at 0x7facc2f71790>, <__main__.InputExample object at 0x7facc2f71850>, <__main__.InputExample object at 0x7facc2f71910>, <__main__.InputExample object at 0x7facc2f719d0>, <__main__.InputExample object at 0x7facc2f71a90>, <__main__.InputExample object at 0x7facc2f71b50>, <__main__.InputExample object at 0x7facc2f71c10>, <__main__.InputExample object at 0x7facc2f71cd0>, <__main__.InputExample object at 0x7facc2f71d90>, <__main__.InputExample object at 0x7facc2f71e50>, <__main__.InputExample object at 0x7facc2f71f10>, <__main__.InputExample object at 0x7facc2f71fd0>, <__main__.InputExample object at 0x7facc2f720d0>, <__main__.InputExample object at 0x7facc2f72190>, <__main__.InputExample object at 0x7facc2f72250>, <__main__.InputExample object at 0x7facc2f72310>, <__main__.InputExample object at 0x7facc2f723d0>, <__main__.InputExample object at 0x7facc2f72490>, <__main__.InputExample object at 0x7facc2f72550>, <__main__.InputExample object at 0x7facc2f72610>, <__main__.InputExample object at 0x7facc2f726d0>, <__main__.InputExample object at 0x7facc2f72790>, <__main__.InputExample object at 0x7facc2f72850>, <__main__.InputExample object at 0x7facc2f72910>, <__main__.InputExample object at 0x7facc2f729d0>, <__main__.InputExample object at 0x7facc2f72a90>, <__main__.InputExample object at 0x7facc2f72b50>, <__main__.InputExample object at 0x7facc2f72c10>, <__main__.InputExample object at 0x7facc2f72cd0>, <__main__.InputExample object at 0x7facc2f72d90>, <__main__.InputExample object at 0x7facc2f72e50>, <__main__.InputExample object at 0x7facc2f72f10>, <__main__.InputExample object at 0x7facc2f72fd0>, <__main__.InputExample object at 0x7facc2f740d0>, <__main__.InputExample object at 0x7facc2f74190>, <__main__.InputExample object at 0x7facc2f74250>, <__main__.InputExample object at 0x7facc2f74310>, <__main__.InputExample object at 0x7facc2f743d0>, <__main__.InputExample object at 0x7facc2f74490>, <__main__.InputExample object at 0x7facc2f74550>, <__main__.InputExample object at 0x7facc2f74610>, <__main__.InputExample object at 0x7facc2f746d0>, <__main__.InputExample object at 0x7facc2f74790>, <__main__.InputExample object at 0x7facc2f74850>, <__main__.InputExample object at 0x7facc2f74910>, <__main__.InputExample object at 0x7facc2f749d0>, <__main__.InputExample object at 0x7facc2f74a90>, <__main__.InputExample object at 0x7facc2f74b50>, <__main__.InputExample object at 0x7facc2f74c10>, <__main__.InputExample object at 0x7facc2f74cd0>, <__main__.InputExample object at 0x7facc2f74d90>, <__main__.InputExample object at 0x7facc2f74e50>, <__main__.InputExample object at 0x7facc2f74f10>, <__main__.InputExample object at 0x7facc2f74fd0>, <__main__.InputExample object at 0x7facc2f750d0>, <__main__.InputExample object at 0x7facc2f75190>, <__main__.InputExample object at 0x7facc2f75250>, <__main__.InputExample object at 0x7facc2f75310>, <__main__.InputExample object at 0x7facc2f753d0>, <__main__.InputExample object at 0x7facc2f75490>, <__main__.InputExample object at 0x7facc2f75550>, <__main__.InputExample object at 0x7facc2f75610>, <__main__.InputExample object at 0x7facc2f756d0>, <__main__.InputExample object at 0x7facc2f75790>, <__main__.InputExample object at 0x7facc2f75850>, <__main__.InputExample object at 0x7facc2f75910>, <__main__.InputExample object at 0x7facc2f759d0>, <__main__.InputExample object at 0x7facc2f75a90>, <__main__.InputExample object at 0x7facc2f75b50>, <__main__.InputExample object at 0x7facc2f75c10>, <__main__.InputExample object at 0x7facc2f75cd0>, <__main__.InputExample object at 0x7facc2f75d90>, <__main__.InputExample object at 0x7facc2f75e50>, <__main__.InputExample object at 0x7facc2f75f10>, <__main__.InputExample object at 0x7facc2f75fd0>, <__main__.InputExample object at 0x7facc2f760d0>, <__main__.InputExample object at 0x7facc2f76190>, <__main__.InputExample object at 0x7facc2f76250>, <__main__.InputExample object at 0x7facc2f76310>, <__main__.InputExample object at 0x7facc2f763d0>, <__main__.InputExample object at 0x7facc2f76490>, <__main__.InputExample object at 0x7facc2f76550>, <__main__.InputExample object at 0x7facc2f76610>, <__main__.InputExample object at 0x7facc2f766d0>, <__main__.InputExample object at 0x7facc2f76790>, <__main__.InputExample object at 0x7facc2f76850>, <__main__.InputExample object at 0x7facc2f76910>, <__main__.InputExample object at 0x7facc2f769d0>, <__main__.InputExample object at 0x7facc2f76a90>, <__main__.InputExample object at 0x7facc2f76b50>, <__main__.InputExample object at 0x7facc2f76c10>, <__main__.InputExample object at 0x7facc2f76cd0>, <__main__.InputExample object at 0x7facc2f76d90>, <__main__.InputExample object at 0x7facc2f76e50>, <__main__.InputExample object at 0x7facc2f76f10>, <__main__.InputExample object at 0x7facc2f76fd0>, <__main__.InputExample object at 0x7facc2f770d0>, <__main__.InputExample object at 0x7facc2f77190>, <__main__.InputExample object at 0x7facc2f77250>, <__main__.InputExample object at 0x7facc2f77310>, <__main__.InputExample object at 0x7facc2f773d0>, <__main__.InputExample object at 0x7facc2f77490>, <__main__.InputExample object at 0x7facc2f77550>, <__main__.InputExample object at 0x7facc2f77610>, <__main__.InputExample object at 0x7facc2f776d0>, <__main__.InputExample object at 0x7facc2f77790>, <__main__.InputExample object at 0x7facc2f77850>, <__main__.InputExample object at 0x7facc2f77910>, <__main__.InputExample object at 0x7facc2f779d0>, <__main__.InputExample object at 0x7facc2f77a90>, <__main__.InputExample object at 0x7facc2f77b50>, <__main__.InputExample object at 0x7facc2f77c10>, <__main__.InputExample object at 0x7facc2f77cd0>, <__main__.InputExample object at 0x7facc2f77d90>, <__main__.InputExample object at 0x7facc2f77e50>, <__main__.InputExample object at 0x7facc2f77f10>, <__main__.InputExample object at 0x7facc2f77fd0>, <__main__.InputExample object at 0x7facc2f790d0>, <__main__.InputExample object at 0x7facc2f79190>, <__main__.InputExample object at 0x7facc2f79250>, <__main__.InputExample object at 0x7facc2f79310>, <__main__.InputExample object at 0x7facc2f793d0>, <__main__.InputExample object at 0x7facc2f79490>, <__main__.InputExample object at 0x7facc2f79550>, <__main__.InputExample object at 0x7facc2f79610>, <__main__.InputExample object at 0x7facc2f796d0>, <__main__.InputExample object at 0x7facc2f79790>, <__main__.InputExample object at 0x7facc2f79850>, <__main__.InputExample object at 0x7facc2f79910>, <__main__.InputExample object at 0x7facc2f799d0>, <__main__.InputExample object at 0x7facc2f79a90>, <__main__.InputExample object at 0x7facc2f79b50>, <__main__.InputExample object at 0x7facc2f79c10>, <__main__.InputExample object at 0x7facc2f79cd0>, <__main__.InputExample object at 0x7facc2f79d90>, <__main__.InputExample object at 0x7facc2f79e50>, <__main__.InputExample object at 0x7facc2f79f10>, <__main__.InputExample object at 0x7facc2f79fd0>, <__main__.InputExample object at 0x7facc2f7a0d0>, <__main__.InputExample object at 0x7facc2f7a190>, <__main__.InputExample object at 0x7facc2f7a250>, <__main__.InputExample object at 0x7facc2f7a310>, <__main__.InputExample object at 0x7facc2f7a3d0>, <__main__.InputExample object at 0x7facc2f7a490>, <__main__.InputExample object at 0x7facc2f7a550>, <__main__.InputExample object at 0x7facc2f7a610>, <__main__.InputExample object at 0x7facc2f7a6d0>, <__main__.InputExample object at 0x7facc2f7a790>, <__main__.InputExample object at 0x7facc2f7a850>, <__main__.InputExample object at 0x7facc2f7a910>, <__main__.InputExample object at 0x7facc2f7a9d0>, <__main__.InputExample object at 0x7facc2f7aa90>, <__main__.InputExample object at 0x7facc2f7ab50>, <__main__.InputExample object at 0x7facc2f7ac10>, <__main__.InputExample object at 0x7facc2f7acd0>, <__main__.InputExample object at 0x7facc2f7ad90>, <__main__.InputExample object at 0x7facc2f7ae50>, <__main__.InputExample object at 0x7facc2f7af10>, <__main__.InputExample object at 0x7facc2f7afd0>, <__main__.InputExample object at 0x7facc2f7b0d0>, <__main__.InputExample object at 0x7facc2f7b190>, <__main__.InputExample object at 0x7facc2f7b250>, <__main__.InputExample object at 0x7facc2f7b310>, <__main__.InputExample object at 0x7facc2f7b3d0>, <__main__.InputExample object at 0x7facc2f7b490>, <__main__.InputExample object at 0x7facc2f7b550>, <__main__.InputExample object at 0x7facc2f7b610>, <__main__.InputExample object at 0x7facc2f7b6d0>, <__main__.InputExample object at 0x7facc2f7b790>, <__main__.InputExample object at 0x7facc2f7b850>, <__main__.InputExample object at 0x7facc2f7b910>, <__main__.InputExample object at 0x7facc2f7b9d0>, <__main__.InputExample object at 0x7facc2f7ba90>, <__main__.InputExample object at 0x7facc2f7bb50>, <__main__.InputExample object at 0x7facc2f7bc10>, <__main__.InputExample object at 0x7facc2f7bcd0>, <__main__.InputExample object at 0x7facc2f7bd90>, <__main__.InputExample object at 0x7facc2f7be50>, <__main__.InputExample object at 0x7facc2f7bf10>, <__main__.InputExample object at 0x7facc2f7bfd0>, <__main__.InputExample object at 0x7facc2f7c0d0>, <__main__.InputExample object at 0x7facc2f7c190>, <__main__.InputExample object at 0x7facc2f7c250>, <__main__.InputExample object at 0x7facc2f7c310>, <__main__.InputExample object at 0x7facc2f7c3d0>, <__main__.InputExample object at 0x7facc2f7c490>, <__main__.InputExample object at 0x7facc2f7c550>, <__main__.InputExample object at 0x7facc2f7c610>, <__main__.InputExample object at 0x7facc2f7c6d0>, <__main__.InputExample object at 0x7facc2f7c790>, <__main__.InputExample object at 0x7facc2f7c850>, <__main__.InputExample object at 0x7facc2f7c910>, <__main__.InputExample object at 0x7facc2f7c9d0>, <__main__.InputExample object at 0x7facc2f7ca90>, <__main__.InputExample object at 0x7facc2f7cb50>, <__main__.InputExample object at 0x7facc2f7cc10>, <__main__.InputExample object at 0x7facc2f7ccd0>, <__main__.InputExample object at 0x7facc2f7cd90>, <__main__.InputExample object at 0x7facc2f7ce50>, <__main__.InputExample object at 0x7facc2f7cf10>, <__main__.InputExample object at 0x7facc2f7cfd0>, <__main__.InputExample object at 0x7facc2f7e0d0>, <__main__.InputExample object at 0x7facc2f7e190>, <__main__.InputExample object at 0x7facc2f7e250>, <__main__.InputExample object at 0x7facc2f7e310>, <__main__.InputExample object at 0x7facc2f7e3d0>, <__main__.InputExample object at 0x7facc2f7e490>, <__main__.InputExample object at 0x7facc2f7e550>, <__main__.InputExample object at 0x7facc2f7e610>, <__main__.InputExample object at 0x7facc2f7e6d0>, <__main__.InputExample object at 0x7facc2f7e790>, <__main__.InputExample object at 0x7facc2f7e850>, <__main__.InputExample object at 0x7facc2f7e910>, <__main__.InputExample object at 0x7facc2f7e9d0>, <__main__.InputExample object at 0x7facc2f7ea90>, <__main__.InputExample object at 0x7facc2f7eb50>, <__main__.InputExample object at 0x7facc2f7ec10>, <__main__.InputExample object at 0x7facc2f7ecd0>, <__main__.InputExample object at 0x7facc2f7ed90>, <__main__.InputExample object at 0x7facc2f7ee50>, <__main__.InputExample object at 0x7facc2f7ef10>, <__main__.InputExample object at 0x7facc2f7efd0>, <__main__.InputExample object at 0x7facd71770d0>, <__main__.InputExample object at 0x7facd7177190>, <__main__.InputExample object at 0x7facd7177250>, <__main__.InputExample object at 0x7facd7177310>, <__main__.InputExample object at 0x7facd71773d0>, <__main__.InputExample object at 0x7facd7177490>, <__main__.InputExample object at 0x7facd7177550>, <__main__.InputExample object at 0x7facd7177610>, <__main__.InputExample object at 0x7facd71776d0>, <__main__.InputExample object at 0x7facd7177790>, <__main__.InputExample object at 0x7facd7177850>, <__main__.InputExample object at 0x7facd7177910>, <__main__.InputExample object at 0x7facd71779d0>, <__main__.InputExample object at 0x7facd7177a90>, <__main__.InputExample object at 0x7facd7177b50>, <__main__.InputExample object at 0x7facd7177c10>, <__main__.InputExample object at 0x7facd7177cd0>, <__main__.InputExample object at 0x7facd7177d90>, <__main__.InputExample object at 0x7facd7177e50>, <__main__.InputExample object at 0x7facd7177f10>, <__main__.InputExample object at 0x7facd7177fd0>, <__main__.InputExample object at 0x7facd71790d0>, <__main__.InputExample object at 0x7facd7179190>, <__main__.InputExample object at 0x7facd7179250>, <__main__.InputExample object at 0x7facd7179310>, <__main__.InputExample object at 0x7facd71793d0>, <__main__.InputExample object at 0x7facd7179490>, <__main__.InputExample object at 0x7facd7179550>, <__main__.InputExample object at 0x7facd7179610>, <__main__.InputExample object at 0x7facd71796d0>, <__main__.InputExample object at 0x7facd7179790>, <__main__.InputExample object at 0x7facd7179850>, <__main__.InputExample object at 0x7facd7179910>, <__main__.InputExample object at 0x7facd71799d0>, <__main__.InputExample object at 0x7facd7179a90>, <__main__.InputExample object at 0x7facd7179b50>, <__main__.InputExample object at 0x7facd7179c10>, <__main__.InputExample object at 0x7facd7179cd0>, <__main__.InputExample object at 0x7facd7179d90>, <__main__.InputExample object at 0x7facd7179e50>, <__main__.InputExample object at 0x7facd7179f10>, <__main__.InputExample object at 0x7facd7179fd0>, <__main__.InputExample object at 0x7facd71830d0>, <__main__.InputExample object at 0x7facd7183190>, <__main__.InputExample object at 0x7facd7183250>, <__main__.InputExample object at 0x7facd7183310>, <__main__.InputExample object at 0x7facd71833d0>, <__main__.InputExample object at 0x7facd7183490>, <__main__.InputExample object at 0x7facd7183550>, <__main__.InputExample object at 0x7facd7183610>, <__main__.InputExample object at 0x7facd71836d0>, <__main__.InputExample object at 0x7facd7183790>, <__main__.InputExample object at 0x7facd7183850>, <__main__.InputExample object at 0x7facd7183910>, <__main__.InputExample object at 0x7facd71839d0>, <__main__.InputExample object at 0x7facd7183a90>, <__main__.InputExample object at 0x7facd7183b50>, <__main__.InputExample object at 0x7facd7183c10>, <__main__.InputExample object at 0x7facd7183cd0>, <__main__.InputExample object at 0x7facd7183d90>, <__main__.InputExample object at 0x7facd7183e50>, <__main__.InputExample object at 0x7facd7183f10>, <__main__.InputExample object at 0x7facd7183fd0>, <__main__.InputExample object at 0x7facd718d0d0>, <__main__.InputExample object at 0x7facd718d190>, <__main__.InputExample object at 0x7facd718d250>, <__main__.InputExample object at 0x7facd718d310>, <__main__.InputExample object at 0x7facd718d3d0>, <__main__.InputExample object at 0x7facd718d490>, <__main__.InputExample object at 0x7facd718d550>, <__main__.InputExample object at 0x7facd718d610>, <__main__.InputExample object at 0x7facd718d6d0>, <__main__.InputExample object at 0x7facd718d790>, <__main__.InputExample object at 0x7facd718d850>, <__main__.InputExample object at 0x7facd718d910>, <__main__.InputExample object at 0x7facd718d9d0>, <__main__.InputExample object at 0x7facd718da90>, <__main__.InputExample object at 0x7facd718db50>, <__main__.InputExample object at 0x7facd718dc10>, <__main__.InputExample object at 0x7facd718dcd0>, <__main__.InputExample object at 0x7facd718dd90>, <__main__.InputExample object at 0x7facd718de50>, <__main__.InputExample object at 0x7facd718df10>, <__main__.InputExample object at 0x7facd718dfd0>, <__main__.InputExample object at 0x7facd718e0d0>, <__main__.InputExample object at 0x7facd718e190>, <__main__.InputExample object at 0x7facd718e250>, <__main__.InputExample object at 0x7facd718e310>, <__main__.InputExample object at 0x7facd718e3d0>, <__main__.InputExample object at 0x7facd718e490>, <__main__.InputExample object at 0x7facd718e550>, <__main__.InputExample object at 0x7facd718e610>, <__main__.InputExample object at 0x7facd718e6d0>, <__main__.InputExample object at 0x7facd718e790>, <__main__.InputExample object at 0x7facd718e850>, <__main__.InputExample object at 0x7facd718e910>, <__main__.InputExample object at 0x7facd718e9d0>, <__main__.InputExample object at 0x7facd718ea90>, <__main__.InputExample object at 0x7facd718eb50>, <__main__.InputExample object at 0x7facd718ec10>, <__main__.InputExample object at 0x7facd718ecd0>, <__main__.InputExample object at 0x7facd718ed90>, <__main__.InputExample object at 0x7facd718ee50>, <__main__.InputExample object at 0x7facd718ef10>, <__main__.InputExample object at 0x7facd718efd0>, <__main__.InputExample object at 0x7facd718f0d0>, <__main__.InputExample object at 0x7facd718f190>, <__main__.InputExample object at 0x7facd718f250>, <__main__.InputExample object at 0x7facd718f310>, <__main__.InputExample object at 0x7facd718f3d0>, <__main__.InputExample object at 0x7facd718f490>, <__main__.InputExample object at 0x7facd718f550>, <__main__.InputExample object at 0x7facd718f610>, <__main__.InputExample object at 0x7facd718f6d0>, <__main__.InputExample object at 0x7facd718f790>, <__main__.InputExample object at 0x7facd718f850>, <__main__.InputExample object at 0x7facd718f910>, <__main__.InputExample object at 0x7facd718f9d0>, <__main__.InputExample object at 0x7facd718fa90>, <__main__.InputExample object at 0x7facd718fb50>, <__main__.InputExample object at 0x7facd718fc10>, <__main__.InputExample object at 0x7facd718fcd0>, <__main__.InputExample object at 0x7facd718fd90>, <__main__.InputExample object at 0x7facd718fe50>, <__main__.InputExample object at 0x7facd718ff10>, <__main__.InputExample object at 0x7facd718ffd0>, <__main__.InputExample object at 0x7facd71900d0>, <__main__.InputExample object at 0x7facd7190190>, <__main__.InputExample object at 0x7facd7190250>, <__main__.InputExample object at 0x7facd7190310>, <__main__.InputExample object at 0x7facd71903d0>, <__main__.InputExample object at 0x7facd7190490>, <__main__.InputExample object at 0x7facd7190550>, <__main__.InputExample object at 0x7facd7190610>, <__main__.InputExample object at 0x7facd71906d0>, <__main__.InputExample object at 0x7facd7190790>, <__main__.InputExample object at 0x7facd7190850>, <__main__.InputExample object at 0x7facd7190910>, <__main__.InputExample object at 0x7facd71909d0>, <__main__.InputExample object at 0x7facd7190a90>, <__main__.InputExample object at 0x7facd7190b50>, <__main__.InputExample object at 0x7facd7190c10>, <__main__.InputExample object at 0x7facd7190cd0>, <__main__.InputExample object at 0x7facd7190d90>, <__main__.InputExample object at 0x7facd7190e50>, <__main__.InputExample object at 0x7facd7190f10>, <__main__.InputExample object at 0x7facd7190fd0>, <__main__.InputExample object at 0x7facd71920d0>, <__main__.InputExample object at 0x7facd7192190>, <__main__.InputExample object at 0x7facd7192250>, <__main__.InputExample object at 0x7facd7192310>, <__main__.InputExample object at 0x7facd71923d0>, <__main__.InputExample object at 0x7facd7192490>, <__main__.InputExample object at 0x7facd7192550>, <__main__.InputExample object at 0x7facd7192610>, <__main__.InputExample object at 0x7facd71926d0>, <__main__.InputExample object at 0x7facd7192790>, <__main__.InputExample object at 0x7facd7192850>, <__main__.InputExample object at 0x7facd7192910>, <__main__.InputExample object at 0x7facd71929d0>, <__main__.InputExample object at 0x7facd7192a90>, <__main__.InputExample object at 0x7facd7192b50>, <__main__.InputExample object at 0x7facd7192c10>, <__main__.InputExample object at 0x7facd7192cd0>, <__main__.InputExample object at 0x7facd7192d90>, <__main__.InputExample object at 0x7facd7192e50>, <__main__.InputExample object at 0x7facd7192f10>, <__main__.InputExample object at 0x7facd7192fd0>, <__main__.InputExample object at 0x7facd71930d0>, <__main__.InputExample object at 0x7facd7193190>, <__main__.InputExample object at 0x7facd7193250>, <__main__.InputExample object at 0x7facd7193310>, <__main__.InputExample object at 0x7facd71933d0>, <__main__.InputExample object at 0x7facd7193490>, <__main__.InputExample object at 0x7facd7193550>, <__main__.InputExample object at 0x7facd7193610>, <__main__.InputExample object at 0x7facd71936d0>, <__main__.InputExample object at 0x7facd7193790>, <__main__.InputExample object at 0x7facd7193850>, <__main__.InputExample object at 0x7facd7193910>, <__main__.InputExample object at 0x7facd71939d0>, <__main__.InputExample object at 0x7facd7193a90>, <__main__.InputExample object at 0x7facd7193b50>, <__main__.InputExample object at 0x7facd7193c10>, <__main__.InputExample object at 0x7facd7193cd0>, <__main__.InputExample object at 0x7facd7193d90>, <__main__.InputExample object at 0x7facd7193e50>, <__main__.InputExample object at 0x7facd7193f10>, <__main__.InputExample object at 0x7facd7193fd0>, <__main__.InputExample object at 0x7facd71940d0>, <__main__.InputExample object at 0x7facd7194190>, <__main__.InputExample object at 0x7facd7194250>, <__main__.InputExample object at 0x7facd7194310>, <__main__.InputExample object at 0x7facd71943d0>, <__main__.InputExample object at 0x7facd7194490>, <__main__.InputExample object at 0x7facd7194550>, <__main__.InputExample object at 0x7facd7194610>, <__main__.InputExample object at 0x7facd71946d0>, <__main__.InputExample object at 0x7facd7194790>, <__main__.InputExample object at 0x7facd7194850>, <__main__.InputExample object at 0x7facd7194910>, <__main__.InputExample object at 0x7facd71949d0>, <__main__.InputExample object at 0x7facd7194a90>, <__main__.InputExample object at 0x7facd7194b50>, <__main__.InputExample object at 0x7facd7194c10>, <__main__.InputExample object at 0x7facd7194cd0>, <__main__.InputExample object at 0x7facd7194d90>, <__main__.InputExample object at 0x7facd7194e50>, <__main__.InputExample object at 0x7facd7194f10>, <__main__.InputExample object at 0x7facd7194fd0>, <__main__.InputExample object at 0x7facd71950d0>, <__main__.InputExample object at 0x7facd7195190>, <__main__.InputExample object at 0x7facd7195250>, <__main__.InputExample object at 0x7facd7195310>, <__main__.InputExample object at 0x7facd71953d0>, <__main__.InputExample object at 0x7facd7195490>, <__main__.InputExample object at 0x7facd7195550>, <__main__.InputExample object at 0x7facd7195610>, <__main__.InputExample object at 0x7facd71956d0>, <__main__.InputExample object at 0x7facd7195790>, <__main__.InputExample object at 0x7facd7195850>, <__main__.InputExample object at 0x7facd7195910>, <__main__.InputExample object at 0x7facd71959d0>, <__main__.InputExample object at 0x7facd7195a90>, <__main__.InputExample object at 0x7facd7195b50>, <__main__.InputExample object at 0x7facd7195c10>, <__main__.InputExample object at 0x7facd7195cd0>, <__main__.InputExample object at 0x7facd7195d90>, <__main__.InputExample object at 0x7facd7195e50>, <__main__.InputExample object at 0x7facd7195f10>, <__main__.InputExample object at 0x7facd7195fd0>, <__main__.InputExample object at 0x7facd71970d0>, <__main__.InputExample object at 0x7facd7197190>, <__main__.InputExample object at 0x7facd7197250>, <__main__.InputExample object at 0x7facd7197310>, <__main__.InputExample object at 0x7facd71973d0>, <__main__.InputExample object at 0x7facd7197490>, <__main__.InputExample object at 0x7facd7197550>, <__main__.InputExample object at 0x7facd7197610>, <__main__.InputExample object at 0x7facd71976d0>, <__main__.InputExample object at 0x7facd7197790>, <__main__.InputExample object at 0x7facd7197850>, <__main__.InputExample object at 0x7facd7197910>, <__main__.InputExample object at 0x7facd71979d0>, <__main__.InputExample object at 0x7facd7197a90>, <__main__.InputExample object at 0x7facd7197b50>, <__main__.InputExample object at 0x7facd7197c10>, <__main__.InputExample object at 0x7facd7197cd0>, <__main__.InputExample object at 0x7facd7197d90>, <__main__.InputExample object at 0x7facd7197e50>, <__main__.InputExample object at 0x7facd7197f10>, <__main__.InputExample object at 0x7facd7197fd0>, <__main__.InputExample object at 0x7facd71980d0>, <__main__.InputExample object at 0x7facd7198190>, <__main__.InputExample object at 0x7facd7198250>, <__main__.InputExample object at 0x7facd7198310>, <__main__.InputExample object at 0x7facd71983d0>, <__main__.InputExample object at 0x7facd7198490>, <__main__.InputExample object at 0x7facd7198550>, <__main__.InputExample object at 0x7facd7198610>, <__main__.InputExample object at 0x7facd71986d0>, <__main__.InputExample object at 0x7facd7198790>, <__main__.InputExample object at 0x7facd7198850>, <__main__.InputExample object at 0x7facd7198910>, <__main__.InputExample object at 0x7facd71989d0>, <__main__.InputExample object at 0x7facd7198a90>, <__main__.InputExample object at 0x7facd7198b50>, <__main__.InputExample object at 0x7facd7198c10>, <__main__.InputExample object at 0x7facd7198cd0>, <__main__.InputExample object at 0x7facd7198d90>, <__main__.InputExample object at 0x7facd7198e50>, <__main__.InputExample object at 0x7facd7198f10>, <__main__.InputExample object at 0x7facd7198fd0>, <__main__.InputExample object at 0x7facd71990d0>, <__main__.InputExample object at 0x7facd7199190>, <__main__.InputExample object at 0x7facd7199250>, <__main__.InputExample object at 0x7facd7199310>, <__main__.InputExample object at 0x7facd71993d0>, <__main__.InputExample object at 0x7facd7199490>, <__main__.InputExample object at 0x7facd7199550>, <__main__.InputExample object at 0x7facd7199610>, <__main__.InputExample object at 0x7facd71996d0>, <__main__.InputExample object at 0x7facd7199790>, <__main__.InputExample object at 0x7facd7199850>, <__main__.InputExample object at 0x7facd7199910>, <__main__.InputExample object at 0x7facd71999d0>, <__main__.InputExample object at 0x7facd7199a90>, <__main__.InputExample object at 0x7facd7199b50>, <__main__.InputExample object at 0x7facd7199c10>, <__main__.InputExample object at 0x7facd7199cd0>, <__main__.InputExample object at 0x7facd7199d90>, <__main__.InputExample object at 0x7facd7199e50>, <__main__.InputExample object at 0x7facd7199f10>, <__main__.InputExample object at 0x7facd7199fd0>, <__main__.InputExample object at 0x7facd719a0d0>, <__main__.InputExample object at 0x7facd719a190>, <__main__.InputExample object at 0x7facd719a250>, <__main__.InputExample object at 0x7facd719a310>, <__main__.InputExample object at 0x7facd719a3d0>, <__main__.InputExample object at 0x7facd719a490>, <__main__.InputExample object at 0x7facd719a550>, <__main__.InputExample object at 0x7facd719a610>, <__main__.InputExample object at 0x7facd719a6d0>, <__main__.InputExample object at 0x7facd719a790>, <__main__.InputExample object at 0x7facd719a850>, <__main__.InputExample object at 0x7facd719a910>, <__main__.InputExample object at 0x7facd719a9d0>, <__main__.InputExample object at 0x7facd719aa90>, <__main__.InputExample object at 0x7facd719ab50>, <__main__.InputExample object at 0x7facd719ac10>, <__main__.InputExample object at 0x7facd719acd0>, <__main__.InputExample object at 0x7facd719ad90>, <__main__.InputExample object at 0x7facd719ae50>, <__main__.InputExample object at 0x7facd719af10>, <__main__.InputExample object at 0x7facd719afd0>, <__main__.InputExample object at 0x7facd719c0d0>, <__main__.InputExample object at 0x7facd719c190>, <__main__.InputExample object at 0x7facd719c250>, <__main__.InputExample object at 0x7facd719c310>, <__main__.InputExample object at 0x7facd719c3d0>, <__main__.InputExample object at 0x7facd719c490>, <__main__.InputExample object at 0x7facd719c550>, <__main__.InputExample object at 0x7facd719c610>, <__main__.InputExample object at 0x7facd719c6d0>, <__main__.InputExample object at 0x7facd719c790>, <__main__.InputExample object at 0x7facd719c850>, <__main__.InputExample object at 0x7facd719c910>, <__main__.InputExample object at 0x7facd719c9d0>, <__main__.InputExample object at 0x7facd719ca90>, <__main__.InputExample object at 0x7facd719cb50>, <__main__.InputExample object at 0x7facd719cc10>, <__main__.InputExample object at 0x7facd719ccd0>, <__main__.InputExample object at 0x7facd719cd90>, <__main__.InputExample object at 0x7facd719ce50>, <__main__.InputExample object at 0x7facd719cf10>, <__main__.InputExample object at 0x7facd719cfd0>, <__main__.InputExample object at 0x7facd719d0d0>, <__main__.InputExample object at 0x7facd719d190>, <__main__.InputExample object at 0x7facd719d250>, <__main__.InputExample object at 0x7facd719d310>, <__main__.InputExample object at 0x7facd719d3d0>, <__main__.InputExample object at 0x7facd719d490>, <__main__.InputExample object at 0x7facd719d550>, <__main__.InputExample object at 0x7facd719d610>, <__main__.InputExample object at 0x7facd719d6d0>, <__main__.InputExample object at 0x7facd719d790>, <__main__.InputExample object at 0x7facd719d850>, <__main__.InputExample object at 0x7facd719d910>, <__main__.InputExample object at 0x7facd719d9d0>, <__main__.InputExample object at 0x7facd719da90>, <__main__.InputExample object at 0x7facd719db50>, <__main__.InputExample object at 0x7facd719dc10>, <__main__.InputExample object at 0x7facd719dcd0>, <__main__.InputExample object at 0x7facd719dd90>, <__main__.InputExample object at 0x7facd719de50>, <__main__.InputExample object at 0x7facd719df10>, <__main__.InputExample object at 0x7facd719dfd0>, <__main__.InputExample object at 0x7facd719e0d0>, <__main__.InputExample object at 0x7facd719e190>, <__main__.InputExample object at 0x7facd719e250>, <__main__.InputExample object at 0x7facd719e310>, <__main__.InputExample object at 0x7facd719e3d0>, <__main__.InputExample object at 0x7facd719e490>, <__main__.InputExample object at 0x7facd719e550>, <__main__.InputExample object at 0x7facd719e610>, <__main__.InputExample object at 0x7facd719e6d0>, <__main__.InputExample object at 0x7facd719e790>, <__main__.InputExample object at 0x7facd719e850>, <__main__.InputExample object at 0x7facd719e910>, <__main__.InputExample object at 0x7facd719e9d0>, <__main__.InputExample object at 0x7facd719ea90>, <__main__.InputExample object at 0x7facd719eb50>, <__main__.InputExample object at 0x7facd719ec10>, <__main__.InputExample object at 0x7facd719ecd0>, <__main__.InputExample object at 0x7facd719ed90>, <__main__.InputExample object at 0x7facd719ee50>, <__main__.InputExample object at 0x7facd719ef10>, <__main__.InputExample object at 0x7facd719efd0>, <__main__.InputExample object at 0x7facd719f0d0>, <__main__.InputExample object at 0x7facd719f190>, <__main__.InputExample object at 0x7facd719f250>, <__main__.InputExample object at 0x7facd719f310>, <__main__.InputExample object at 0x7facd719f3d0>, <__main__.InputExample object at 0x7facd719f490>, <__main__.InputExample object at 0x7facd719f550>, <__main__.InputExample object at 0x7facd719f610>, <__main__.InputExample object at 0x7facd719f6d0>, <__main__.InputExample object at 0x7facd719f790>, <__main__.InputExample object at 0x7facd719f850>, <__main__.InputExample object at 0x7facd719f910>, <__main__.InputExample object at 0x7facd719f9d0>, <__main__.InputExample object at 0x7facd719fa90>, <__main__.InputExample object at 0x7facd719fb50>, <__main__.InputExample object at 0x7facd719fc10>, <__main__.InputExample object at 0x7facd719fcd0>, <__main__.InputExample object at 0x7facd719fd90>, <__main__.InputExample object at 0x7facd719fe50>, <__main__.InputExample object at 0x7facd719ff10>, <__main__.InputExample object at 0x7facd719ffd0>, <__main__.InputExample object at 0x7facd70220d0>, <__main__.InputExample object at 0x7facd7022190>, <__main__.InputExample object at 0x7facd7022250>, <__main__.InputExample object at 0x7facd7022310>, <__main__.InputExample object at 0x7facd70223d0>, <__main__.InputExample object at 0x7facd7022490>, <__main__.InputExample object at 0x7facd7022550>, <__main__.InputExample object at 0x7facd7022610>, <__main__.InputExample object at 0x7facd70226d0>, <__main__.InputExample object at 0x7facd7022790>, <__main__.InputExample object at 0x7facd7022850>, <__main__.InputExample object at 0x7facd7022910>, <__main__.InputExample object at 0x7facd70229d0>, <__main__.InputExample object at 0x7facd7022a90>, <__main__.InputExample object at 0x7facd7022b50>, <__main__.InputExample object at 0x7facd7022c10>, <__main__.InputExample object at 0x7facd7022cd0>, <__main__.InputExample object at 0x7facd7022d90>, <__main__.InputExample object at 0x7facd7022e50>, <__main__.InputExample object at 0x7facd7022f10>, <__main__.InputExample object at 0x7facd7022fd0>, <__main__.InputExample object at 0x7facd70230d0>, <__main__.InputExample object at 0x7facd7023190>, <__main__.InputExample object at 0x7facd7023250>, <__main__.InputExample object at 0x7facd7023310>, <__main__.InputExample object at 0x7facd70233d0>, <__main__.InputExample object at 0x7facd7023490>, <__main__.InputExample object at 0x7facd7023550>, <__main__.InputExample object at 0x7facd7023610>, <__main__.InputExample object at 0x7facd70236d0>, <__main__.InputExample object at 0x7facd7023790>, <__main__.InputExample object at 0x7facd7023850>, <__main__.InputExample object at 0x7facd7023910>, <__main__.InputExample object at 0x7facd70239d0>, <__main__.InputExample object at 0x7facd7023a90>, <__main__.InputExample object at 0x7facd7023b50>, <__main__.InputExample object at 0x7facd7023c10>, <__main__.InputExample object at 0x7facd7023cd0>, <__main__.InputExample object at 0x7facd7023d90>, <__main__.InputExample object at 0x7facd7023e50>, <__main__.InputExample object at 0x7facd7023f10>, <__main__.InputExample object at 0x7facd7023fd0>, <__main__.InputExample object at 0x7facd70240d0>, <__main__.InputExample object at 0x7facd7024190>, <__main__.InputExample object at 0x7facd7024250>, <__main__.InputExample object at 0x7facd7024310>, <__main__.InputExample object at 0x7facd70243d0>, <__main__.InputExample object at 0x7facd7024490>, <__main__.InputExample object at 0x7facd7024550>, <__main__.InputExample object at 0x7facd7024610>, <__main__.InputExample object at 0x7facd70246d0>, <__main__.InputExample object at 0x7facd7024790>, <__main__.InputExample object at 0x7facd7024850>, <__main__.InputExample object at 0x7facd7024910>, <__main__.InputExample object at 0x7facd70249d0>, <__main__.InputExample object at 0x7facd7024a90>, <__main__.InputExample object at 0x7facd7024b50>, <__main__.InputExample object at 0x7facd7024c10>, <__main__.InputExample object at 0x7facd7024cd0>, <__main__.InputExample object at 0x7facd7024d90>, <__main__.InputExample object at 0x7facd7024e50>, <__main__.InputExample object at 0x7facd7024f10>, <__main__.InputExample object at 0x7facd7024fd0>, <__main__.InputExample object at 0x7facd70250d0>, <__main__.InputExample object at 0x7facd7025190>, <__main__.InputExample object at 0x7facd7025250>, <__main__.InputExample object at 0x7facd7025310>, <__main__.InputExample object at 0x7facd70253d0>, <__main__.InputExample object at 0x7facd7025490>, <__main__.InputExample object at 0x7facd7025550>, <__main__.InputExample object at 0x7facd7025610>, <__main__.InputExample object at 0x7facd70256d0>, <__main__.InputExample object at 0x7facd7025790>, <__main__.InputExample object at 0x7facd7025850>, <__main__.InputExample object at 0x7facd7025910>, <__main__.InputExample object at 0x7facd70259d0>, <__main__.InputExample object at 0x7facd7025a90>, <__main__.InputExample object at 0x7facd7025b50>, <__main__.InputExample object at 0x7facd7025c10>, <__main__.InputExample object at 0x7facd7025cd0>, <__main__.InputExample object at 0x7facd7025d90>, <__main__.InputExample object at 0x7facd7025e50>, <__main__.InputExample object at 0x7facd7025f10>, <__main__.InputExample object at 0x7facd7025fd0>, <__main__.InputExample object at 0x7facd70270d0>, <__main__.InputExample object at 0x7facd7027190>, <__main__.InputExample object at 0x7facd7027250>, <__main__.InputExample object at 0x7facd7027310>, <__main__.InputExample object at 0x7facd70273d0>, <__main__.InputExample object at 0x7facd7027490>, <__main__.InputExample object at 0x7facd7027550>, <__main__.InputExample object at 0x7facd7027610>, <__main__.InputExample object at 0x7facd70276d0>, <__main__.InputExample object at 0x7facd7027790>, <__main__.InputExample object at 0x7facd7027850>, <__main__.InputExample object at 0x7facd7027910>, <__main__.InputExample object at 0x7facd70279d0>, <__main__.InputExample object at 0x7facd7027a90>, <__main__.InputExample object at 0x7facd7027b50>, <__main__.InputExample object at 0x7facd7027c10>, <__main__.InputExample object at 0x7facd7027cd0>, <__main__.InputExample object at 0x7facd7027d90>, <__main__.InputExample object at 0x7facd7027e50>, <__main__.InputExample object at 0x7facd7027f10>, <__main__.InputExample object at 0x7facd7027fd0>, <__main__.InputExample object at 0x7facd70280d0>, <__main__.InputExample object at 0x7facd7028190>, <__main__.InputExample object at 0x7facd7028250>, <__main__.InputExample object at 0x7facd7028310>, <__main__.InputExample object at 0x7facd70283d0>, <__main__.InputExample object at 0x7facd7028490>, <__main__.InputExample object at 0x7facd7028550>, <__main__.InputExample object at 0x7facd7028610>, <__main__.InputExample object at 0x7facd70286d0>, <__main__.InputExample object at 0x7facd7028790>, <__main__.InputExample object at 0x7facd7028850>, <__main__.InputExample object at 0x7facd7028910>, <__main__.InputExample object at 0x7facd70289d0>, <__main__.InputExample object at 0x7facd7028a90>, <__main__.InputExample object at 0x7facd7028b50>, <__main__.InputExample object at 0x7facd7028c10>, <__main__.InputExample object at 0x7facd7028cd0>, <__main__.InputExample object at 0x7facd7028d90>, <__main__.InputExample object at 0x7facd7028e50>, <__main__.InputExample object at 0x7facd7028f10>, <__main__.InputExample object at 0x7facd7028fd0>, <__main__.InputExample object at 0x7facd70290d0>, <__main__.InputExample object at 0x7facd7029190>, <__main__.InputExample object at 0x7facd7029250>, <__main__.InputExample object at 0x7facd7029310>, <__main__.InputExample object at 0x7facd70293d0>, <__main__.InputExample object at 0x7facd7029490>, <__main__.InputExample object at 0x7facd7029550>, <__main__.InputExample object at 0x7facd7029610>, <__main__.InputExample object at 0x7facd70296d0>, <__main__.InputExample object at 0x7facd7029790>, <__main__.InputExample object at 0x7facd7029850>, <__main__.InputExample object at 0x7facd7029910>, <__main__.InputExample object at 0x7facd70299d0>, <__main__.InputExample object at 0x7facd7029a90>, <__main__.InputExample object at 0x7facd7029b50>, <__main__.InputExample object at 0x7facd7029c10>, <__main__.InputExample object at 0x7facd7029cd0>, <__main__.InputExample object at 0x7facd7029d90>, <__main__.InputExample object at 0x7facd7029e50>, <__main__.InputExample object at 0x7facd7029f10>, <__main__.InputExample object at 0x7facd7029fd0>, <__main__.InputExample object at 0x7facd702a0d0>, <__main__.InputExample object at 0x7facd702a190>, <__main__.InputExample object at 0x7facd702a250>, <__main__.InputExample object at 0x7facd702a310>, <__main__.InputExample object at 0x7facd702a3d0>, <__main__.InputExample object at 0x7facd702a490>, <__main__.InputExample object at 0x7facd702a550>, <__main__.InputExample object at 0x7facd702a610>, <__main__.InputExample object at 0x7facd702a6d0>, <__main__.InputExample object at 0x7facd702a790>, <__main__.InputExample object at 0x7facd702a850>, <__main__.InputExample object at 0x7facd702a910>, <__main__.InputExample object at 0x7facd702a9d0>, <__main__.InputExample object at 0x7facd702aa90>, <__main__.InputExample object at 0x7facd702ab50>, <__main__.InputExample object at 0x7facd702ac10>, <__main__.InputExample object at 0x7facd702acd0>, <__main__.InputExample object at 0x7facd702ad90>, <__main__.InputExample object at 0x7facd702ae50>, <__main__.InputExample object at 0x7facd702af10>, <__main__.InputExample object at 0x7facd702afd0>, <__main__.InputExample object at 0x7facd702c0d0>, <__main__.InputExample object at 0x7facd702c190>, <__main__.InputExample object at 0x7facd702c250>, <__main__.InputExample object at 0x7facd702c310>, <__main__.InputExample object at 0x7facd702c3d0>, <__main__.InputExample object at 0x7facd702c490>, <__main__.InputExample object at 0x7facd702c550>, <__main__.InputExample object at 0x7facd702c610>, <__main__.InputExample object at 0x7facd702c6d0>, <__main__.InputExample object at 0x7facd702c790>, <__main__.InputExample object at 0x7facd702c850>, <__main__.InputExample object at 0x7facd702c910>, <__main__.InputExample object at 0x7facd702c9d0>, <__main__.InputExample object at 0x7facd702ca90>, <__main__.InputExample object at 0x7facd702cb50>, <__main__.InputExample object at 0x7facd702cc10>, <__main__.InputExample object at 0x7facd702ccd0>, <__main__.InputExample object at 0x7facd702cd90>, <__main__.InputExample object at 0x7facd702ce50>, <__main__.InputExample object at 0x7facd702cf10>, <__main__.InputExample object at 0x7facd702cfd0>, <__main__.InputExample object at 0x7facd702d0d0>, <__main__.InputExample object at 0x7facd702d190>, <__main__.InputExample object at 0x7facd702d250>, <__main__.InputExample object at 0x7facd702d310>, <__main__.InputExample object at 0x7facd702d3d0>, <__main__.InputExample object at 0x7facd702d490>, <__main__.InputExample object at 0x7facd702d550>, <__main__.InputExample object at 0x7facd702d610>, <__main__.InputExample object at 0x7facd702d6d0>, <__main__.InputExample object at 0x7facd702d790>, <__main__.InputExample object at 0x7facd702d850>, <__main__.InputExample object at 0x7facd702d910>, <__main__.InputExample object at 0x7facd702d9d0>, <__main__.InputExample object at 0x7facd702da90>, <__main__.InputExample object at 0x7facd702db50>, <__main__.InputExample object at 0x7facd702dc10>, <__main__.InputExample object at 0x7facd702dcd0>, <__main__.InputExample object at 0x7facd702dd90>, <__main__.InputExample object at 0x7facd702de50>, <__main__.InputExample object at 0x7facd702df10>, <__main__.InputExample object at 0x7facd702dfd0>, <__main__.InputExample object at 0x7facd702e0d0>, <__main__.InputExample object at 0x7facd702e190>, <__main__.InputExample object at 0x7facd702e250>, <__main__.InputExample object at 0x7facd702e310>, <__main__.InputExample object at 0x7facd702e3d0>, <__main__.InputExample object at 0x7facd702e490>, <__main__.InputExample object at 0x7facd702e550>, <__main__.InputExample object at 0x7facd702e610>, <__main__.InputExample object at 0x7facd702e6d0>, <__main__.InputExample object at 0x7facd702e790>, <__main__.InputExample object at 0x7facd702e850>, <__main__.InputExample object at 0x7facd702e910>, <__main__.InputExample object at 0x7facd702e9d0>, <__main__.InputExample object at 0x7facd702ea90>, <__main__.InputExample object at 0x7facd702eb50>, <__main__.InputExample object at 0x7facd702ec10>, <__main__.InputExample object at 0x7facd702ecd0>, <__main__.InputExample object at 0x7facd702ed90>, <__main__.InputExample object at 0x7facd702ee50>, <__main__.InputExample object at 0x7facd702ef10>, <__main__.InputExample object at 0x7facd702efd0>, <__main__.InputExample object at 0x7facd702f0d0>, <__main__.InputExample object at 0x7facd702f190>, <__main__.InputExample object at 0x7facd702f250>, <__main__.InputExample object at 0x7facd702f310>, <__main__.InputExample object at 0x7facd702f3d0>, <__main__.InputExample object at 0x7facd702f490>, <__main__.InputExample object at 0x7facd702f550>, <__main__.InputExample object at 0x7facd702f610>, <__main__.InputExample object at 0x7facd702f6d0>, <__main__.InputExample object at 0x7facd702f790>, <__main__.InputExample object at 0x7facd702f850>, <__main__.InputExample object at 0x7facd702f910>, <__main__.InputExample object at 0x7facd702f9d0>, <__main__.InputExample object at 0x7facd702fa90>, <__main__.InputExample object at 0x7facd702fb50>, <__main__.InputExample object at 0x7facd702fc10>, <__main__.InputExample object at 0x7facd702fcd0>, <__main__.InputExample object at 0x7facd702fd90>, <__main__.InputExample object at 0x7facd702fe50>, <__main__.InputExample object at 0x7facd702ff10>, <__main__.InputExample object at 0x7facd702ffd0>, <__main__.InputExample object at 0x7facd70310d0>, <__main__.InputExample object at 0x7facd7031190>, <__main__.InputExample object at 0x7facd7031250>, <__main__.InputExample object at 0x7facd7031310>, <__main__.InputExample object at 0x7facd70313d0>, <__main__.InputExample object at 0x7facd7031490>, <__main__.InputExample object at 0x7facd7031550>, <__main__.InputExample object at 0x7facd7031610>, <__main__.InputExample object at 0x7facd70316d0>, <__main__.InputExample object at 0x7facd7031790>, <__main__.InputExample object at 0x7facd7031850>, <__main__.InputExample object at 0x7facd7031910>, <__main__.InputExample object at 0x7facd70319d0>, <__main__.InputExample object at 0x7facd7031a90>, <__main__.InputExample object at 0x7facd7031b50>, <__main__.InputExample object at 0x7facd7031c10>, <__main__.InputExample object at 0x7facd7031cd0>, <__main__.InputExample object at 0x7facd7031d90>, <__main__.InputExample object at 0x7facd7031e50>, <__main__.InputExample object at 0x7facd7031f10>, <__main__.InputExample object at 0x7facd7031fd0>, <__main__.InputExample object at 0x7facd70320d0>, <__main__.InputExample object at 0x7facd7032190>, <__main__.InputExample object at 0x7facd7032250>, <__main__.InputExample object at 0x7facd7032310>, <__main__.InputExample object at 0x7facd70323d0>, <__main__.InputExample object at 0x7facd7032490>, <__main__.InputExample object at 0x7facd7032550>, <__main__.InputExample object at 0x7facd7032610>, <__main__.InputExample object at 0x7facd70326d0>, <__main__.InputExample object at 0x7facd7032790>, <__main__.InputExample object at 0x7facd7032850>, <__main__.InputExample object at 0x7facd7032910>, <__main__.InputExample object at 0x7facd70329d0>, <__main__.InputExample object at 0x7facd7032a90>, <__main__.InputExample object at 0x7facd7032b50>, <__main__.InputExample object at 0x7facd7032c10>, <__main__.InputExample object at 0x7facd7032cd0>, <__main__.InputExample object at 0x7facd7032d90>, <__main__.InputExample object at 0x7facd7032e50>, <__main__.InputExample object at 0x7facd7032f10>, <__main__.InputExample object at 0x7facd7032fd0>, <__main__.InputExample object at 0x7facd70340d0>, <__main__.InputExample object at 0x7facd7034190>, <__main__.InputExample object at 0x7facd7034250>, <__main__.InputExample object at 0x7facd7034310>, <__main__.InputExample object at 0x7facd70343d0>, <__main__.InputExample object at 0x7facd7034490>, <__main__.InputExample object at 0x7facd7034550>, <__main__.InputExample object at 0x7facd7034610>, <__main__.InputExample object at 0x7facd70346d0>, <__main__.InputExample object at 0x7facd7034790>, <__main__.InputExample object at 0x7facd7034850>, <__main__.InputExample object at 0x7facd7034910>, <__main__.InputExample object at 0x7facd70349d0>, <__main__.InputExample object at 0x7facd7034a90>, <__main__.InputExample object at 0x7facd7034b50>, <__main__.InputExample object at 0x7facd7034c10>, <__main__.InputExample object at 0x7facd7034cd0>, <__main__.InputExample object at 0x7facd7034d90>, <__main__.InputExample object at 0x7facd7034e50>, <__main__.InputExample object at 0x7facd7034f10>, <__main__.InputExample object at 0x7facd7034fd0>, <__main__.InputExample object at 0x7facd70350d0>, <__main__.InputExample object at 0x7facd7035190>, <__main__.InputExample object at 0x7facd7035250>, <__main__.InputExample object at 0x7facd7035310>, <__main__.InputExample object at 0x7facd70353d0>, <__main__.InputExample object at 0x7facd7035490>, <__main__.InputExample object at 0x7facd7035550>, <__main__.InputExample object at 0x7facd7035610>, <__main__.InputExample object at 0x7facd70356d0>, <__main__.InputExample object at 0x7facd7035790>, <__main__.InputExample object at 0x7facd7035850>, <__main__.InputExample object at 0x7facd7035910>, <__main__.InputExample object at 0x7facd70359d0>, <__main__.InputExample object at 0x7facd7035a90>, <__main__.InputExample object at 0x7facd7035b50>, <__main__.InputExample object at 0x7facd7035c10>, <__main__.InputExample object at 0x7facd7035cd0>, <__main__.InputExample object at 0x7facd7035d90>, <__main__.InputExample object at 0x7facd7035e50>, <__main__.InputExample object at 0x7facd7035f10>, <__main__.InputExample object at 0x7facd7035fd0>, <__main__.InputExample object at 0x7facd70370d0>, <__main__.InputExample object at 0x7facd7037190>, <__main__.InputExample object at 0x7facd7037250>, <__main__.InputExample object at 0x7facd7037310>, <__main__.InputExample object at 0x7facd70373d0>, <__main__.InputExample object at 0x7facd7037490>, <__main__.InputExample object at 0x7facd7037550>, <__main__.InputExample object at 0x7facd7037610>, <__main__.InputExample object at 0x7facd70376d0>, <__main__.InputExample object at 0x7facd7037790>, <__main__.InputExample object at 0x7facd7037850>, <__main__.InputExample object at 0x7facd7037910>, <__main__.InputExample object at 0x7facd70379d0>, <__main__.InputExample object at 0x7facd7037a90>, <__main__.InputExample object at 0x7facd7037b50>, <__main__.InputExample object at 0x7facd7037c10>, <__main__.InputExample object at 0x7facd7037cd0>, <__main__.InputExample object at 0x7facd7037d90>, <__main__.InputExample object at 0x7facd7037e50>, <__main__.InputExample object at 0x7facd7037f10>, <__main__.InputExample object at 0x7facd7037fd0>, <__main__.InputExample object at 0x7facd703a0d0>, <__main__.InputExample object at 0x7facd703a190>, <__main__.InputExample object at 0x7facd703a250>, <__main__.InputExample object at 0x7facd703a310>, <__main__.InputExample object at 0x7facd703a3d0>, <__main__.InputExample object at 0x7facd703a490>, <__main__.InputExample object at 0x7facd703a550>, <__main__.InputExample object at 0x7facd703a610>, <__main__.InputExample object at 0x7facd703a6d0>, <__main__.InputExample object at 0x7facd703a790>, <__main__.InputExample object at 0x7facd703a850>, <__main__.InputExample object at 0x7facd703a910>, <__main__.InputExample object at 0x7facd703a9d0>, <__main__.InputExample object at 0x7facd703aa90>, <__main__.InputExample object at 0x7facd703ab50>, <__main__.InputExample object at 0x7facd703ac10>, <__main__.InputExample object at 0x7facd703acd0>, <__main__.InputExample object at 0x7facd703ad90>, <__main__.InputExample object at 0x7facd703ae50>, <__main__.InputExample object at 0x7facd703af10>, <__main__.InputExample object at 0x7facd703afd0>, <__main__.InputExample object at 0x7facd703c0d0>, <__main__.InputExample object at 0x7facd703c190>, <__main__.InputExample object at 0x7facd703c250>, <__main__.InputExample object at 0x7facd703c310>, <__main__.InputExample object at 0x7facd703c3d0>, <__main__.InputExample object at 0x7facd703c490>, <__main__.InputExample object at 0x7facd703c550>, <__main__.InputExample object at 0x7facd703c610>, <__main__.InputExample object at 0x7facd703c6d0>, <__main__.InputExample object at 0x7facd703c790>, <__main__.InputExample object at 0x7facd703c850>, <__main__.InputExample object at 0x7facd703c910>, <__main__.InputExample object at 0x7facd703c9d0>, <__main__.InputExample object at 0x7facd703ca90>, <__main__.InputExample object at 0x7facd703cb50>, <__main__.InputExample object at 0x7facd703cc10>, <__main__.InputExample object at 0x7facd703ccd0>, <__main__.InputExample object at 0x7facd703cd90>, <__main__.InputExample object at 0x7facd703ce50>, <__main__.InputExample object at 0x7facd703cf10>, <__main__.InputExample object at 0x7facd703cfd0>, <__main__.InputExample object at 0x7facd72840d0>, <__main__.InputExample object at 0x7facd7284190>, <__main__.InputExample object at 0x7facd7284250>, <__main__.InputExample object at 0x7facd7284310>, <__main__.InputExample object at 0x7facd72843d0>, <__main__.InputExample object at 0x7facd7284490>, <__main__.InputExample object at 0x7facd7284550>, <__main__.InputExample object at 0x7facd7284610>, <__main__.InputExample object at 0x7facd72846d0>, <__main__.InputExample object at 0x7facd7284790>, <__main__.InputExample object at 0x7facd7284850>, <__main__.InputExample object at 0x7facd7284910>, <__main__.InputExample object at 0x7facd72849d0>, <__main__.InputExample object at 0x7facd7284a90>, <__main__.InputExample object at 0x7facd7284b50>, <__main__.InputExample object at 0x7facd7284c10>, <__main__.InputExample object at 0x7facd7284cd0>, <__main__.InputExample object at 0x7facd7284d90>, <__main__.InputExample object at 0x7facd7284e50>, <__main__.InputExample object at 0x7facd7284f10>, <__main__.InputExample object at 0x7facd7284fd0>, <__main__.InputExample object at 0x7facd72710d0>, <__main__.InputExample object at 0x7facd7271190>, <__main__.InputExample object at 0x7facd7271250>, <__main__.InputExample object at 0x7facd7271310>, <__main__.InputExample object at 0x7facd72713d0>, <__main__.InputExample object at 0x7facd7271490>, <__main__.InputExample object at 0x7facd7271550>, <__main__.InputExample object at 0x7facd7271610>, <__main__.InputExample object at 0x7facd72716d0>, <__main__.InputExample object at 0x7facd7271790>, <__main__.InputExample object at 0x7facd7271850>, <__main__.InputExample object at 0x7facd7271910>, <__main__.InputExample object at 0x7facd72719d0>, <__main__.InputExample object at 0x7facd7271a90>, <__main__.InputExample object at 0x7facd7271b50>, <__main__.InputExample object at 0x7facd7271c10>, <__main__.InputExample object at 0x7facd7271cd0>, <__main__.InputExample object at 0x7facd7271d90>, <__main__.InputExample object at 0x7facd7271e50>, <__main__.InputExample object at 0x7facd7271f10>, <__main__.InputExample object at 0x7facd7271fd0>, <__main__.InputExample object at 0x7facd72750d0>, <__main__.InputExample object at 0x7facd7275190>, <__main__.InputExample object at 0x7facd7275250>, <__main__.InputExample object at 0x7facd7275310>, <__main__.InputExample object at 0x7facd72753d0>, <__main__.InputExample object at 0x7facd7275490>, <__main__.InputExample object at 0x7facd7275550>, <__main__.InputExample object at 0x7facd7275610>, <__main__.InputExample object at 0x7facd72756d0>, <__main__.InputExample object at 0x7facd7275790>, <__main__.InputExample object at 0x7facd7275850>, <__main__.InputExample object at 0x7facd7275910>, <__main__.InputExample object at 0x7facd72759d0>, <__main__.InputExample object at 0x7facd7275a90>, <__main__.InputExample object at 0x7facd7275b50>, <__main__.InputExample object at 0x7facd7275c10>, <__main__.InputExample object at 0x7facd7275cd0>, <__main__.InputExample object at 0x7facd7275d90>, <__main__.InputExample object at 0x7facd7275e50>, <__main__.InputExample object at 0x7facd7275f10>, <__main__.InputExample object at 0x7facd7275fd0>, <__main__.InputExample object at 0x7facd72790d0>, <__main__.InputExample object at 0x7facd7279190>, <__main__.InputExample object at 0x7facd7279250>, <__main__.InputExample object at 0x7facd7279310>, <__main__.InputExample object at 0x7facd72793d0>, <__main__.InputExample object at 0x7facd7279490>, <__main__.InputExample object at 0x7facd7279550>, <__main__.InputExample object at 0x7facd7279610>, <__main__.InputExample object at 0x7facd72796d0>, <__main__.InputExample object at 0x7facd7279790>, <__main__.InputExample object at 0x7facd7279850>, <__main__.InputExample object at 0x7facd7279910>, <__main__.InputExample object at 0x7facd72799d0>, <__main__.InputExample object at 0x7facd7279a90>, <__main__.InputExample object at 0x7facd7279b50>, <__main__.InputExample object at 0x7facd7279c10>, <__main__.InputExample object at 0x7facd7279cd0>, <__main__.InputExample object at 0x7facd7279d90>, <__main__.InputExample object at 0x7facd7279e50>, <__main__.InputExample object at 0x7facd7279f10>, <__main__.InputExample object at 0x7facd7279fd0>, <__main__.InputExample object at 0x7facd72740d0>, <__main__.InputExample object at 0x7facd7274190>, <__main__.InputExample object at 0x7facd7274250>, <__main__.InputExample object at 0x7facd7274310>, <__main__.InputExample object at 0x7facd72743d0>, <__main__.InputExample object at 0x7facd7274490>, <__main__.InputExample object at 0x7facd7274550>, <__main__.InputExample object at 0x7facd7274610>, <__main__.InputExample object at 0x7facd72746d0>, <__main__.InputExample object at 0x7facd7274790>, <__main__.InputExample object at 0x7facd7274850>, <__main__.InputExample object at 0x7facd7274910>, <__main__.InputExample object at 0x7facd72749d0>, <__main__.InputExample object at 0x7facd7274a90>, <__main__.InputExample object at 0x7facd7274b50>, <__main__.InputExample object at 0x7facd7274c10>, <__main__.InputExample object at 0x7facd7274cd0>, <__main__.InputExample object at 0x7facd7274d90>, <__main__.InputExample object at 0x7facd7274e50>, <__main__.InputExample object at 0x7facd7274f10>, <__main__.InputExample object at 0x7facd7274fd0>, <__main__.InputExample object at 0x7facd727a0d0>, <__main__.InputExample object at 0x7facd727a190>, <__main__.InputExample object at 0x7facd727a250>, <__main__.InputExample object at 0x7facd727a310>, <__main__.InputExample object at 0x7facd727a3d0>, <__main__.InputExample object at 0x7facd727a490>, <__main__.InputExample object at 0x7facd727a550>, <__main__.InputExample object at 0x7facd727a610>, <__main__.InputExample object at 0x7facd727a6d0>, <__main__.InputExample object at 0x7facd727a790>, <__main__.InputExample object at 0x7facd727a850>, <__main__.InputExample object at 0x7facd727a910>, <__main__.InputExample object at 0x7facd727a9d0>, <__main__.InputExample object at 0x7facd727aa90>, <__main__.InputExample object at 0x7facd727ab50>, <__main__.InputExample object at 0x7facd727ac10>, <__main__.InputExample object at 0x7facd727acd0>, <__main__.InputExample object at 0x7facd727ad90>, <__main__.InputExample object at 0x7facd727ae50>, <__main__.InputExample object at 0x7facd727af10>, <__main__.InputExample object at 0x7facd727afd0>, <__main__.InputExample object at 0x7facd72690d0>, <__main__.InputExample object at 0x7facd7269190>, <__main__.InputExample object at 0x7facd7269250>, <__main__.InputExample object at 0x7facd7269310>, <__main__.InputExample object at 0x7facd72693d0>, <__main__.InputExample object at 0x7facd7269490>, <__main__.InputExample object at 0x7facd7269550>, <__main__.InputExample object at 0x7facd7269610>, <__main__.InputExample object at 0x7facd72696d0>, <__main__.InputExample object at 0x7facd7269790>, <__main__.InputExample object at 0x7facd7269850>, <__main__.InputExample object at 0x7facd7269910>, <__main__.InputExample object at 0x7facd72699d0>, <__main__.InputExample object at 0x7facd7269a90>, <__main__.InputExample object at 0x7facd7269b50>, <__main__.InputExample object at 0x7facd7269c10>, <__main__.InputExample object at 0x7facd7269cd0>, <__main__.InputExample object at 0x7facd7269d90>, <__main__.InputExample object at 0x7facd7269e50>, <__main__.InputExample object at 0x7facd7269f10>, <__main__.InputExample object at 0x7facd7269fd0>, <__main__.InputExample object at 0x7facd727d0d0>, <__main__.InputExample object at 0x7facd727d190>, <__main__.InputExample object at 0x7facd727d250>, <__main__.InputExample object at 0x7facd727d310>, <__main__.InputExample object at 0x7facd727d3d0>, <__main__.InputExample object at 0x7facd727d490>, <__main__.InputExample object at 0x7facd727d550>, <__main__.InputExample object at 0x7facd727d610>, <__main__.InputExample object at 0x7facd727d6d0>, <__main__.InputExample object at 0x7facd727d790>, <__main__.InputExample object at 0x7facd727d850>, <__main__.InputExample object at 0x7facd727d910>, <__main__.InputExample object at 0x7facd727d9d0>, <__main__.InputExample object at 0x7facd727da90>, <__main__.InputExample object at 0x7facd727db50>, <__main__.InputExample object at 0x7facd727dc10>, <__main__.InputExample object at 0x7facd727dcd0>, <__main__.InputExample object at 0x7facd727dd90>, <__main__.InputExample object at 0x7facd727de50>, <__main__.InputExample object at 0x7facd727df10>, <__main__.InputExample object at 0x7facd727dfd0>, <__main__.InputExample object at 0x7facd72670d0>, <__main__.InputExample object at 0x7facd7267190>, <__main__.InputExample object at 0x7facd7267250>, <__main__.InputExample object at 0x7facd7267310>, <__main__.InputExample object at 0x7facd72673d0>, <__main__.InputExample object at 0x7facd7267490>, <__main__.InputExample object at 0x7facd7267550>, <__main__.InputExample object at 0x7facd7267610>, <__main__.InputExample object at 0x7facd72676d0>, <__main__.InputExample object at 0x7facd7267790>, <__main__.InputExample object at 0x7facd7267850>, <__main__.InputExample object at 0x7facd7267910>, <__main__.InputExample object at 0x7facd72679d0>, <__main__.InputExample object at 0x7facd7267a90>, <__main__.InputExample object at 0x7facd7267b50>, <__main__.InputExample object at 0x7facd7267c10>, <__main__.InputExample object at 0x7facd7267cd0>, <__main__.InputExample object at 0x7facd7267d90>, <__main__.InputExample object at 0x7facd7267e50>, <__main__.InputExample object at 0x7facd7267f10>, <__main__.InputExample object at 0x7facd7267fd0>, <__main__.InputExample object at 0x7facd726f0d0>, <__main__.InputExample object at 0x7facd726f190>, <__main__.InputExample object at 0x7facd726f250>, <__main__.InputExample object at 0x7facd726f310>, <__main__.InputExample object at 0x7facd726f3d0>, <__main__.InputExample object at 0x7facd726f490>, <__main__.InputExample object at 0x7facd726f550>, <__main__.InputExample object at 0x7facd726f610>, <__main__.InputExample object at 0x7facd726f6d0>, <__main__.InputExample object at 0x7facd726f790>, <__main__.InputExample object at 0x7facd726f850>, <__main__.InputExample object at 0x7facd726f910>, <__main__.InputExample object at 0x7facd726f9d0>, <__main__.InputExample object at 0x7facd726fa90>, <__main__.InputExample object at 0x7facd726fb50>, <__main__.InputExample object at 0x7facd726fc10>, <__main__.InputExample object at 0x7facd726fcd0>, <__main__.InputExample object at 0x7facd726fd90>, <__main__.InputExample object at 0x7facd726fe50>, <__main__.InputExample object at 0x7facd726ff10>, <__main__.InputExample object at 0x7facd726ffd0>, <__main__.InputExample object at 0x7facd726b0d0>, <__main__.InputExample object at 0x7facd726b190>, <__main__.InputExample object at 0x7facd726b250>, <__main__.InputExample object at 0x7facd726b310>, <__main__.InputExample object at 0x7facd726b3d0>, <__main__.InputExample object at 0x7facd726b490>, <__main__.InputExample object at 0x7facd726b550>, <__main__.InputExample object at 0x7facd726b610>, <__main__.InputExample object at 0x7facd726b6d0>, <__main__.InputExample object at 0x7facd726b790>, <__main__.InputExample object at 0x7facd726b850>, <__main__.InputExample object at 0x7facd726b910>, <__main__.InputExample object at 0x7facd726b9d0>, <__main__.InputExample object at 0x7facd726ba90>, <__main__.InputExample object at 0x7facd726bb50>, <__main__.InputExample object at 0x7facd726bc10>, <__main__.InputExample object at 0x7facd726bcd0>, <__main__.InputExample object at 0x7facd726bd90>, <__main__.InputExample object at 0x7facd726be50>, <__main__.InputExample object at 0x7facd726bf10>, <__main__.InputExample object at 0x7facd726bfd0>, <__main__.InputExample object at 0x7facd726a0d0>, <__main__.InputExample object at 0x7facd726a190>, <__main__.InputExample object at 0x7facd726a250>, <__main__.InputExample object at 0x7facd726a310>, <__main__.InputExample object at 0x7facd726a3d0>, <__main__.InputExample object at 0x7facd726a490>, <__main__.InputExample object at 0x7facd726a550>, <__main__.InputExample object at 0x7facd726a610>, <__main__.InputExample object at 0x7facd726a6d0>, <__main__.InputExample object at 0x7facd726a790>, <__main__.InputExample object at 0x7facd726a850>, <__main__.InputExample object at 0x7facd726a910>, <__main__.InputExample object at 0x7facd726a9d0>, <__main__.InputExample object at 0x7facd726aa90>, <__main__.InputExample object at 0x7facd726ab50>, <__main__.InputExample object at 0x7facd726ac10>, <__main__.InputExample object at 0x7facd726acd0>, <__main__.InputExample object at 0x7facd726ad90>, <__main__.InputExample object at 0x7facd726ae50>, <__main__.InputExample object at 0x7facd726af10>, <__main__.InputExample object at 0x7facd726afd0>, <__main__.InputExample object at 0x7facd72680d0>, <__main__.InputExample object at 0x7facd7268190>, <__main__.InputExample object at 0x7facd7268250>, <__main__.InputExample object at 0x7facd7268310>, <__main__.InputExample object at 0x7facd72683d0>, <__main__.InputExample object at 0x7facd7268490>, <__main__.InputExample object at 0x7facd7268550>, <__main__.InputExample object at 0x7facd7268610>, <__main__.InputExample object at 0x7facd72686d0>, <__main__.InputExample object at 0x7facd7268790>, <__main__.InputExample object at 0x7facd7268850>, <__main__.InputExample object at 0x7facd7268910>, <__main__.InputExample object at 0x7facd72689d0>, <__main__.InputExample object at 0x7facd7268a90>, <__main__.InputExample object at 0x7facd7268b50>, <__main__.InputExample object at 0x7facd7268c10>, <__main__.InputExample object at 0x7facd7268cd0>, <__main__.InputExample object at 0x7facd7268d90>, <__main__.InputExample object at 0x7facd7268e50>, <__main__.InputExample object at 0x7facd7268f10>, <__main__.InputExample object at 0x7facd7268fd0>, <__main__.InputExample object at 0x7facd72660d0>, <__main__.InputExample object at 0x7facd7266190>, <__main__.InputExample object at 0x7facd7266250>, <__main__.InputExample object at 0x7facd7266310>, <__main__.InputExample object at 0x7facd72663d0>, <__main__.InputExample object at 0x7facd7266490>, <__main__.InputExample object at 0x7facd7266550>, <__main__.InputExample object at 0x7facd7266610>, <__main__.InputExample object at 0x7facd72666d0>, <__main__.InputExample object at 0x7facd7266790>, <__main__.InputExample object at 0x7facd7266850>, <__main__.InputExample object at 0x7facd7266910>, <__main__.InputExample object at 0x7facd72669d0>, <__main__.InputExample object at 0x7facd7266a90>, <__main__.InputExample object at 0x7facd7266b50>, <__main__.InputExample object at 0x7facd7266c10>, <__main__.InputExample object at 0x7facd7266cd0>, <__main__.InputExample object at 0x7facd7266d90>, <__main__.InputExample object at 0x7facd7266e50>, <__main__.InputExample object at 0x7facd7266f10>, <__main__.InputExample object at 0x7facd7266fd0>, <__main__.InputExample object at 0x7facd72640d0>, <__main__.InputExample object at 0x7facd7264190>, <__main__.InputExample object at 0x7facd7264250>, <__main__.InputExample object at 0x7facd7264310>, <__main__.InputExample object at 0x7facd72643d0>, <__main__.InputExample object at 0x7facd7264490>, <__main__.InputExample object at 0x7facd7264550>, <__main__.InputExample object at 0x7facd7264610>, <__main__.InputExample object at 0x7facd72646d0>, <__main__.InputExample object at 0x7facd7264790>, <__main__.InputExample object at 0x7facd7264850>, <__main__.InputExample object at 0x7facd7264910>, <__main__.InputExample object at 0x7facd72649d0>, <__main__.InputExample object at 0x7facd7264a90>, <__main__.InputExample object at 0x7facd7264b50>, <__main__.InputExample object at 0x7facd7264c10>, <__main__.InputExample object at 0x7facd7264cd0>, <__main__.InputExample object at 0x7facd7264d90>, <__main__.InputExample object at 0x7facd7264e50>, <__main__.InputExample object at 0x7facd7264f10>, <__main__.InputExample object at 0x7facd7264fd0>, <__main__.InputExample object at 0x7facd61bc0d0>, <__main__.InputExample object at 0x7facd61bc190>, <__main__.InputExample object at 0x7facd61bc250>, <__main__.InputExample object at 0x7facd61bc310>, <__main__.InputExample object at 0x7facd61bc3d0>, <__main__.InputExample object at 0x7facd61bc490>, <__main__.InputExample object at 0x7facd61bc550>, <__main__.InputExample object at 0x7facd61bc610>, <__main__.InputExample object at 0x7facd61bc6d0>, <__main__.InputExample object at 0x7facd61bc790>, <__main__.InputExample object at 0x7facd61bc850>, <__main__.InputExample object at 0x7facd61bc910>, <__main__.InputExample object at 0x7facd61bc9d0>, <__main__.InputExample object at 0x7facd61bca90>, <__main__.InputExample object at 0x7facd61bcb50>, <__main__.InputExample object at 0x7facd61bcc10>, <__main__.InputExample object at 0x7facd61bccd0>, <__main__.InputExample object at 0x7facd61bcd90>, <__main__.InputExample object at 0x7facd61bce50>, <__main__.InputExample object at 0x7facd61bcf10>, <__main__.InputExample object at 0x7facd61bcfd0>, <__main__.InputExample object at 0x7facd61b80d0>, <__main__.InputExample object at 0x7facd61b8190>, <__main__.InputExample object at 0x7facd61b8250>, <__main__.InputExample object at 0x7facd61b8310>, <__main__.InputExample object at 0x7facd61b83d0>, <__main__.InputExample object at 0x7facd61b8490>, <__main__.InputExample object at 0x7facd61b8550>, <__main__.InputExample object at 0x7facd61b8610>, <__main__.InputExample object at 0x7facd61b86d0>, <__main__.InputExample object at 0x7facd61b8790>, <__main__.InputExample object at 0x7facd61b8850>, <__main__.InputExample object at 0x7facd61b8910>, <__main__.InputExample object at 0x7facd61b89d0>, <__main__.InputExample object at 0x7facd61b8a90>, <__main__.InputExample object at 0x7facd61b8b50>, <__main__.InputExample object at 0x7facd61b8c10>, <__main__.InputExample object at 0x7facd61b8cd0>, <__main__.InputExample object at 0x7facd61b8d90>, <__main__.InputExample object at 0x7facd61b8e50>, <__main__.InputExample object at 0x7facd61b8f10>, <__main__.InputExample object at 0x7facd61b8fd0>, <__main__.InputExample object at 0x7facd61c20d0>, <__main__.InputExample object at 0x7facd61c2190>, <__main__.InputExample object at 0x7facd61c2250>, <__main__.InputExample object at 0x7facd61c2310>, <__main__.InputExample object at 0x7facd61c23d0>, <__main__.InputExample object at 0x7facd61c2490>, <__main__.InputExample object at 0x7facd61c2550>, <__main__.InputExample object at 0x7facd61c2610>, <__main__.InputExample object at 0x7facd61c26d0>, <__main__.InputExample object at 0x7facd61c2790>, <__main__.InputExample object at 0x7facd61c2850>, <__main__.InputExample object at 0x7facd61c2910>, <__main__.InputExample object at 0x7facd61c29d0>, <__main__.InputExample object at 0x7facd61c2a90>, <__main__.InputExample object at 0x7facd61c2b50>, <__main__.InputExample object at 0x7facd61c2c10>, <__main__.InputExample object at 0x7facd61c2cd0>, <__main__.InputExample object at 0x7facd61c2d90>, <__main__.InputExample object at 0x7facd61c2e50>, <__main__.InputExample object at 0x7facd61c2f10>, <__main__.InputExample object at 0x7facd61c2fd0>, <__main__.InputExample object at 0x7facd61b50d0>, <__main__.InputExample object at 0x7facd61b5190>, <__main__.InputExample object at 0x7facd61b5250>, <__main__.InputExample object at 0x7facd61b5310>, <__main__.InputExample object at 0x7facd61b53d0>, <__main__.InputExample object at 0x7facd61b5490>, <__main__.InputExample object at 0x7facd61b5550>, <__main__.InputExample object at 0x7facd61b5610>, <__main__.InputExample object at 0x7facd61b56d0>, <__main__.InputExample object at 0x7facd61b5790>, <__main__.InputExample object at 0x7facd61b5850>, <__main__.InputExample object at 0x7facd61b5910>, <__main__.InputExample object at 0x7facd61b59d0>, <__main__.InputExample object at 0x7facd61b5a90>, <__main__.InputExample object at 0x7facd61b5b50>, <__main__.InputExample object at 0x7facd61b5c10>, <__main__.InputExample object at 0x7facd61b5cd0>, <__main__.InputExample object at 0x7facd61b5d90>, <__main__.InputExample object at 0x7facd61b5e50>, <__main__.InputExample object at 0x7facd61b5f10>, <__main__.InputExample object at 0x7facd61b5fd0>, <__main__.InputExample object at 0x7facd61bb0d0>, <__main__.InputExample object at 0x7facd61bb190>, <__main__.InputExample object at 0x7facd61bb250>, <__main__.InputExample object at 0x7facd61bb310>, <__main__.InputExample object at 0x7facd61bb3d0>, <__main__.InputExample object at 0x7facd61bb490>, <__main__.InputExample object at 0x7facd61bb550>, <__main__.InputExample object at 0x7facd61bb610>, <__main__.InputExample object at 0x7facd61bb6d0>, <__main__.InputExample object at 0x7facd61bb790>, <__main__.InputExample object at 0x7facd61bb850>, <__main__.InputExample object at 0x7facd61bb910>, <__main__.InputExample object at 0x7facd61bb9d0>, <__main__.InputExample object at 0x7facd61bba90>, <__main__.InputExample object at 0x7facd61bbb50>, <__main__.InputExample object at 0x7facd61bbc10>, <__main__.InputExample object at 0x7facd61bbcd0>, <__main__.InputExample object at 0x7facd61bbd90>, <__main__.InputExample object at 0x7facd61bbe50>, <__main__.InputExample object at 0x7facd61bbf10>, <__main__.InputExample object at 0x7facd61bbfd0>, <__main__.InputExample object at 0x7facd61bf0d0>, <__main__.InputExample object at 0x7facd61bf190>, <__main__.InputExample object at 0x7facd61bf250>, <__main__.InputExample object at 0x7facd61bf310>, <__main__.InputExample object at 0x7facd61bf3d0>, <__main__.InputExample object at 0x7facd61bf490>, <__main__.InputExample object at 0x7facd61bf550>, <__main__.InputExample object at 0x7facd61bf610>, <__main__.InputExample object at 0x7facd61bf6d0>, <__main__.InputExample object at 0x7facd61bf790>, <__main__.InputExample object at 0x7facd61bf850>, <__main__.InputExample object at 0x7facd61bf910>, <__main__.InputExample object at 0x7facd61bf9d0>, <__main__.InputExample object at 0x7facd61bfa90>, <__main__.InputExample object at 0x7facd61bfb50>, <__main__.InputExample object at 0x7facd61bfc10>, <__main__.InputExample object at 0x7facd61bfcd0>, <__main__.InputExample object at 0x7facd61bfd90>, <__main__.InputExample object at 0x7facd61bfe50>, <__main__.InputExample object at 0x7facd61bff10>, <__main__.InputExample object at 0x7facd61bffd0>, <__main__.InputExample object at 0x7facd61b90d0>, <__main__.InputExample object at 0x7facd61b9190>, <__main__.InputExample object at 0x7facd61b9250>, <__main__.InputExample object at 0x7facd61b9310>, <__main__.InputExample object at 0x7facd61b93d0>, <__main__.InputExample object at 0x7facd61b9490>, <__main__.InputExample object at 0x7facd61b9550>, <__main__.InputExample object at 0x7facd61b9610>, <__main__.InputExample object at 0x7facd61b96d0>, <__main__.InputExample object at 0x7facd61b9790>, <__main__.InputExample object at 0x7facd61b9850>, <__main__.InputExample object at 0x7facd61b9910>, <__main__.InputExample object at 0x7facd61b99d0>, <__main__.InputExample object at 0x7facd61b9a90>, <__main__.InputExample object at 0x7facd61b9b50>, <__main__.InputExample object at 0x7facd61b9c10>, <__main__.InputExample object at 0x7facd61b9cd0>, <__main__.InputExample object at 0x7facd61b9d90>, <__main__.InputExample object at 0x7facd61b9e50>, <__main__.InputExample object at 0x7facd61b9f10>, <__main__.InputExample object at 0x7facd61b9fd0>, <__main__.InputExample object at 0x7facd61c00d0>, <__main__.InputExample object at 0x7facd61c0190>, <__main__.InputExample object at 0x7facd61c0250>, <__main__.InputExample object at 0x7facd61c0310>, <__main__.InputExample object at 0x7facd61c03d0>, <__main__.InputExample object at 0x7facd61c0490>, <__main__.InputExample object at 0x7facd61c0550>, <__main__.InputExample object at 0x7facd61c0610>, <__main__.InputExample object at 0x7facd61c06d0>, <__main__.InputExample object at 0x7facd61c0790>, <__main__.InputExample object at 0x7facd61c0850>, <__main__.InputExample object at 0x7facd61c0910>, <__main__.InputExample object at 0x7facd61c09d0>, <__main__.InputExample object at 0x7facd61c0a90>, <__main__.InputExample object at 0x7facd61c0b50>, <__main__.InputExample object at 0x7facd61c0c10>, <__main__.InputExample object at 0x7facd61c0cd0>, <__main__.InputExample object at 0x7facd61c0d90>, <__main__.InputExample object at 0x7facd61c0e50>, <__main__.InputExample object at 0x7facd61c0f10>, <__main__.InputExample object at 0x7facd61c0fd0>, <__main__.InputExample object at 0x7facd61ba0d0>, <__main__.InputExample object at 0x7facd61ba190>, <__main__.InputExample object at 0x7facd61ba250>, <__main__.InputExample object at 0x7facd61ba310>, <__main__.InputExample object at 0x7facd61ba3d0>, <__main__.InputExample object at 0x7facd61ba490>, <__main__.InputExample object at 0x7facd61ba550>, <__main__.InputExample object at 0x7facd61ba610>, <__main__.InputExample object at 0x7facd61ba6d0>, <__main__.InputExample object at 0x7facd61ba790>, <__main__.InputExample object at 0x7facd61ba850>, <__main__.InputExample object at 0x7facd61ba910>, <__main__.InputExample object at 0x7facd61ba9d0>, <__main__.InputExample object at 0x7facd61baa90>, <__main__.InputExample object at 0x7facd61bab50>, <__main__.InputExample object at 0x7facd61bac10>, <__main__.InputExample object at 0x7facd61bacd0>, <__main__.InputExample object at 0x7facd61bad90>, <__main__.InputExample object at 0x7facd61bae50>, <__main__.InputExample object at 0x7facd61baf10>, <__main__.InputExample object at 0x7facd61bafd0>, <__main__.InputExample object at 0x7facd61ab0d0>, <__main__.InputExample object at 0x7facd61ab190>, <__main__.InputExample object at 0x7facd61ab250>, <__main__.InputExample object at 0x7facd61ab310>, <__main__.InputExample object at 0x7facd61ab3d0>, <__main__.InputExample object at 0x7facd61ab490>, <__main__.InputExample object at 0x7facd61ab550>, <__main__.InputExample object at 0x7facd61ab610>, <__main__.InputExample object at 0x7facd61ab6d0>, <__main__.InputExample object at 0x7facd61ab790>, <__main__.InputExample object at 0x7facd61ab850>, <__main__.InputExample object at 0x7facd61ab910>, <__main__.InputExample object at 0x7facd61ab9d0>, <__main__.InputExample object at 0x7facd61aba90>, <__main__.InputExample object at 0x7facd61abb50>, <__main__.InputExample object at 0x7facd61abc10>, <__main__.InputExample object at 0x7facd61abcd0>, <__main__.InputExample object at 0x7facd61abd90>, <__main__.InputExample object at 0x7facd61abe50>, <__main__.InputExample object at 0x7facd61abf10>, <__main__.InputExample object at 0x7facd61abfd0>, <__main__.InputExample object at 0x7facd61b70d0>, <__main__.InputExample object at 0x7facd61b7190>, <__main__.InputExample object at 0x7facd61b7250>, <__main__.InputExample object at 0x7facd61b7310>, <__main__.InputExample object at 0x7facd61b73d0>, <__main__.InputExample object at 0x7facd61b7490>, <__main__.InputExample object at 0x7facd61b7550>, <__main__.InputExample object at 0x7facd61b7610>, <__main__.InputExample object at 0x7facd61b76d0>, <__main__.InputExample object at 0x7facd61b7790>, <__main__.InputExample object at 0x7facd61b7850>, <__main__.InputExample object at 0x7facd61b7910>, <__main__.InputExample object at 0x7facd61b79d0>, <__main__.InputExample object at 0x7facd61b7a90>, <__main__.InputExample object at 0x7facd61b7b50>, <__main__.InputExample object at 0x7facd61b7c10>, <__main__.InputExample object at 0x7facd61b7cd0>, <__main__.InputExample object at 0x7facd61b7d90>, <__main__.InputExample object at 0x7facd61b7e50>, <__main__.InputExample object at 0x7facd61b7f10>, <__main__.InputExample object at 0x7facd61b7fd0>, <__main__.InputExample object at 0x7facd61b20d0>, <__main__.InputExample object at 0x7facd61b2190>, <__main__.InputExample object at 0x7facd61b2250>, <__main__.InputExample object at 0x7facd61b2310>, <__main__.InputExample object at 0x7facd61b23d0>, <__main__.InputExample object at 0x7facd61b2490>, <__main__.InputExample object at 0x7facd61b2550>, <__main__.InputExample object at 0x7facd61b2610>, <__main__.InputExample object at 0x7facd61b26d0>, <__main__.InputExample object at 0x7facd61b2790>, <__main__.InputExample object at 0x7facd61b2850>, <__main__.InputExample object at 0x7facd61b2910>, <__main__.InputExample object at 0x7facd61b29d0>, <__main__.InputExample object at 0x7facd61b2a90>, <__main__.InputExample object at 0x7facd61b2b50>, <__main__.InputExample object at 0x7facd61b2c10>, <__main__.InputExample object at 0x7facd61b2cd0>, <__main__.InputExample object at 0x7facd61b2d90>, <__main__.InputExample object at 0x7facd61b2e50>, <__main__.InputExample object at 0x7facd61b2f10>, <__main__.InputExample object at 0x7facd61b2fd0>, <__main__.InputExample object at 0x7facd61aa0d0>, <__main__.InputExample object at 0x7facd61aa190>, <__main__.InputExample object at 0x7facd61aa250>, <__main__.InputExample object at 0x7facd61aa310>, <__main__.InputExample object at 0x7facd61aa3d0>, <__main__.InputExample object at 0x7facd61aa490>, <__main__.InputExample object at 0x7facd61aa550>, <__main__.InputExample object at 0x7facd61aa610>, <__main__.InputExample object at 0x7facd61aa6d0>, <__main__.InputExample object at 0x7facd61aa790>, <__main__.InputExample object at 0x7facd61aa850>, <__main__.InputExample object at 0x7facd61aa910>, <__main__.InputExample object at 0x7facd61aa9d0>, <__main__.InputExample object at 0x7facd61aaa90>, <__main__.InputExample object at 0x7facd61aab50>, <__main__.InputExample object at 0x7facd61aac10>, <__main__.InputExample object at 0x7facd61aacd0>, <__main__.InputExample object at 0x7facd61aad90>, <__main__.InputExample object at 0x7facd61aae50>, <__main__.InputExample object at 0x7facd61aaf10>, <__main__.InputExample object at 0x7facd61aafd0>, <__main__.InputExample object at 0x7facd61ac0d0>, <__main__.InputExample object at 0x7facd61ac190>, <__main__.InputExample object at 0x7facd61ac250>, <__main__.InputExample object at 0x7facd61ac310>, <__main__.InputExample object at 0x7facd61ac3d0>, <__main__.InputExample object at 0x7facd61ac490>, <__main__.InputExample object at 0x7facd61ac550>, <__main__.InputExample object at 0x7facd61ac610>, <__main__.InputExample object at 0x7facd61ac6d0>, <__main__.InputExample object at 0x7facd61ac790>, <__main__.InputExample object at 0x7facd61ac850>, <__main__.InputExample object at 0x7facd61ac910>, <__main__.InputExample object at 0x7facd61ac9d0>, <__main__.InputExample object at 0x7facd61aca90>, <__main__.InputExample object at 0x7facd61acb50>, <__main__.InputExample object at 0x7facd61acc10>, <__main__.InputExample object at 0x7facd61accd0>, <__main__.InputExample object at 0x7facd61acd90>, <__main__.InputExample object at 0x7facd61ace50>, <__main__.InputExample object at 0x7facd61acf10>, <__main__.InputExample object at 0x7facd61acfd0>, <__main__.InputExample object at 0x7facd61ae0d0>, <__main__.InputExample object at 0x7facd61ae190>, <__main__.InputExample object at 0x7facd61ae250>, <__main__.InputExample object at 0x7facd61ae310>, <__main__.InputExample object at 0x7facd61ae3d0>, <__main__.InputExample object at 0x7facd61ae490>, <__main__.InputExample object at 0x7facd61ae550>, <__main__.InputExample object at 0x7facd61ae610>, <__main__.InputExample object at 0x7facd61ae6d0>, <__main__.InputExample object at 0x7facd61ae790>, <__main__.InputExample object at 0x7facd61ae850>, <__main__.InputExample object at 0x7facd61ae910>, <__main__.InputExample object at 0x7facd61ae9d0>, <__main__.InputExample object at 0x7facd61aea90>, <__main__.InputExample object at 0x7facd61aeb50>, <__main__.InputExample object at 0x7facd61aec10>, <__main__.InputExample object at 0x7facd61aecd0>, <__main__.InputExample object at 0x7facd61aed90>, <__main__.InputExample object at 0x7facd61aee50>, <__main__.InputExample object at 0x7facd61aef10>, <__main__.InputExample object at 0x7facd61aefd0>, <__main__.InputExample object at 0x7facd61a60d0>, <__main__.InputExample object at 0x7facd61a6190>, <__main__.InputExample object at 0x7facd61a6250>, <__main__.InputExample object at 0x7facd61a6310>, <__main__.InputExample object at 0x7facd61a63d0>, <__main__.InputExample object at 0x7facd61a6490>, <__main__.InputExample object at 0x7facd61a6550>, <__main__.InputExample object at 0x7facd61a6610>, <__main__.InputExample object at 0x7facd61a66d0>, <__main__.InputExample object at 0x7facd61a6790>, <__main__.InputExample object at 0x7facd61a6850>, <__main__.InputExample object at 0x7facd61a6910>, <__main__.InputExample object at 0x7facd61a69d0>, <__main__.InputExample object at 0x7facd61a6a90>, <__main__.InputExample object at 0x7facd61a6b50>, <__main__.InputExample object at 0x7facd61a6c10>, <__main__.InputExample object at 0x7facd61a6cd0>, <__main__.InputExample object at 0x7facd61a6d90>, <__main__.InputExample object at 0x7facd61a6e50>, <__main__.InputExample object at 0x7facd61a6f10>, <__main__.InputExample object at 0x7facd61a6fd0>, <__main__.InputExample object at 0x7facd61a30d0>, <__main__.InputExample object at 0x7facd61a3190>, <__main__.InputExample object at 0x7facd61a3250>, <__main__.InputExample object at 0x7facd61a3310>, <__main__.InputExample object at 0x7facd61a33d0>, <__main__.InputExample object at 0x7facd61a3490>, <__main__.InputExample object at 0x7facd61a3550>, <__main__.InputExample object at 0x7facd61a3610>, <__main__.InputExample object at 0x7facd61a36d0>, <__main__.InputExample object at 0x7facd61a3790>, <__main__.InputExample object at 0x7facd61a3850>, <__main__.InputExample object at 0x7facd61a3910>, <__main__.InputExample object at 0x7facd61a39d0>, <__main__.InputExample object at 0x7facd61a3a90>, <__main__.InputExample object at 0x7facd61a3b50>, <__main__.InputExample object at 0x7facd61a3c10>, <__main__.InputExample object at 0x7facd61a3cd0>, <__main__.InputExample object at 0x7facd61a3d90>, <__main__.InputExample object at 0x7facd61a3e50>, <__main__.InputExample object at 0x7facd61a3f10>, <__main__.InputExample object at 0x7facd61a3fd0>, <__main__.InputExample object at 0x7facd61a10d0>, <__main__.InputExample object at 0x7facd61a1190>, <__main__.InputExample object at 0x7facd61a1250>, <__main__.InputExample object at 0x7facd61a1310>, <__main__.InputExample object at 0x7facd61a13d0>, <__main__.InputExample object at 0x7facd61a1490>, <__main__.InputExample object at 0x7facd61a1550>, <__main__.InputExample object at 0x7facd61a1610>, <__main__.InputExample object at 0x7facd61a16d0>, <__main__.InputExample object at 0x7facd61a1790>, <__main__.InputExample object at 0x7facd61a1850>, <__main__.InputExample object at 0x7facd61a1910>, <__main__.InputExample object at 0x7facd61a19d0>, <__main__.InputExample object at 0x7facd61a1a90>, <__main__.InputExample object at 0x7facd61a1b50>, <__main__.InputExample object at 0x7facd61a1c10>, <__main__.InputExample object at 0x7facd61a1cd0>, <__main__.InputExample object at 0x7facd61a1d90>, <__main__.InputExample object at 0x7facd61a1e50>, <__main__.InputExample object at 0x7facd61a1f10>, <__main__.InputExample object at 0x7facd61a1fd0>, <__main__.InputExample object at 0x7facc2f010d0>, <__main__.InputExample object at 0x7facc2f01190>, <__main__.InputExample object at 0x7facc2f01250>, <__main__.InputExample object at 0x7facc2f01310>, <__main__.InputExample object at 0x7facc2f013d0>, <__main__.InputExample object at 0x7facc2f01490>, <__main__.InputExample object at 0x7facc2f01550>, <__main__.InputExample object at 0x7facc2f01610>, <__main__.InputExample object at 0x7facc2f016d0>, <__main__.InputExample object at 0x7facc2f01790>, <__main__.InputExample object at 0x7facc2f01850>, <__main__.InputExample object at 0x7facc2f01910>, <__main__.InputExample object at 0x7facc2f019d0>, <__main__.InputExample object at 0x7facc2f01a90>, <__main__.InputExample object at 0x7facc2f01b50>, <__main__.InputExample object at 0x7facc2f01c10>, <__main__.InputExample object at 0x7facc2f01cd0>, <__main__.InputExample object at 0x7facc2f01d90>, <__main__.InputExample object at 0x7facc2f01e50>, <__main__.InputExample object at 0x7facc2f01f10>, <__main__.InputExample object at 0x7facc2f01fd0>, <__main__.InputExample object at 0x7facc2f020d0>, <__main__.InputExample object at 0x7facc2f02190>, <__main__.InputExample object at 0x7facc2f02250>, <__main__.InputExample object at 0x7facc2f02310>, <__main__.InputExample object at 0x7facc2f023d0>, <__main__.InputExample object at 0x7facc2f02490>, <__main__.InputExample object at 0x7facc2f02550>, <__main__.InputExample object at 0x7facc2f02610>, <__main__.InputExample object at 0x7facc2f026d0>, <__main__.InputExample object at 0x7facc2f02790>, <__main__.InputExample object at 0x7facc2f02850>, <__main__.InputExample object at 0x7facc2f02910>, <__main__.InputExample object at 0x7facc2f029d0>, <__main__.InputExample object at 0x7facc2f02a90>, <__main__.InputExample object at 0x7facc2f02b50>, <__main__.InputExample object at 0x7facc2f02c10>, <__main__.InputExample object at 0x7facc2f02cd0>, <__main__.InputExample object at 0x7facc2f02d90>, <__main__.InputExample object at 0x7facc2f02e50>, <__main__.InputExample object at 0x7facc2f02f10>, <__main__.InputExample object at 0x7facc2f02fd0>, <__main__.InputExample object at 0x7facc2f030d0>, <__main__.InputExample object at 0x7facc2f03190>, <__main__.InputExample object at 0x7facc2f03250>, <__main__.InputExample object at 0x7facc2f03310>, <__main__.InputExample object at 0x7facc2f033d0>, <__main__.InputExample object at 0x7facc2f03490>, <__main__.InputExample object at 0x7facc2f03550>, <__main__.InputExample object at 0x7facc2f03610>, <__main__.InputExample object at 0x7facc2f036d0>, <__main__.InputExample object at 0x7facc2f03790>, <__main__.InputExample object at 0x7facc2f03850>, <__main__.InputExample object at 0x7facc2f03910>, <__main__.InputExample object at 0x7facc2f039d0>, <__main__.InputExample object at 0x7facc2f03a90>, <__main__.InputExample object at 0x7facc2f03b50>, <__main__.InputExample object at 0x7facc2f03c10>, <__main__.InputExample object at 0x7facc2f03cd0>, <__main__.InputExample object at 0x7facc2f03d90>, <__main__.InputExample object at 0x7facc2f03e50>, <__main__.InputExample object at 0x7facc2f03f10>, <__main__.InputExample object at 0x7facc2f03fd0>, <__main__.InputExample object at 0x7facc2f050d0>, <__main__.InputExample object at 0x7facc2f05190>, <__main__.InputExample object at 0x7facc2f05250>, <__main__.InputExample object at 0x7facc2f05310>, <__main__.InputExample object at 0x7facc2f053d0>, <__main__.InputExample object at 0x7facc2f05490>, <__main__.InputExample object at 0x7facc2f05550>, <__main__.InputExample object at 0x7facc2f05610>, <__main__.InputExample object at 0x7facc2f056d0>, <__main__.InputExample object at 0x7facc2f05790>, <__main__.InputExample object at 0x7facc2f05850>, <__main__.InputExample object at 0x7facc2f05910>, <__main__.InputExample object at 0x7facc2f059d0>, <__main__.InputExample object at 0x7facc2f05a90>, <__main__.InputExample object at 0x7facc2f05b50>, <__main__.InputExample object at 0x7facc2f05c10>, <__main__.InputExample object at 0x7facc2f05cd0>, <__main__.InputExample object at 0x7facc2f05d90>, <__main__.InputExample object at 0x7facc2f05e50>, <__main__.InputExample object at 0x7facc2f05f10>, <__main__.InputExample object at 0x7facc2f05fd0>, <__main__.InputExample object at 0x7facc2f070d0>, <__main__.InputExample object at 0x7facc2f07190>, <__main__.InputExample object at 0x7facc2f07250>, <__main__.InputExample object at 0x7facc2f07310>, <__main__.InputExample object at 0x7facc2f073d0>, <__main__.InputExample object at 0x7facc2f07490>, <__main__.InputExample object at 0x7facc2f07550>, <__main__.InputExample object at 0x7facc2f07610>, <__main__.InputExample object at 0x7facc2f076d0>, <__main__.InputExample object at 0x7facc2f07790>, <__main__.InputExample object at 0x7facc2f07850>, <__main__.InputExample object at 0x7facc2f07910>, <__main__.InputExample object at 0x7facc2f079d0>, <__main__.InputExample object at 0x7facc2f07a90>, <__main__.InputExample object at 0x7facc2f07b50>, <__main__.InputExample object at 0x7facc2f07c10>, <__main__.InputExample object at 0x7facc2f07cd0>, <__main__.InputExample object at 0x7facc2f07d90>, <__main__.InputExample object at 0x7facc2f07e50>, <__main__.InputExample object at 0x7facc2f07f10>, <__main__.InputExample object at 0x7facc2f07fd0>, <__main__.InputExample object at 0x7facc2f090d0>, <__main__.InputExample object at 0x7facc2f09190>, <__main__.InputExample object at 0x7facc2f09250>, <__main__.InputExample object at 0x7facc2f09310>, <__main__.InputExample object at 0x7facc2f093d0>, <__main__.InputExample object at 0x7facc2f09490>, <__main__.InputExample object at 0x7facc2f09550>, <__main__.InputExample object at 0x7facc2f09610>, <__main__.InputExample object at 0x7facc2f096d0>, <__main__.InputExample object at 0x7facc2f09790>, <__main__.InputExample object at 0x7facc2f09850>, <__main__.InputExample object at 0x7facc2f09910>, <__main__.InputExample object at 0x7facc2f099d0>, <__main__.InputExample object at 0x7facc2f09a90>, <__main__.InputExample object at 0x7facc2f09b50>, <__main__.InputExample object at 0x7facc2f09c10>, <__main__.InputExample object at 0x7facc2f09cd0>, <__main__.InputExample object at 0x7facc2f09d90>, <__main__.InputExample object at 0x7facc2f09e50>, <__main__.InputExample object at 0x7facc2f09f10>, <__main__.InputExample object at 0x7facc2f09fd0>, <__main__.InputExample object at 0x7facc2f0a0d0>, <__main__.InputExample object at 0x7facc2f0a190>, <__main__.InputExample object at 0x7facc2f0a250>, <__main__.InputExample object at 0x7facc2f0a310>, <__main__.InputExample object at 0x7facc2f0a3d0>, <__main__.InputExample object at 0x7facc2f0a490>, <__main__.InputExample object at 0x7facc2f0a550>, <__main__.InputExample object at 0x7facc2f0a610>, <__main__.InputExample object at 0x7facc2f0a6d0>, <__main__.InputExample object at 0x7facc2f0a790>, <__main__.InputExample object at 0x7facc2f0a850>, <__main__.InputExample object at 0x7facc2f0a910>, <__main__.InputExample object at 0x7facc2f0a9d0>, <__main__.InputExample object at 0x7facc2f0aa90>, <__main__.InputExample object at 0x7facc2f0ab50>, <__main__.InputExample object at 0x7facc2f0ac10>, <__main__.InputExample object at 0x7facc2f0acd0>, <__main__.InputExample object at 0x7facc2f0ad90>, <__main__.InputExample object at 0x7facc2f0ae50>, <__main__.InputExample object at 0x7facc2f0af10>, <__main__.InputExample object at 0x7facc2f0afd0>, <__main__.InputExample object at 0x7facc2f0b0d0>, <__main__.InputExample object at 0x7facc2f0b190>, <__main__.InputExample object at 0x7facc2f0b250>, <__main__.InputExample object at 0x7facc2f0b310>, <__main__.InputExample object at 0x7facc2f0b3d0>, <__main__.InputExample object at 0x7facc2f0b490>, <__main__.InputExample object at 0x7facc2f0b550>, <__main__.InputExample object at 0x7facc2f0b610>, <__main__.InputExample object at 0x7facc2f0b6d0>, <__main__.InputExample object at 0x7facc2f0b790>, <__main__.InputExample object at 0x7facc2f0b850>, <__main__.InputExample object at 0x7facc2f0b910>, <__main__.InputExample object at 0x7facc2f0b9d0>, <__main__.InputExample object at 0x7facc2f0ba90>, <__main__.InputExample object at 0x7facc2f0bb50>, <__main__.InputExample object at 0x7facc2f0bc10>, <__main__.InputExample object at 0x7facc2f0bcd0>, <__main__.InputExample object at 0x7facc2f0bd90>, <__main__.InputExample object at 0x7facc2f0be50>, <__main__.InputExample object at 0x7facc2f0bf10>, <__main__.InputExample object at 0x7facc2f0bfd0>, <__main__.InputExample object at 0x7facc2f0e0d0>, <__main__.InputExample object at 0x7facc2f0e190>, <__main__.InputExample object at 0x7facc2f0e250>, <__main__.InputExample object at 0x7facc2f0e310>, <__main__.InputExample object at 0x7facc2f0e3d0>, <__main__.InputExample object at 0x7facc2f0e490>, <__main__.InputExample object at 0x7facc2f0e550>, <__main__.InputExample object at 0x7facc2f0e610>, <__main__.InputExample object at 0x7facc2f0e6d0>, <__main__.InputExample object at 0x7facc2f0e790>, <__main__.InputExample object at 0x7facc2f0e850>, <__main__.InputExample object at 0x7facc2f0e910>, <__main__.InputExample object at 0x7facc2f0e9d0>, <__main__.InputExample object at 0x7facc2f0ea90>, <__main__.InputExample object at 0x7facc2f0eb50>, <__main__.InputExample object at 0x7facc2f0ec10>, <__main__.InputExample object at 0x7facc2f0ecd0>, <__main__.InputExample object at 0x7facc2f0ed90>, <__main__.InputExample object at 0x7facc2f0ee50>, <__main__.InputExample object at 0x7facc2f0ef10>, <__main__.InputExample object at 0x7facc2f0efd0>, <__main__.InputExample object at 0x7facc2f0f0d0>, <__main__.InputExample object at 0x7facc2f0f190>, <__main__.InputExample object at 0x7facc2f0f250>, <__main__.InputExample object at 0x7facc2f0f310>, <__main__.InputExample object at 0x7facc2f0f3d0>, <__main__.InputExample object at 0x7facc2f0f490>, <__main__.InputExample object at 0x7facc2f0f550>, <__main__.InputExample object at 0x7facc2f0f610>, <__main__.InputExample object at 0x7facc2f0f6d0>, <__main__.InputExample object at 0x7facc2f0f790>, <__main__.InputExample object at 0x7facc2f0f850>, <__main__.InputExample object at 0x7facc2f0f910>, <__main__.InputExample object at 0x7facc2f0f9d0>, <__main__.InputExample object at 0x7facc2f0fa90>, <__main__.InputExample object at 0x7facc2f0fb50>, <__main__.InputExample object at 0x7facc2f0fc10>, <__main__.InputExample object at 0x7facc2f0fcd0>, <__main__.InputExample object at 0x7facc2f0fd90>, <__main__.InputExample object at 0x7facc2f0fe50>, <__main__.InputExample object at 0x7facc2f0ff10>, <__main__.InputExample object at 0x7facc2f0ffd0>, <__main__.InputExample object at 0x7facc2f110d0>, <__main__.InputExample object at 0x7facc2f11190>, <__main__.InputExample object at 0x7facc2f11250>, <__main__.InputExample object at 0x7facc2f11310>, <__main__.InputExample object at 0x7facc2f113d0>, <__main__.InputExample object at 0x7facc2f11490>, <__main__.InputExample object at 0x7facc2f11550>, <__main__.InputExample object at 0x7facc2f11610>, <__main__.InputExample object at 0x7facc2f116d0>, <__main__.InputExample object at 0x7facc2f11790>, <__main__.InputExample object at 0x7facc2f11850>, <__main__.InputExample object at 0x7facc2f11910>, <__main__.InputExample object at 0x7facc2f119d0>, <__main__.InputExample object at 0x7facc2f11a90>, <__main__.InputExample object at 0x7facc2f11b50>, <__main__.InputExample object at 0x7facc2f11c10>, <__main__.InputExample object at 0x7facc2f11cd0>, <__main__.InputExample object at 0x7facc2f11d90>, <__main__.InputExample object at 0x7facc2f11e50>, <__main__.InputExample object at 0x7facc2f11f10>, <__main__.InputExample object at 0x7facc2f11fd0>, <__main__.InputExample object at 0x7facc2f120d0>, <__main__.InputExample object at 0x7facc2f12190>, <__main__.InputExample object at 0x7facc2f12250>, <__main__.InputExample object at 0x7facc2f12310>, <__main__.InputExample object at 0x7facc2f123d0>, <__main__.InputExample object at 0x7facc2f12490>, <__main__.InputExample object at 0x7facc2f12550>, <__main__.InputExample object at 0x7facc2f12610>, <__main__.InputExample object at 0x7facc2f126d0>, <__main__.InputExample object at 0x7facc2f12790>, <__main__.InputExample object at 0x7facc2f12850>, <__main__.InputExample object at 0x7facc2f12910>, <__main__.InputExample object at 0x7facc2f129d0>, <__main__.InputExample object at 0x7facc2f12a90>, <__main__.InputExample object at 0x7facc2f12b50>, <__main__.InputExample object at 0x7facc2f12c10>, <__main__.InputExample object at 0x7facc2f12cd0>, <__main__.InputExample object at 0x7facc2f12d90>, <__main__.InputExample object at 0x7facc2f12e50>, <__main__.InputExample object at 0x7facc2f12f10>, <__main__.InputExample object at 0x7facc2f12fd0>, <__main__.InputExample object at 0x7facc2f150d0>, <__main__.InputExample object at 0x7facc2f15190>, <__main__.InputExample object at 0x7facc2f15250>, <__main__.InputExample object at 0x7facc2f15310>, <__main__.InputExample object at 0x7facc2f153d0>, <__main__.InputExample object at 0x7facc2f15490>, <__main__.InputExample object at 0x7facc2f15550>, <__main__.InputExample object at 0x7facc2f15610>, <__main__.InputExample object at 0x7facc2f156d0>, <__main__.InputExample object at 0x7facc2f15790>, <__main__.InputExample object at 0x7facc2f15850>, <__main__.InputExample object at 0x7facc2f15910>, <__main__.InputExample object at 0x7facc2f159d0>, <__main__.InputExample object at 0x7facc2f15a90>, <__main__.InputExample object at 0x7facc2f15b50>, <__main__.InputExample object at 0x7facc2f15c10>, <__main__.InputExample object at 0x7facc2f15cd0>, <__main__.InputExample object at 0x7facc2f15d90>, <__main__.InputExample object at 0x7facc2f15e50>, <__main__.InputExample object at 0x7facc2f15f10>, <__main__.InputExample object at 0x7facc2f15fd0>, <__main__.InputExample object at 0x7facc2f160d0>, <__main__.InputExample object at 0x7facc2f16190>, <__main__.InputExample object at 0x7facc2f16250>, <__main__.InputExample object at 0x7facc2f16310>, <__main__.InputExample object at 0x7facc2f163d0>, <__main__.InputExample object at 0x7facc2f16490>, <__main__.InputExample object at 0x7facc2f16550>, <__main__.InputExample object at 0x7facc2f16610>, <__main__.InputExample object at 0x7facc2f166d0>, <__main__.InputExample object at 0x7facc2f16790>, <__main__.InputExample object at 0x7facc2f16850>, <__main__.InputExample object at 0x7facc2f16910>, <__main__.InputExample object at 0x7facc2f169d0>, <__main__.InputExample object at 0x7facc2f16a90>, <__main__.InputExample object at 0x7facc2f16b50>, <__main__.InputExample object at 0x7facc2f16c10>, <__main__.InputExample object at 0x7facc2f16cd0>, <__main__.InputExample object at 0x7facc2f16d90>, <__main__.InputExample object at 0x7facc2f16e50>, <__main__.InputExample object at 0x7facc2f16f10>, <__main__.InputExample object at 0x7facc2f16fd0>, <__main__.InputExample object at 0x7facc2f170d0>, <__main__.InputExample object at 0x7facc2f17190>, <__main__.InputExample object at 0x7facc2f17250>, <__main__.InputExample object at 0x7facc2f17310>, <__main__.InputExample object at 0x7facc2f173d0>, <__main__.InputExample object at 0x7facc2f17490>, <__main__.InputExample object at 0x7facc2f17550>, <__main__.InputExample object at 0x7facc2f17610>, <__main__.InputExample object at 0x7facc2f176d0>, <__main__.InputExample object at 0x7facc2f17790>, <__main__.InputExample object at 0x7facc2f17850>, <__main__.InputExample object at 0x7facc2f17910>, <__main__.InputExample object at 0x7facc2f179d0>, <__main__.InputExample object at 0x7facc2f17a90>, <__main__.InputExample object at 0x7facc2f17b50>, <__main__.InputExample object at 0x7facc2f17c10>, <__main__.InputExample object at 0x7facc2f17cd0>, <__main__.InputExample object at 0x7facc2f17d90>, <__main__.InputExample object at 0x7facc2f17e50>, <__main__.InputExample object at 0x7facc2f17f10>, <__main__.InputExample object at 0x7facc2f17fd0>, <__main__.InputExample object at 0x7facc2f190d0>, <__main__.InputExample object at 0x7facc2f19190>, <__main__.InputExample object at 0x7facc2f19250>, <__main__.InputExample object at 0x7facc2f19310>, <__main__.InputExample object at 0x7facc2f193d0>, <__main__.InputExample object at 0x7facc2f19490>, <__main__.InputExample object at 0x7facc2f19550>, <__main__.InputExample object at 0x7facc2f19610>, <__main__.InputExample object at 0x7facc2f196d0>, <__main__.InputExample object at 0x7facc2f19790>, <__main__.InputExample object at 0x7facc2f19850>, <__main__.InputExample object at 0x7facc2f19910>, <__main__.InputExample object at 0x7facc2f199d0>, <__main__.InputExample object at 0x7facc2f19a90>, <__main__.InputExample object at 0x7facc2f19b50>, <__main__.InputExample object at 0x7facc2f19c10>, <__main__.InputExample object at 0x7facc2f19cd0>, <__main__.InputExample object at 0x7facc2f19d90>, <__main__.InputExample object at 0x7facc2f19e50>, <__main__.InputExample object at 0x7facc2f19f10>, <__main__.InputExample object at 0x7facc2f19fd0>, <__main__.InputExample object at 0x7facc2f1b0d0>, <__main__.InputExample object at 0x7facc2f1b190>, <__main__.InputExample object at 0x7facc2f1b250>, <__main__.InputExample object at 0x7facc2f1b310>, <__main__.InputExample object at 0x7facc2f1b3d0>, <__main__.InputExample object at 0x7facc2f1b490>, <__main__.InputExample object at 0x7facc2f1b550>, <__main__.InputExample object at 0x7facc2f1b610>, <__main__.InputExample object at 0x7facc2f1b6d0>, <__main__.InputExample object at 0x7facc2f1b790>, <__main__.InputExample object at 0x7facc2f1b850>, <__main__.InputExample object at 0x7facc2f1b910>, <__main__.InputExample object at 0x7facc2f1b9d0>, <__main__.InputExample object at 0x7facc2f1ba90>, <__main__.InputExample object at 0x7facc2f1bb50>, <__main__.InputExample object at 0x7facc2f1bc10>, <__main__.InputExample object at 0x7facc2f1bcd0>, <__main__.InputExample object at 0x7facc2f1bd90>, <__main__.InputExample object at 0x7facc2f1be50>, <__main__.InputExample object at 0x7facc2f1bf10>, <__main__.InputExample object at 0x7facc2f1bfd0>, <__main__.InputExample object at 0x7facd62190d0>, <__main__.InputExample object at 0x7facd6219190>, <__main__.InputExample object at 0x7facd6219250>, <__main__.InputExample object at 0x7facd6219310>, <__main__.InputExample object at 0x7facd62193d0>, <__main__.InputExample object at 0x7facd6219490>, <__main__.InputExample object at 0x7facd6219550>, <__main__.InputExample object at 0x7facd6219610>, <__main__.InputExample object at 0x7facd62196d0>, <__main__.InputExample object at 0x7facd6219790>, <__main__.InputExample object at 0x7facd6219850>, <__main__.InputExample object at 0x7facd6219910>, <__main__.InputExample object at 0x7facd62199d0>, <__main__.InputExample object at 0x7facd6219a90>, <__main__.InputExample object at 0x7facd6219b50>, <__main__.InputExample object at 0x7facd6219c10>, <__main__.InputExample object at 0x7facd6219cd0>, <__main__.InputExample object at 0x7facd6219d90>, <__main__.InputExample object at 0x7facd6219e50>, <__main__.InputExample object at 0x7facd6219f10>, <__main__.InputExample object at 0x7facd6219fd0>, <__main__.InputExample object at 0x7facd62180d0>, <__main__.InputExample object at 0x7facd6218190>, <__main__.InputExample object at 0x7facd6218250>, <__main__.InputExample object at 0x7facd6218310>, <__main__.InputExample object at 0x7facd62183d0>, <__main__.InputExample object at 0x7facd6218490>, <__main__.InputExample object at 0x7facd6218550>, <__main__.InputExample object at 0x7facd6218610>, <__main__.InputExample object at 0x7facd62186d0>, <__main__.InputExample object at 0x7facd6218790>, <__main__.InputExample object at 0x7facd6218850>, <__main__.InputExample object at 0x7facd6218910>, <__main__.InputExample object at 0x7facd62189d0>, <__main__.InputExample object at 0x7facd6218a90>, <__main__.InputExample object at 0x7facd6218b50>, <__main__.InputExample object at 0x7facd6218c10>, <__main__.InputExample object at 0x7facd6218cd0>, <__main__.InputExample object at 0x7facd6218d90>, <__main__.InputExample object at 0x7facd6218e50>, <__main__.InputExample object at 0x7facd6218f10>, <__main__.InputExample object at 0x7facd6218fd0>, <__main__.InputExample object at 0x7facd61e10d0>, <__main__.InputExample object at 0x7facd61e1190>, <__main__.InputExample object at 0x7facd61e1250>, <__main__.InputExample object at 0x7facd61e1310>, <__main__.InputExample object at 0x7facd61e13d0>, <__main__.InputExample object at 0x7facd61e1490>, <__main__.InputExample object at 0x7facd61e1550>, <__main__.InputExample object at 0x7facd61e1610>, <__main__.InputExample object at 0x7facd61e16d0>, <__main__.InputExample object at 0x7facd61e1790>, <__main__.InputExample object at 0x7facd61e1850>, <__main__.InputExample object at 0x7facd61e1910>, <__main__.InputExample object at 0x7facd61e19d0>, <__main__.InputExample object at 0x7facd61e1a90>, <__main__.InputExample object at 0x7facd61e1b50>, <__main__.InputExample object at 0x7facd61e1c10>, <__main__.InputExample object at 0x7facd61e1cd0>, <__main__.InputExample object at 0x7facd61e1d90>, <__main__.InputExample object at 0x7facd61e1e50>, <__main__.InputExample object at 0x7facd61e1f10>, <__main__.InputExample object at 0x7facd61e1fd0>, <__main__.InputExample object at 0x7facd61e00d0>, <__main__.InputExample object at 0x7facd61e0190>, <__main__.InputExample object at 0x7facd61e0250>, <__main__.InputExample object at 0x7facd61e0310>, <__main__.InputExample object at 0x7facd61e03d0>, <__main__.InputExample object at 0x7facd61e0490>, <__main__.InputExample object at 0x7facd61e0550>, <__main__.InputExample object at 0x7facd61e0610>, <__main__.InputExample object at 0x7facd61e06d0>, <__main__.InputExample object at 0x7facd61e0790>, <__main__.InputExample object at 0x7facd61e0850>, <__main__.InputExample object at 0x7facd61e0910>, <__main__.InputExample object at 0x7facd61e09d0>, <__main__.InputExample object at 0x7facd61e0a90>, <__main__.InputExample object at 0x7facd61e0b50>, <__main__.InputExample object at 0x7facd61e0c10>, <__main__.InputExample object at 0x7facd61e0cd0>, <__main__.InputExample object at 0x7facd61e0d90>, <__main__.InputExample object at 0x7facd61e0e50>, <__main__.InputExample object at 0x7facd61e0f10>, <__main__.InputExample object at 0x7facd61e0fd0>, <__main__.InputExample object at 0x7facd621e0d0>, <__main__.InputExample object at 0x7facd621e190>, <__main__.InputExample object at 0x7facd621e250>, <__main__.InputExample object at 0x7facd621e310>, <__main__.InputExample object at 0x7facd621e3d0>, <__main__.InputExample object at 0x7facd621e490>, <__main__.InputExample object at 0x7facd621e550>, <__main__.InputExample object at 0x7facd621e610>, <__main__.InputExample object at 0x7facd621e6d0>, <__main__.InputExample object at 0x7facd621e790>, <__main__.InputExample object at 0x7facd621e850>, <__main__.InputExample object at 0x7facd621e910>, <__main__.InputExample object at 0x7facd621e9d0>, <__main__.InputExample object at 0x7facd621ea90>, <__main__.InputExample object at 0x7facd621eb50>, <__main__.InputExample object at 0x7facd621ec10>, <__main__.InputExample object at 0x7facd621ecd0>, <__main__.InputExample object at 0x7facd621ed90>, <__main__.InputExample object at 0x7facd621ee50>, <__main__.InputExample object at 0x7facd621ef10>, <__main__.InputExample object at 0x7facd621efd0>, <__main__.InputExample object at 0x7facd61f70d0>, <__main__.InputExample object at 0x7facd61f7190>, <__main__.InputExample object at 0x7facd61f7250>, <__main__.InputExample object at 0x7facd61f7310>, <__main__.InputExample object at 0x7facd61f73d0>, <__main__.InputExample object at 0x7facd61f7490>, <__main__.InputExample object at 0x7facd61f7550>, <__main__.InputExample object at 0x7facd61f7610>, <__main__.InputExample object at 0x7facd61f76d0>, <__main__.InputExample object at 0x7facd61f7790>, <__main__.InputExample object at 0x7facd61f7850>, <__main__.InputExample object at 0x7facd61f7910>, <__main__.InputExample object at 0x7facd61f79d0>, <__main__.InputExample object at 0x7facd61f7a90>, <__main__.InputExample object at 0x7facd61f7b50>, <__main__.InputExample object at 0x7facd61f7c10>, <__main__.InputExample object at 0x7facd61f7cd0>, <__main__.InputExample object at 0x7facd61f7d90>, <__main__.InputExample object at 0x7facd61f7e50>, <__main__.InputExample object at 0x7facd61f7f10>, <__main__.InputExample object at 0x7facd61f7fd0>, <__main__.InputExample object at 0x7facd61e50d0>, <__main__.InputExample object at 0x7facd61e5190>, <__main__.InputExample object at 0x7facd61e5250>, <__main__.InputExample object at 0x7facd61e5310>, <__main__.InputExample object at 0x7facd61e53d0>, <__main__.InputExample object at 0x7facd61e5490>, <__main__.InputExample object at 0x7facd61e5550>, <__main__.InputExample object at 0x7facd61e5610>, <__main__.InputExample object at 0x7facd61e56d0>, <__main__.InputExample object at 0x7facd61e5790>, <__main__.InputExample object at 0x7facd61e5850>, <__main__.InputExample object at 0x7facd61e5910>, <__main__.InputExample object at 0x7facd61e59d0>, <__main__.InputExample object at 0x7facd61e5a90>, <__main__.InputExample object at 0x7facd61e5b50>, <__main__.InputExample object at 0x7facd61e5c10>, <__main__.InputExample object at 0x7facd61e5cd0>, <__main__.InputExample object at 0x7facd61e5d90>, <__main__.InputExample object at 0x7facd61e5e50>, <__main__.InputExample object at 0x7facd61e5f10>, <__main__.InputExample object at 0x7facd61e5fd0>, <__main__.InputExample object at 0x7facd61fc0d0>, <__main__.InputExample object at 0x7facd61fc190>, <__main__.InputExample object at 0x7facd61fc250>, <__main__.InputExample object at 0x7facd61fc310>, <__main__.InputExample object at 0x7facd61fc3d0>, <__main__.InputExample object at 0x7facd61fc490>, <__main__.InputExample object at 0x7facd61fc550>, <__main__.InputExample object at 0x7facd61fc610>, <__main__.InputExample object at 0x7facd61fc6d0>, <__main__.InputExample object at 0x7facd61fc790>, <__main__.InputExample object at 0x7facd61fc850>, <__main__.InputExample object at 0x7facd61fc910>, <__main__.InputExample object at 0x7facd61fc9d0>, <__main__.InputExample object at 0x7facd61fca90>, <__main__.InputExample object at 0x7facd61fcb50>, <__main__.InputExample object at 0x7facd61fcc10>, <__main__.InputExample object at 0x7facd61fccd0>, <__main__.InputExample object at 0x7facd61fcd90>, <__main__.InputExample object at 0x7facd61fce50>, <__main__.InputExample object at 0x7facd61fcf10>, <__main__.InputExample object at 0x7facd61fcfd0>, <__main__.InputExample object at 0x7facd620a0d0>, <__main__.InputExample object at 0x7facd620a190>, <__main__.InputExample object at 0x7facd620a250>, <__main__.InputExample object at 0x7facd620a310>, <__main__.InputExample object at 0x7facd620a3d0>, <__main__.InputExample object at 0x7facd620a490>, <__main__.InputExample object at 0x7facd620a550>, <__main__.InputExample object at 0x7facd620a610>, <__main__.InputExample object at 0x7facd620a6d0>, <__main__.InputExample object at 0x7facd620a790>, <__main__.InputExample object at 0x7facd620a850>, <__main__.InputExample object at 0x7facd620a910>, <__main__.InputExample object at 0x7facd620a9d0>, <__main__.InputExample object at 0x7facd620aa90>, <__main__.InputExample object at 0x7facd620ab50>, <__main__.InputExample object at 0x7facd620ac10>, <__main__.InputExample object at 0x7facd620acd0>, <__main__.InputExample object at 0x7facd620ad90>, <__main__.InputExample object at 0x7facd620ae50>, <__main__.InputExample object at 0x7facd620af10>, <__main__.InputExample object at 0x7facd620afd0>, <__main__.InputExample object at 0x7facd62020d0>, <__main__.InputExample object at 0x7facd6202190>, <__main__.InputExample object at 0x7facd6202250>, <__main__.InputExample object at 0x7facd6202310>, <__main__.InputExample object at 0x7facd62023d0>, <__main__.InputExample object at 0x7facd6202490>, <__main__.InputExample object at 0x7facd6202550>, <__main__.InputExample object at 0x7facd6202610>, <__main__.InputExample object at 0x7facd62026d0>, <__main__.InputExample object at 0x7facd6202790>, <__main__.InputExample object at 0x7facd6202850>, <__main__.InputExample object at 0x7facd6202910>, <__main__.InputExample object at 0x7facd62029d0>, <__main__.InputExample object at 0x7facd6202a90>, <__main__.InputExample object at 0x7facd6202b50>, <__main__.InputExample object at 0x7facd6202c10>, <__main__.InputExample object at 0x7facd6202cd0>, <__main__.InputExample object at 0x7facd6202d90>, <__main__.InputExample object at 0x7facd6202e50>, <__main__.InputExample object at 0x7facd6202f10>, <__main__.InputExample object at 0x7facd6202fd0>, <__main__.InputExample object at 0x7facd620c0d0>, <__main__.InputExample object at 0x7facd620c190>, <__main__.InputExample object at 0x7facd620c250>, <__main__.InputExample object at 0x7facd620c310>, <__main__.InputExample object at 0x7facd620c3d0>, <__main__.InputExample object at 0x7facd620c490>, <__main__.InputExample object at 0x7facd620c550>, <__main__.InputExample object at 0x7facd620c610>, <__main__.InputExample object at 0x7facd620c6d0>, <__main__.InputExample object at 0x7facd620c790>, <__main__.InputExample object at 0x7facd620c850>, <__main__.InputExample object at 0x7facd620c910>, <__main__.InputExample object at 0x7facd620c9d0>, <__main__.InputExample object at 0x7facd620ca90>, <__main__.InputExample object at 0x7facd620cb50>, <__main__.InputExample object at 0x7facd620cc10>, <__main__.InputExample object at 0x7facd620ccd0>, <__main__.InputExample object at 0x7facd620cd90>, <__main__.InputExample object at 0x7facd620ce50>, <__main__.InputExample object at 0x7facd620cf10>, <__main__.InputExample object at 0x7facd620cfd0>, <__main__.InputExample object at 0x7facd621f0d0>, <__main__.InputExample object at 0x7facd621f190>, <__main__.InputExample object at 0x7facd621f250>, <__main__.InputExample object at 0x7facd621f310>, <__main__.InputExample object at 0x7facd621f3d0>, <__main__.InputExample object at 0x7facd621f490>, <__main__.InputExample object at 0x7facd621f550>, <__main__.InputExample object at 0x7facd621f610>, <__main__.InputExample object at 0x7facd621f6d0>, <__main__.InputExample object at 0x7facd621f790>, <__main__.InputExample object at 0x7facd621f850>, <__main__.InputExample object at 0x7facd621f910>, <__main__.InputExample object at 0x7facd621f9d0>, <__main__.InputExample object at 0x7facd621fa90>, <__main__.InputExample object at 0x7facd621fb50>, <__main__.InputExample object at 0x7facd621fc10>, <__main__.InputExample object at 0x7facd621fcd0>, <__main__.InputExample object at 0x7facd621fd90>, <__main__.InputExample object at 0x7facd621fe50>, <__main__.InputExample object at 0x7facd621ff10>, <__main__.InputExample object at 0x7facd621ffd0>, <__main__.InputExample object at 0x7facd62120d0>, <__main__.InputExample object at 0x7facd6212190>, <__main__.InputExample object at 0x7facd6212250>, <__main__.InputExample object at 0x7facd6212310>, <__main__.InputExample object at 0x7facd62123d0>, <__main__.InputExample object at 0x7facd6212490>, <__main__.InputExample object at 0x7facd6212550>, <__main__.InputExample object at 0x7facd6212610>, <__main__.InputExample object at 0x7facd62126d0>, <__main__.InputExample object at 0x7facd6212790>, <__main__.InputExample object at 0x7facd6212850>, <__main__.InputExample object at 0x7facd6212910>, <__main__.InputExample object at 0x7facd62129d0>, <__main__.InputExample object at 0x7facd6212a90>, <__main__.InputExample object at 0x7facd6212b50>, <__main__.InputExample object at 0x7facd6212c10>, <__main__.InputExample object at 0x7facd6212cd0>, <__main__.InputExample object at 0x7facd6212d90>, <__main__.InputExample object at 0x7facd6212e50>, <__main__.InputExample object at 0x7facd6212f10>, <__main__.InputExample object at 0x7facd6212fd0>, <__main__.InputExample object at 0x7facd620f0d0>, <__main__.InputExample object at 0x7facd620f190>, <__main__.InputExample object at 0x7facd620f250>, <__main__.InputExample object at 0x7facd620f310>, <__main__.InputExample object at 0x7facd620f3d0>, <__main__.InputExample object at 0x7facd620f490>, <__main__.InputExample object at 0x7facd620f550>, <__main__.InputExample object at 0x7facd620f610>, <__main__.InputExample object at 0x7facd620f6d0>, <__main__.InputExample object at 0x7facd620f790>, <__main__.InputExample object at 0x7facd620f850>, <__main__.InputExample object at 0x7facd620f910>, <__main__.InputExample object at 0x7facd620f9d0>, <__main__.InputExample object at 0x7facd620fa90>, <__main__.InputExample object at 0x7facd620fb50>, <__main__.InputExample object at 0x7facd620fc10>, <__main__.InputExample object at 0x7facd620fcd0>, <__main__.InputExample object at 0x7facd620fd90>, <__main__.InputExample object at 0x7facd620fe50>, <__main__.InputExample object at 0x7facd620ff10>, <__main__.InputExample object at 0x7facd620ffd0>, <__main__.InputExample object at 0x7facd61f60d0>, <__main__.InputExample object at 0x7facd61f6190>, <__main__.InputExample object at 0x7facd61f6250>, <__main__.InputExample object at 0x7facd61f6310>, <__main__.InputExample object at 0x7facd61f63d0>, <__main__.InputExample object at 0x7facd61f6490>, <__main__.InputExample object at 0x7facd61f6550>, <__main__.InputExample object at 0x7facd61f6610>, <__main__.InputExample object at 0x7facd61f66d0>, <__main__.InputExample object at 0x7facd61f6790>, <__main__.InputExample object at 0x7facd61f6850>, <__main__.InputExample object at 0x7facd61f6910>, <__main__.InputExample object at 0x7facd61f69d0>, <__main__.InputExample object at 0x7facd61f6a90>, <__main__.InputExample object at 0x7facd61f6b50>, <__main__.InputExample object at 0x7facd61f6c10>, <__main__.InputExample object at 0x7facd61f6cd0>, <__main__.InputExample object at 0x7facd61f6d90>, <__main__.InputExample object at 0x7facd61f6e50>, <__main__.InputExample object at 0x7facd61f6f10>, <__main__.InputExample object at 0x7facd61f6fd0>, <__main__.InputExample object at 0x7facd62140d0>, <__main__.InputExample object at 0x7facd6214190>, <__main__.InputExample object at 0x7facd6214250>, <__main__.InputExample object at 0x7facd6214310>, <__main__.InputExample object at 0x7facd62143d0>, <__main__.InputExample object at 0x7facd6214490>, <__main__.InputExample object at 0x7facd6214550>, <__main__.InputExample object at 0x7facd6214610>, <__main__.InputExample object at 0x7facd62146d0>, <__main__.InputExample object at 0x7facd6214790>, <__main__.InputExample object at 0x7facd6214850>, <__main__.InputExample object at 0x7facd6214910>, <__main__.InputExample object at 0x7facd62149d0>, <__main__.InputExample object at 0x7facd6214a90>, <__main__.InputExample object at 0x7facd6214b50>, <__main__.InputExample object at 0x7facd6214c10>, <__main__.InputExample object at 0x7facd6214cd0>, <__main__.InputExample object at 0x7facd6214d90>, <__main__.InputExample object at 0x7facd6214e50>, <__main__.InputExample object at 0x7facd6214f10>, <__main__.InputExample object at 0x7facd6214fd0>, <__main__.InputExample object at 0x7facd62040d0>, <__main__.InputExample object at 0x7facd6204190>, <__main__.InputExample object at 0x7facd6204250>, <__main__.InputExample object at 0x7facd6204310>, <__main__.InputExample object at 0x7facd62043d0>, <__main__.InputExample object at 0x7facd6204490>, <__main__.InputExample object at 0x7facd6204550>, <__main__.InputExample object at 0x7facd6204610>, <__main__.InputExample object at 0x7facd62046d0>, <__main__.InputExample object at 0x7facd6204790>, <__main__.InputExample object at 0x7facd6204850>, <__main__.InputExample object at 0x7facd6204910>, <__main__.InputExample object at 0x7facd62049d0>, <__main__.InputExample object at 0x7facd6204a90>, <__main__.InputExample object at 0x7facd6204b50>, <__main__.InputExample object at 0x7facd6204c10>, <__main__.InputExample object at 0x7facd6204cd0>, <__main__.InputExample object at 0x7facd6204d90>, <__main__.InputExample object at 0x7facd6204e50>, <__main__.InputExample object at 0x7facd6204f10>, <__main__.InputExample object at 0x7facd6204fd0>, <__main__.InputExample object at 0x7facd62100d0>, <__main__.InputExample object at 0x7facd6210190>, <__main__.InputExample object at 0x7facd6210250>, <__main__.InputExample object at 0x7facd6210310>, <__main__.InputExample object at 0x7facd62103d0>, <__main__.InputExample object at 0x7facd6210490>, <__main__.InputExample object at 0x7facd6210550>, <__main__.InputExample object at 0x7facd6210610>, <__main__.InputExample object at 0x7facd62106d0>, <__main__.InputExample object at 0x7facd6210790>, <__main__.InputExample object at 0x7facd6210850>, <__main__.InputExample object at 0x7facd6210910>, <__main__.InputExample object at 0x7facd62109d0>, <__main__.InputExample object at 0x7facd6210a90>, <__main__.InputExample object at 0x7facd6210b50>, <__main__.InputExample object at 0x7facd6210c10>, <__main__.InputExample object at 0x7facd6210cd0>, <__main__.InputExample object at 0x7facd6210d90>, <__main__.InputExample object at 0x7facd6210e50>, <__main__.InputExample object at 0x7facd6210f10>, <__main__.InputExample object at 0x7facd6210fd0>, <__main__.InputExample object at 0x7facd61ff0d0>, <__main__.InputExample object at 0x7facd61ff190>, <__main__.InputExample object at 0x7facd61ff250>, <__main__.InputExample object at 0x7facd61ff310>, <__main__.InputExample object at 0x7facd61ff3d0>, <__main__.InputExample object at 0x7facd61ff490>, <__main__.InputExample object at 0x7facd61ff550>, <__main__.InputExample object at 0x7facd61ff610>, <__main__.InputExample object at 0x7facd61ff6d0>, <__main__.InputExample object at 0x7facd61ff790>, <__main__.InputExample object at 0x7facd61ff850>, <__main__.InputExample object at 0x7facd61ff910>, <__main__.InputExample object at 0x7facd61ff9d0>, <__main__.InputExample object at 0x7facd61ffa90>, <__main__.InputExample object at 0x7facd61ffb50>, <__main__.InputExample object at 0x7facd61ffc10>, <__main__.InputExample object at 0x7facd61ffcd0>, <__main__.InputExample object at 0x7facd61ffd90>, <__main__.InputExample object at 0x7facd61ffe50>, <__main__.InputExample object at 0x7facd61fff10>, <__main__.InputExample object at 0x7facd61fffd0>, <__main__.InputExample object at 0x7facd62010d0>, <__main__.InputExample object at 0x7facd6201190>, <__main__.InputExample object at 0x7facd6201250>, <__main__.InputExample object at 0x7facd6201310>, <__main__.InputExample object at 0x7facd62013d0>, <__main__.InputExample object at 0x7facd6201490>, <__main__.InputExample object at 0x7facd6201550>, <__main__.InputExample object at 0x7facd6201610>, <__main__.InputExample object at 0x7facd62016d0>, <__main__.InputExample object at 0x7facd6201790>, <__main__.InputExample object at 0x7facd6201850>, <__main__.InputExample object at 0x7facd6201910>, <__main__.InputExample object at 0x7facd62019d0>, <__main__.InputExample object at 0x7facd6201a90>, <__main__.InputExample object at 0x7facd6201b50>, <__main__.InputExample object at 0x7facd6201c10>, <__main__.InputExample object at 0x7facd6201cd0>, <__main__.InputExample object at 0x7facd6201d90>, <__main__.InputExample object at 0x7facd6201e50>, <__main__.InputExample object at 0x7facd6201f10>, <__main__.InputExample object at 0x7facd6201fd0>, <__main__.InputExample object at 0x7facd620e0d0>, <__main__.InputExample object at 0x7facd620e190>, <__main__.InputExample object at 0x7facd620e250>, <__main__.InputExample object at 0x7facd620e310>, <__main__.InputExample object at 0x7facd620e3d0>, <__main__.InputExample object at 0x7facd620e490>, <__main__.InputExample object at 0x7facd620e550>, <__main__.InputExample object at 0x7facd620e610>, <__main__.InputExample object at 0x7facd620e6d0>, <__main__.InputExample object at 0x7facd620e790>, <__main__.InputExample object at 0x7facd620e850>, <__main__.InputExample object at 0x7facd620e910>, <__main__.InputExample object at 0x7facd620e9d0>, <__main__.InputExample object at 0x7facd620ea90>, <__main__.InputExample object at 0x7facd620eb50>, <__main__.InputExample object at 0x7facd620ec10>, <__main__.InputExample object at 0x7facd620ecd0>, <__main__.InputExample object at 0x7facd620ed90>, <__main__.InputExample object at 0x7facd620ee50>, <__main__.InputExample object at 0x7facd620ef10>, <__main__.InputExample object at 0x7facd620efd0>, <__main__.InputExample object at 0x7facd62080d0>, <__main__.InputExample object at 0x7facd6208190>, <__main__.InputExample object at 0x7facd6208250>, <__main__.InputExample object at 0x7facd6208310>, <__main__.InputExample object at 0x7facd62083d0>, <__main__.InputExample object at 0x7facd6208490>, <__main__.InputExample object at 0x7facd6208550>, <__main__.InputExample object at 0x7facd6208610>, <__main__.InputExample object at 0x7facd62086d0>, <__main__.InputExample object at 0x7facd6208790>, <__main__.InputExample object at 0x7facd6208850>, <__main__.InputExample object at 0x7facd6208910>, <__main__.InputExample object at 0x7facd62089d0>, <__main__.InputExample object at 0x7facd6208a90>, <__main__.InputExample object at 0x7facd6208b50>, <__main__.InputExample object at 0x7facd6208c10>, <__main__.InputExample object at 0x7facd6208cd0>, <__main__.InputExample object at 0x7facd6208d90>, <__main__.InputExample object at 0x7facd6208e50>, <__main__.InputExample object at 0x7facd6208f10>, <__main__.InputExample object at 0x7facd6208fd0>, <__main__.InputExample object at 0x7facd60b90d0>, <__main__.InputExample object at 0x7facd60b9190>, <__main__.InputExample object at 0x7facd60b9250>, <__main__.InputExample object at 0x7facd60b9310>, <__main__.InputExample object at 0x7facd60b93d0>, <__main__.InputExample object at 0x7facd60b9490>, <__main__.InputExample object at 0x7facd60b9550>, <__main__.InputExample object at 0x7facd60b9610>, <__main__.InputExample object at 0x7facd60b96d0>, <__main__.InputExample object at 0x7facd60b9790>, <__main__.InputExample object at 0x7facd60b9850>, <__main__.InputExample object at 0x7facd60b9910>, <__main__.InputExample object at 0x7facd60b99d0>, <__main__.InputExample object at 0x7facd60b9a90>, <__main__.InputExample object at 0x7facd60b9b50>, <__main__.InputExample object at 0x7facd60b9c10>, <__main__.InputExample object at 0x7facd60b9cd0>, <__main__.InputExample object at 0x7facd60b9d90>, <__main__.InputExample object at 0x7facd60b9e50>, <__main__.InputExample object at 0x7facd60b9f10>, <__main__.InputExample object at 0x7facd60b9fd0>, <__main__.InputExample object at 0x7facd60ba0d0>, <__main__.InputExample object at 0x7facd60ba190>, <__main__.InputExample object at 0x7facd60ba250>, <__main__.InputExample object at 0x7facd60ba310>, <__main__.InputExample object at 0x7facd60ba3d0>, <__main__.InputExample object at 0x7facd60ba490>, <__main__.InputExample object at 0x7facd60ba550>, <__main__.InputExample object at 0x7facd60ba610>, <__main__.InputExample object at 0x7facd60ba6d0>, <__main__.InputExample object at 0x7facd60ba790>, <__main__.InputExample object at 0x7facd60ba850>, <__main__.InputExample object at 0x7facd60ba910>, <__main__.InputExample object at 0x7facd60ba9d0>, <__main__.InputExample object at 0x7facd60baa90>, <__main__.InputExample object at 0x7facd60bab50>, <__main__.InputExample object at 0x7facd60bac10>, <__main__.InputExample object at 0x7facd60bacd0>, <__main__.InputExample object at 0x7facd60bad90>, <__main__.InputExample object at 0x7facd60bae50>, <__main__.InputExample object at 0x7facd60baf10>, <__main__.InputExample object at 0x7facd60bafd0>, <__main__.InputExample object at 0x7facd60bd0d0>, <__main__.InputExample object at 0x7facd60bd190>, <__main__.InputExample object at 0x7facd60bd250>, <__main__.InputExample object at 0x7facd60bd310>, <__main__.InputExample object at 0x7facd60bd3d0>, <__main__.InputExample object at 0x7facd60bd490>, <__main__.InputExample object at 0x7facd60bd550>, <__main__.InputExample object at 0x7facd60bd610>, <__main__.InputExample object at 0x7facd60bd6d0>, <__main__.InputExample object at 0x7facd60bd790>, <__main__.InputExample object at 0x7facd60bd850>]\n",
            "label list ['0', '1']\n",
            "max_seq_length 140\n",
            "tokenizer PreTrainedTokenizer(name_or_path='bert-base-uncased', vocab_size=30522, model_max_len=512, is_fast=False, padding_side='right', truncation_side='right', special_tokens={'unk_token': '[UNK]', 'sep_token': '[SEP]', 'pad_token': '[PAD]', 'cls_token': '[CLS]', 'mask_token': '[MASK]'})\n",
            "Will be converting examples to features.\n"
          ]
        },
        {
          "output_type": "stream",
          "name": "stderr",
          "text": [
            "05/07/2022 19:20:03 - INFO - __main__ -   ***** Running training *****\n",
            "05/07/2022 19:20:03 - INFO - __main__ -     Num examples = 3141\n",
            "05/07/2022 19:20:03 - INFO - __main__ -     Batch size = 32\n",
            "05/07/2022 19:20:03 - INFO - __main__ -     Num steps = 98\n",
            "Epoch: 100%|██████████| 1/1 [00:44<00:00, 44.44s/it]\n"
          ]
        },
        {
          "output_type": "display_data",
          "data": {
            "text/plain": [
              "<Figure size 432x288 with 1 Axes>"
            ],
            "image/png": "[encoded data removed]"
          },
          "metadata": {
            "needs_background": "light"
          }
        }
      ],
      "source": [
        "print(f'train examples {train_examples}')\n",
        "print(f'label list {label_list}')\n",
        "print(f'max_seq_length {max_seq_length}')\n",
        "print(f'tokenizer {tokenizer}')\n",
        "\n",
        "if do_train:\n",
        "    train_features = convert_examples_to_features(train_examples, label_list, max_seq_length, tokenizer)\n",
        "    logger.info(\"***** Running training *****\")\n",
        "    logger.info(\"  Num examples = %d\", len(train_examples))\n",
        "    logger.info(\"  Batch size = %d\", train_batch_size)\n",
        "    logger.info(\"  Num steps = %d\", num_train_steps)\n",
        "\n",
        "    all_input_ids = torch.tensor([f.input_ids for f in train_features], dtype=torch.long)\n",
        "    all_input_mask = torch.tensor([f.input_mask for f in train_features], dtype=torch.long)\n",
        "    all_segment_ids = torch.tensor([f.segment_ids for f in train_features], dtype=torch.long)\n",
        "    all_label_ids = torch.tensor([f.label_id for f in train_features], dtype=torch.long)\n",
        "\n",
        "    train_data = TensorDataset(all_input_ids, all_input_mask, all_segment_ids, all_label_ids)\n",
        "\n",
        "    if local_rank == -1:\n",
        "        train_sampler = RandomSampler(train_data)\n",
        "    else:\n",
        "        train_sampler = DistributedSampler(train_data)\n",
        "\n",
        "    train_dataloader = DataLoader(train_data, sampler=train_sampler, batch_size=train_batch_size)\n",
        "    model.train()\n",
        "\n",
        "    for epo in trange(int(num_train_epochs), desc=\"Epoch\"):\n",
        "        tr_loss = 0\n",
        "        nb_tr_examples, nb_tr_steps = 0, 0\n",
        "\n",
        "        for step, batch in enumerate(train_dataloader):\n",
        "            batch = tuple(t.to(device) for t in batch)\n",
        "            input_ids, input_mask, segment_ids, label_ids = batch\n",
        "            loss, logits = model(input_ids, segment_ids, input_mask, label_ids)\n",
        "\n",
        "            if n_gpu > 1:\n",
        "                loss = loss.mean() # mean() to average on multi-gpu.\n",
        "            if gradient_accumulation_steps > 1:\n",
        "                loss = loss / gradient_accumulation_steps\n",
        "\n",
        "            loss.backward() # this updates the weights, and should help CAMLBERT learn!!!\n",
        "            train_loss_history.append(loss.item())\n",
        "            tr_loss += loss.item()\n",
        "            nb_tr_examples += input_ids.size(0)\n",
        "            nb_tr_steps += 1\n",
        "\n",
        "            if (step + 1) % gradient_accumulation_steps == 0:\n",
        "                model.zero_grad()\n",
        "                global_step += 1\n",
        "\n",
        "            if (step+1) % 200 == 0:\n",
        "                string = 'step '+str(step+1)\n",
        "                print (string)\n",
        "\n",
        "        train_loss = tr_loss\n",
        "        global_step_check = global_step\n",
        "        number_training_steps = nb_tr_steps\n",
        "\n",
        "    string = bert_model_folder + 'new_camlbert_model_state.bin'\n",
        "    torch.save(model.state_dict(), string)\n",
        "\n",
        "    fig1 = plt.figure()\n",
        "    plt.plot(train_loss_history)\n",
        "    fig_path = os.path.join(results_location, 'loss_history.png')\n",
        "    plt.savefig(fig_path , dpi=fig1.dpi)\n"
      ]
    },
    {
      "cell_type": "markdown",
      "metadata": {
        "id": "Bjg66TMmrh9v"
      },
      "source": [
        "max_seq_length is the maximum total input sequence length after WordPiece tokenization. Sequences longer than this will be truncated, and sequences shorter than this will be padded.\n",
        "\n",
        "eval_batch_size is the total batch size for eval."
      ]
    },
    {
      "cell_type": "markdown",
      "source": [
        "### New Model Preds"
      ],
      "metadata": {
        "id": "8-5APk6mK7h9"
      }
    },
    {
      "cell_type": "code",
      "execution_count": 271,
      "metadata": {
        "colab": {
          "base_uri": "https://localhost:8080/"
        },
        "id": "60udHss6rh9w",
        "outputId": "a82ace7b-91b3-423d-a664-2dd817f44016"
      },
      "outputs": [
        {
          "output_type": "execute_result",
          "data": {
            "text/plain": [
              "True"
            ]
          },
          "metadata": {},
          "execution_count": 271
        }
      ],
      "source": [
        "do_eval"
      ]
    },
    {
      "cell_type": "code",
      "execution_count": 277,
      "metadata": {
        "colab": {
          "base_uri": "https://localhost:8080/",
          "height": 1000
        },
        "id": "LWvjlldjrh9w",
        "outputId": "5c2e7b26-be10-4d79-fa89-19d63fe36cc9"
      },
      "outputs": [
        {
          "output_type": "stream",
          "name": "stderr",
          "text": [
            "05/07/2022 19:36:10 - INFO - __main__ -   Retrieving data examples from /content/drive/My Drive/CAMLBERT/caml_data/test.csv\n",
            "05/07/2022 19:36:10 - INFO - __main__ -   *** Example ***\n",
            "05/07/2022 19:36:10 - INFO - __main__ -   guid: test-0\n",
            "05/07/2022 19:36:10 - INFO - __main__ -   tokens: [CLS] lung clear without evidence focal airspace disease evidence p ##ne ##um ##otho ##ra ##x large pl ##eur ##al e ##ff ##usion cardiac media ##sti ##nal con ##tour within normal limit xx ##xx un ##rem ##ark ##able radio ##graphic evidence acute card ##io ##pu ##lm ##ona ##ry disease [SEP]\n",
            "05/07/2022 19:36:10 - INFO - __main__ -   input_ids: 101 11192 3154 2302 3350 15918 29357 4295 3350 1052 2638 2819 29288 2527 2595 2312 20228 11236 2389 1041 4246 14499 15050 2865 16643 12032 9530 21163 2306 3671 5787 22038 20348 4895 28578 17007 3085 2557 14773 3350 11325 4003 3695 14289 13728 7856 2854 4295 102 0 0 0 0 0 0 0 0 0 0 0 0 0 0 0 0 0 0 0 0 0 0 0 0 0 0 0 0 0 0 0 0 0 0 0 0 0 0 0 0 0 0 0 0 0 0 0 0 0 0 0 0 0 0 0 0 0 0 0 0 0 0 0 0 0 0 0 0 0 0 0 0 0 0 0 0 0 0 0 0 0 0 0 0 0 0 0 0 0 0 0\n",
            "05/07/2022 19:36:10 - INFO - __main__ -   input_mask: 1 1 1 1 1 1 1 1 1 1 1 1 1 1 1 1 1 1 1 1 1 1 1 1 1 1 1 1 1 1 1 1 1 1 1 1 1 1 1 1 1 1 1 1 1 1 1 1 1 0 0 0 0 0 0 0 0 0 0 0 0 0 0 0 0 0 0 0 0 0 0 0 0 0 0 0 0 0 0 0 0 0 0 0 0 0 0 0 0 0 0 0 0 0 0 0 0 0 0 0 0 0 0 0 0 0 0 0 0 0 0 0 0 0 0 0 0 0 0 0 0 0 0 0 0 0 0 0 0 0 0 0 0 0 0 0 0 0 0 0\n",
            "05/07/2022 19:36:10 - INFO - __main__ -   segment_ids: 0 0 0 0 0 0 0 0 0 0 0 0 0 0 0 0 0 0 0 0 0 0 0 0 0 0 0 0 0 0 0 0 0 0 0 0 0 0 0 0 0 0 0 0 0 0 0 0 0 0 0 0 0 0 0 0 0 0 0 0 0 0 0 0 0 0 0 0 0 0 0 0 0 0 0 0 0 0 0 0 0 0 0 0 0 0 0 0 0 0 0 0 0 0 0 0 0 0 0 0 0 0 0 0 0 0 0 0 0 0 0 0 0 0 0 0 0 0 0 0 0 0 0 0 0 0 0 0 0 0 0 0 0 0 0 0 0 0 0 0\n",
            "05/07/2022 19:36:10 - INFO - __main__ -   label: 0 (id = 0)\n",
            "05/07/2022 19:36:10 - INFO - __main__ -   *** Example ***\n",
            "05/07/2022 19:36:10 - INFO - __main__ -   guid: test-1\n",
            "05/07/2022 19:36:10 - INFO - __main__ -   tokens: [CLS] interval removal gas ##tric su ##ction tube otherwise line tube unchanged xx ##xx tube also remove p ##ne ##um ##otho ##ra ##x interval decrease ##im ##pro ##ve ##ment pulmonary vascular congestion inter ##sti ##tial ed ##ema residual nod ##ular op ##ac ##ity right low lobe xx ##xx focal consolidation identify heart media ##sti ##num normal large e ##ff ##usion os ##se ##ous structure soft tissue normal interval decrease pulmonary vascular congestion ed ##ema [SEP]\n",
            "05/07/2022 19:36:10 - INFO - __main__ -   input_ids: 101 13483 8208 3806 12412 10514 7542 7270 4728 2240 7270 15704 22038 20348 7270 2036 6366 1052 2638 2819 29288 2527 2595 13483 9885 5714 21572 3726 3672 21908 21449 20176 6970 16643 20925 3968 14545 21961 7293 7934 6728 6305 3012 2157 2659 21833 22038 20348 15918 17439 6709 2540 2865 16643 19172 3671 2312 1041 4246 14499 9808 3366 3560 3252 3730 8153 3671 13483 9885 21908 21449 20176 3968 14545 102 0 0 0 0 0 0 0 0 0 0 0 0 0 0 0 0 0 0 0 0 0 0 0 0 0 0 0 0 0 0 0 0 0 0 0 0 0 0 0 0 0 0 0 0 0 0 0 0 0 0 0 0 0 0 0 0 0 0 0 0 0 0 0 0 0\n",
            "05/07/2022 19:36:10 - INFO - __main__ -   input_mask: 1 1 1 1 1 1 1 1 1 1 1 1 1 1 1 1 1 1 1 1 1 1 1 1 1 1 1 1 1 1 1 1 1 1 1 1 1 1 1 1 1 1 1 1 1 1 1 1 1 1 1 1 1 1 1 1 1 1 1 1 1 1 1 1 1 1 1 1 1 1 1 1 1 1 1 0 0 0 0 0 0 0 0 0 0 0 0 0 0 0 0 0 0 0 0 0 0 0 0 0 0 0 0 0 0 0 0 0 0 0 0 0 0 0 0 0 0 0 0 0 0 0 0 0 0 0 0 0 0 0 0 0 0 0 0 0 0 0 0 0\n",
            "05/07/2022 19:36:10 - INFO - __main__ -   segment_ids: 0 0 0 0 0 0 0 0 0 0 0 0 0 0 0 0 0 0 0 0 0 0 0 0 0 0 0 0 0 0 0 0 0 0 0 0 0 0 0 0 0 0 0 0 0 0 0 0 0 0 0 0 0 0 0 0 0 0 0 0 0 0 0 0 0 0 0 0 0 0 0 0 0 0 0 0 0 0 0 0 0 0 0 0 0 0 0 0 0 0 0 0 0 0 0 0 0 0 0 0 0 0 0 0 0 0 0 0 0 0 0 0 0 0 0 0 0 0 0 0 0 0 0 0 0 0 0 0 0 0 0 0 0 0 0 0 0 0 0 0\n",
            "05/07/2022 19:36:10 - INFO - __main__ -   label: 1 (id = 1)\n",
            "05/07/2022 19:36:10 - INFO - __main__ -   *** Example ***\n",
            "05/07/2022 19:36:10 - INFO - __main__ -   guid: test-2\n",
            "05/07/2022 19:36:10 - INFO - __main__ -   tokens: [CLS] stable slight card ##iom ##ega ##ly stern ##oto ##my lung clear destructive les ##ion rib mass nod ##ule stable res ##ection distal leave cl ##avi ##cle xx ##xx fracture thor ##ac ##ic spine ao ##rti ##c cal ##ci ##fication [SEP]\n",
            "05/07/2022 19:36:10 - INFO - __main__ -   input_ids: 101 6540 7263 4003 18994 29107 2135 8665 11439 8029 11192 3154 15615 4649 3258 19395 3742 7293 9307 6540 24501 18491 29333 2681 18856 18891 14321 22038 20348 19583 15321 6305 2594 8560 20118 28228 2278 10250 6895 10803 102 0 0 0 0 0 0 0 0 0 0 0 0 0 0 0 0 0 0 0 0 0 0 0 0 0 0 0 0 0 0 0 0 0 0 0 0 0 0 0 0 0 0 0 0 0 0 0 0 0 0 0 0 0 0 0 0 0 0 0 0 0 0 0 0 0 0 0 0 0 0 0 0 0 0 0 0 0 0 0 0 0 0 0 0 0 0 0 0 0 0 0 0 0 0 0 0 0 0 0\n",
            "05/07/2022 19:36:10 - INFO - __main__ -   input_mask: 1 1 1 1 1 1 1 1 1 1 1 1 1 1 1 1 1 1 1 1 1 1 1 1 1 1 1 1 1 1 1 1 1 1 1 1 1 1 1 1 1 0 0 0 0 0 0 0 0 0 0 0 0 0 0 0 0 0 0 0 0 0 0 0 0 0 0 0 0 0 0 0 0 0 0 0 0 0 0 0 0 0 0 0 0 0 0 0 0 0 0 0 0 0 0 0 0 0 0 0 0 0 0 0 0 0 0 0 0 0 0 0 0 0 0 0 0 0 0 0 0 0 0 0 0 0 0 0 0 0 0 0 0 0 0 0 0 0 0 0\n",
            "05/07/2022 19:36:10 - INFO - __main__ -   segment_ids: 0 0 0 0 0 0 0 0 0 0 0 0 0 0 0 0 0 0 0 0 0 0 0 0 0 0 0 0 0 0 0 0 0 0 0 0 0 0 0 0 0 0 0 0 0 0 0 0 0 0 0 0 0 0 0 0 0 0 0 0 0 0 0 0 0 0 0 0 0 0 0 0 0 0 0 0 0 0 0 0 0 0 0 0 0 0 0 0 0 0 0 0 0 0 0 0 0 0 0 0 0 0 0 0 0 0 0 0 0 0 0 0 0 0 0 0 0 0 0 0 0 0 0 0 0 0 0 0 0 0 0 0 0 0 0 0 0 0 0 0\n",
            "05/07/2022 19:36:10 - INFO - __main__ -   label: 1 (id = 1)\n",
            "05/07/2022 19:36:10 - INFO - __main__ -   *** Example ***\n",
            "05/07/2022 19:36:10 - INFO - __main__ -   guid: test-3\n",
            "05/07/2022 19:36:10 - INFO - __main__ -   tokens: [CLS] card ##iom ##ed ##ias ##tina ##l silhouette va ##scu ##lat ##ure within normal limit size con ##tour lung normally in ##fl ##ate clear os ##se ##ous structure within normal limit patient age acute radio ##graphic card ##io ##pu ##lm ##ona ##ry process [SEP]\n",
            "05/07/2022 19:36:10 - INFO - __main__ -   input_ids: 101 4003 18994 2098 7951 13770 2140 21776 12436 28817 20051 5397 2306 3671 5787 2946 9530 21163 11192 5373 1999 10258 3686 3154 9808 3366 3560 3252 2306 3671 5787 5776 2287 11325 2557 14773 4003 3695 14289 13728 7856 2854 2832 102 0 0 0 0 0 0 0 0 0 0 0 0 0 0 0 0 0 0 0 0 0 0 0 0 0 0 0 0 0 0 0 0 0 0 0 0 0 0 0 0 0 0 0 0 0 0 0 0 0 0 0 0 0 0 0 0 0 0 0 0 0 0 0 0 0 0 0 0 0 0 0 0 0 0 0 0 0 0 0 0 0 0 0 0 0 0 0 0 0 0 0 0 0 0 0 0\n",
            "05/07/2022 19:36:10 - INFO - __main__ -   input_mask: 1 1 1 1 1 1 1 1 1 1 1 1 1 1 1 1 1 1 1 1 1 1 1 1 1 1 1 1 1 1 1 1 1 1 1 1 1 1 1 1 1 1 1 1 0 0 0 0 0 0 0 0 0 0 0 0 0 0 0 0 0 0 0 0 0 0 0 0 0 0 0 0 0 0 0 0 0 0 0 0 0 0 0 0 0 0 0 0 0 0 0 0 0 0 0 0 0 0 0 0 0 0 0 0 0 0 0 0 0 0 0 0 0 0 0 0 0 0 0 0 0 0 0 0 0 0 0 0 0 0 0 0 0 0 0 0 0 0 0 0\n",
            "05/07/2022 19:36:10 - INFO - __main__ -   segment_ids: 0 0 0 0 0 0 0 0 0 0 0 0 0 0 0 0 0 0 0 0 0 0 0 0 0 0 0 0 0 0 0 0 0 0 0 0 0 0 0 0 0 0 0 0 0 0 0 0 0 0 0 0 0 0 0 0 0 0 0 0 0 0 0 0 0 0 0 0 0 0 0 0 0 0 0 0 0 0 0 0 0 0 0 0 0 0 0 0 0 0 0 0 0 0 0 0 0 0 0 0 0 0 0 0 0 0 0 0 0 0 0 0 0 0 0 0 0 0 0 0 0 0 0 0 0 0 0 0 0 0 0 0 0 0 0 0 0 0 0 0\n",
            "05/07/2022 19:36:10 - INFO - __main__ -   label: 0 (id = 0)\n",
            "05/07/2022 19:36:10 - INFO - __main__ -   *** Example ***\n",
            "05/07/2022 19:36:10 - INFO - __main__ -   guid: test-4\n",
            "05/07/2022 19:36:10 - INFO - __main__ -   tokens: [CLS] mild card ##iom ##ega ##ly unchanged stable superior media ##sti ##nal con ##tour within normal limit bilateral inter ##sti ##tial prominence focal airspace consolidation pl ##eur ##al e ##ff ##usion p ##ne ##um ##otho ##ra ##x acute os ##se ##ous abnormal ##ity mild card ##iom ##ega ##ly inter ##sti ##tial prominence could represent mild inter ##sti ##tial ed ##ema at ##yp ##ical infection chronic inter ##sti ##tial change [SEP]\n",
            "05/07/2022 19:36:10 - INFO - __main__ -   input_ids: 101 10256 4003 18994 29107 2135 15704 6540 6020 2865 16643 12032 9530 21163 2306 3671 5787 17758 6970 16643 20925 12144 15918 29357 17439 20228 11236 2389 1041 4246 14499 1052 2638 2819 29288 2527 2595 11325 9808 3366 3560 19470 3012 10256 4003 18994 29107 2135 6970 16643 20925 12144 2071 5050 10256 6970 16643 20925 3968 14545 2012 22571 7476 8985 11888 6970 16643 20925 2689 102 0 0 0 0 0 0 0 0 0 0 0 0 0 0 0 0 0 0 0 0 0 0 0 0 0 0 0 0 0 0 0 0 0 0 0 0 0 0 0 0 0 0 0 0 0 0 0 0 0 0 0 0 0 0 0 0 0 0 0 0 0 0 0 0 0 0 0 0 0 0\n",
            "05/07/2022 19:36:10 - INFO - __main__ -   input_mask: 1 1 1 1 1 1 1 1 1 1 1 1 1 1 1 1 1 1 1 1 1 1 1 1 1 1 1 1 1 1 1 1 1 1 1 1 1 1 1 1 1 1 1 1 1 1 1 1 1 1 1 1 1 1 1 1 1 1 1 1 1 1 1 1 1 1 1 1 1 1 0 0 0 0 0 0 0 0 0 0 0 0 0 0 0 0 0 0 0 0 0 0 0 0 0 0 0 0 0 0 0 0 0 0 0 0 0 0 0 0 0 0 0 0 0 0 0 0 0 0 0 0 0 0 0 0 0 0 0 0 0 0 0 0 0 0 0 0 0 0\n",
            "05/07/2022 19:36:10 - INFO - __main__ -   segment_ids: 0 0 0 0 0 0 0 0 0 0 0 0 0 0 0 0 0 0 0 0 0 0 0 0 0 0 0 0 0 0 0 0 0 0 0 0 0 0 0 0 0 0 0 0 0 0 0 0 0 0 0 0 0 0 0 0 0 0 0 0 0 0 0 0 0 0 0 0 0 0 0 0 0 0 0 0 0 0 0 0 0 0 0 0 0 0 0 0 0 0 0 0 0 0 0 0 0 0 0 0 0 0 0 0 0 0 0 0 0 0 0 0 0 0 0 0 0 0 0 0 0 0 0 0 0 0 0 0 0 0 0 0 0 0 0 0 0 0 0 0\n",
            "05/07/2022 19:36:10 - INFO - __main__ -   label: 1 (id = 1)\n"
          ]
        },
        {
          "output_type": "stream",
          "name": "stdout",
          "text": [
            "<zip object at 0x7facd6c9acd0>\n",
            "Will be converting examples to features.\n"
          ]
        },
        {
          "output_type": "stream",
          "name": "stderr",
          "text": [
            "05/07/2022 19:36:10 - INFO - __main__ -   ***** Running evaluation *****\n",
            "05/07/2022 19:36:10 - INFO - __main__ -     Num examples = 393\n",
            "05/07/2022 19:36:10 - INFO - __main__ -     Batch size = 32\n"
          ]
        },
        {
          "output_type": "stream",
          "name": "stdout",
          "text": [
            "[<__main__.InputFeatures object at 0x7facd6c7cf50>, <__main__.InputFeatures object at 0x7facc3538b90>, <__main__.InputFeatures object at 0x7facd6c6a690>, <__main__.InputFeatures object at 0x7facc3530350>, <__main__.InputFeatures object at 0x7facd6c7cd10>, <__main__.InputFeatures object at 0x7facd6c6a810>, <__main__.InputFeatures object at 0x7facd6c6a250>, <__main__.InputFeatures object at 0x7facd6c8b6d0>, <__main__.InputFeatures object at 0x7facc3648910>, <__main__.InputFeatures object at 0x7facc3538390>, <__main__.InputFeatures object at 0x7facc3538990>, <__main__.InputFeatures object at 0x7facc3538590>, <__main__.InputFeatures object at 0x7facc35302d0>, <__main__.InputFeatures object at 0x7facc3530e50>, <__main__.InputFeatures object at 0x7facc3530a50>, <__main__.InputFeatures object at 0x7facc35309d0>, <__main__.InputFeatures object at 0x7facc3538210>, <__main__.InputFeatures object at 0x7facc3538e50>, <__main__.InputFeatures object at 0x7facc35380d0>, <__main__.InputFeatures object at 0x7facd6c6a550>, <__main__.InputFeatures object at 0x7facd6c6a050>, <__main__.InputFeatures object at 0x7facd6c6a610>, <__main__.InputFeatures object at 0x7facd6c6ab50>, <__main__.InputFeatures object at 0x7facd6c6a790>, <__main__.InputFeatures object at 0x7facd6c6a910>, <__main__.InputFeatures object at 0x7facd9379410>, <__main__.InputFeatures object at 0x7facd6d5ead0>, <__main__.InputFeatures object at 0x7facd8e32b10>, <__main__.InputFeatures object at 0x7facc37b4ed0>, <__main__.InputFeatures object at 0x7facd79b0050>, <__main__.InputFeatures object at 0x7facd6aebfd0>, <__main__.InputFeatures object at 0x7facd752c7d0>, <__main__.InputFeatures object at 0x7facd7a08dd0>, <__main__.InputFeatures object at 0x7facc35303d0>, <__main__.InputFeatures object at 0x7facc3530d10>, <__main__.InputFeatures object at 0x7facd6c6ae90>, <__main__.InputFeatures object at 0x7facc3538ad0>, <__main__.InputFeatures object at 0x7facc3530490>, <__main__.InputFeatures object at 0x7facc3530410>, <__main__.InputFeatures object at 0x7facc3530f50>, <__main__.InputFeatures object at 0x7facc3530b90>, <__main__.InputFeatures object at 0x7facc3530f90>, <__main__.InputFeatures object at 0x7facc3530250>, <__main__.InputFeatures object at 0x7facc3530810>, <__main__.InputFeatures object at 0x7facc3530e90>, <__main__.InputFeatures object at 0x7facc3327fd0>, <__main__.InputFeatures object at 0x7facc3327ed0>, <__main__.InputFeatures object at 0x7facd93022d0>, <__main__.InputFeatures object at 0x7facc3530890>, <__main__.InputFeatures object at 0x7facc3327f90>, <__main__.InputFeatures object at 0x7facd9302e50>, <__main__.InputFeatures object at 0x7facc3530c10>, <__main__.InputFeatures object at 0x7facc3530550>, <__main__.InputFeatures object at 0x7facc3530bd0>, <__main__.InputFeatures object at 0x7facc35304d0>, <__main__.InputFeatures object at 0x7facc35306d0>, <__main__.InputFeatures object at 0x7facc35301d0>, <__main__.InputFeatures object at 0x7facc3530510>, <__main__.InputFeatures object at 0x7facc3530fd0>, <__main__.InputFeatures object at 0x7facc3530610>, <__main__.InputFeatures object at 0x7facc3538410>, <__main__.InputFeatures object at 0x7facc35305d0>, <__main__.InputFeatures object at 0x7facc3530650>, <__main__.InputFeatures object at 0x7facc3530c50>, <__main__.InputFeatures object at 0x7facc3538090>, <__main__.InputFeatures object at 0x7facc3327d50>, <__main__.InputFeatures object at 0x7facc3327d90>, <__main__.InputFeatures object at 0x7facd6c6a150>, <__main__.InputFeatures object at 0x7facd6c6ad10>, <__main__.InputFeatures object at 0x7facd6c6a190>, <__main__.InputFeatures object at 0x7facd6c6a9d0>, <__main__.InputFeatures object at 0x7facc3530b10>, <__main__.InputFeatures object at 0x7facc3530790>, <__main__.InputFeatures object at 0x7facc3530910>, <__main__.InputFeatures object at 0x7facc3530110>, <__main__.InputFeatures object at 0x7facc3530390>, <__main__.InputFeatures object at 0x7facc3327c90>, <__main__.InputFeatures object at 0x7facd6c6ac10>, <__main__.InputFeatures object at 0x7facd6c6a3d0>, <__main__.InputFeatures object at 0x7facc3327b90>, <__main__.InputFeatures object at 0x7facc3530950>, <__main__.InputFeatures object at 0x7facc3327b50>, <__main__.InputFeatures object at 0x7facc3538790>, <__main__.InputFeatures object at 0x7facd6c6af90>, <__main__.InputFeatures object at 0x7facc3327c50>, <__main__.InputFeatures object at 0x7facc35381d0>, <__main__.InputFeatures object at 0x7facc3306a50>, <__main__.InputFeatures object at 0x7facc3306510>, <__main__.InputFeatures object at 0x7facc3538550>, <__main__.InputFeatures object at 0x7facc35384d0>, <__main__.InputFeatures object at 0x7facc3530c90>, <__main__.InputFeatures object at 0x7facc3538ed0>, <__main__.InputFeatures object at 0x7facc3530190>, <__main__.InputFeatures object at 0x7facc3530b50>, <__main__.InputFeatures object at 0x7facd6c6a350>, <__main__.InputFeatures object at 0x7facc3306a90>, <__main__.InputFeatures object at 0x7facc3530690>, <__main__.InputFeatures object at 0x7facc3530710>, <__main__.InputFeatures object at 0x7facc3530750>, <__main__.InputFeatures object at 0x7facd6c6aa50>, <__main__.InputFeatures object at 0x7facc3538d10>, <__main__.InputFeatures object at 0x7facc3530850>, <__main__.InputFeatures object at 0x7facd6c6a6d0>, <__main__.InputFeatures object at 0x7facd6c6a390>, <__main__.InputFeatures object at 0x7facd6c6a510>, <__main__.InputFeatures object at 0x7facc3538f50>, <__main__.InputFeatures object at 0x7facc35389d0>, <__main__.InputFeatures object at 0x7facd7133790>, <__main__.InputFeatures object at 0x7facd6c6a490>, <__main__.InputFeatures object at 0x7facd7133190>, <__main__.InputFeatures object at 0x7facc3538d90>, <__main__.InputFeatures object at 0x7facc35300d0>, <__main__.InputFeatures object at 0x7facd71337d0>, <__main__.InputFeatures object at 0x7facd7133810>, <__main__.InputFeatures object at 0x7facc3306190>, <__main__.InputFeatures object at 0x7facd6c6a110>, <__main__.InputFeatures object at 0x7facc3306450>, <__main__.InputFeatures object at 0x7facc3538e90>, <__main__.InputFeatures object at 0x7facd6c6a310>, <__main__.InputFeatures object at 0x7facd6c6ad90>, <__main__.InputFeatures object at 0x7facd6c6aa10>, <__main__.InputFeatures object at 0x7facc3530590>, <__main__.InputFeatures object at 0x7facc3538110>, <__main__.InputFeatures object at 0x7facc3538f10>, <__main__.InputFeatures object at 0x7facc3530d50>, <__main__.InputFeatures object at 0x7facc3530450>, <__main__.InputFeatures object at 0x7facc3538a50>, <__main__.InputFeatures object at 0x7facd7133690>, <__main__.InputFeatures object at 0x7facc3538cd0>, <__main__.InputFeatures object at 0x7facc3530990>, <__main__.InputFeatures object at 0x7facd6c6ad50>, <__main__.InputFeatures object at 0x7facd7133290>, <__main__.InputFeatures object at 0x7facd6b706d0>, <__main__.InputFeatures object at 0x7facc3538bd0>, <__main__.InputFeatures object at 0x7facd7133650>, <__main__.InputFeatures object at 0x7facc3306c50>, <__main__.InputFeatures object at 0x7facc33068d0>, <__main__.InputFeatures object at 0x7facd6c7ced0>, <__main__.InputFeatures object at 0x7facd6c6a950>, <__main__.InputFeatures object at 0x7facc3538fd0>, <__main__.InputFeatures object at 0x7facd7133150>, <__main__.InputFeatures object at 0x7facd6b708d0>, <__main__.InputFeatures object at 0x7facd7133550>, <__main__.InputFeatures object at 0x7facc3648b10>, <__main__.InputFeatures object at 0x7facd6b70250>, <__main__.InputFeatures object at 0x7facc3530a90>, <__main__.InputFeatures object at 0x7facd6c6aed0>, <__main__.InputFeatures object at 0x7facd6c94550>, <__main__.InputFeatures object at 0x7facc35307d0>, <__main__.InputFeatures object at 0x7facd7133710>, <__main__.InputFeatures object at 0x7facd7133850>, <__main__.InputFeatures object at 0x7facd6c94290>, <__main__.InputFeatures object at 0x7facd6c7ce90>, <__main__.InputFeatures object at 0x7facd6c94590>, <__main__.InputFeatures object at 0x7facd6c6a4d0>, <__main__.InputFeatures object at 0x7facd6c7cdd0>, <__main__.InputFeatures object at 0x7facd6c7cc10>, <__main__.InputFeatures object at 0x7facd6c94250>, <__main__.InputFeatures object at 0x7facd6c7cd90>, <__main__.InputFeatures object at 0x7facd6c7cf10>, <__main__.InputFeatures object at 0x7facd6c7cfd0>, <__main__.InputFeatures object at 0x7facd6c94650>, <__main__.InputFeatures object at 0x7facd6c6a410>, <__main__.InputFeatures object at 0x7facd6c7cc90>, <__main__.InputFeatures object at 0x7facc3530a10>, <__main__.InputFeatures object at 0x7facd6c7ce10>, <__main__.InputFeatures object at 0x7facd6c7ce50>, <__main__.InputFeatures object at 0x7facd6c6a990>, <__main__.InputFeatures object at 0x7facd6c94150>, <__main__.InputFeatures object at 0x7facd6c94410>, <__main__.InputFeatures object at 0x7facc3530050>, <__main__.InputFeatures object at 0x7facc3530ad0>, <__main__.InputFeatures object at 0x7facd6c94690>, <__main__.InputFeatures object at 0x7facd6c7ccd0>, <__main__.InputFeatures object at 0x7facd6c7cc50>, <__main__.InputFeatures object at 0x7facc3530310>, <__main__.InputFeatures object at 0x7facc3530290>, <__main__.InputFeatures object at 0x7facd7133110>, <__main__.InputFeatures object at 0x7facc3538650>, <__main__.InputFeatures object at 0x7facd6c7cf90>, <__main__.InputFeatures object at 0x7facd6c7cd50>, <__main__.InputFeatures object at 0x7facc3530090>, <__main__.InputFeatures object at 0x7facc3530210>, <__main__.InputFeatures object at 0x7facc3530dd0>, <__main__.InputFeatures object at 0x7facc3530d90>, <__main__.InputFeatures object at 0x7facc3530cd0>, <__main__.InputFeatures object at 0x7facc35308d0>, <__main__.InputFeatures object at 0x7facd6c6a450>, <__main__.InputFeatures object at 0x7facc3530e10>, <__main__.InputFeatures object at 0x7facd6c6a7d0>, <__main__.InputFeatures object at 0x7facc3306d10>, <__main__.InputFeatures object at 0x7facc33067d0>, <__main__.InputFeatures object at 0x7facc3530ed0>, <__main__.InputFeatures object at 0x7facd7133750>, <__main__.InputFeatures object at 0x7facd6c6ab10>, <__main__.InputFeatures object at 0x7facc3530150>, <__main__.InputFeatures object at 0x7facd6c6ac90>, <__main__.InputFeatures object at 0x7facd6c6a650>, <__main__.InputFeatures object at 0x7facc3530f10>, <__main__.InputFeatures object at 0x7facc3306c10>, <__main__.InputFeatures object at 0x7facd7133090>, <__main__.InputFeatures object at 0x7facd6c6af10>, <__main__.InputFeatures object at 0x7facd6c6a5d0>, <__main__.InputFeatures object at 0x7facd71336d0>, <__main__.InputFeatures object at 0x7facd7133890>, <__main__.InputFeatures object at 0x7facd7133310>, <__main__.InputFeatures object at 0x7facd71378d0>, <__main__.InputFeatures object at 0x7facd7137690>, <__main__.InputFeatures object at 0x7facd71333d0>, <__main__.InputFeatures object at 0x7facd7133590>, <__main__.InputFeatures object at 0x7facc3306a10>, <__main__.InputFeatures object at 0x7facd7133050>, <__main__.InputFeatures object at 0x7facd7133490>, <__main__.InputFeatures object at 0x7facd7133390>, <__main__.InputFeatures object at 0x7facd712aed0>, <__main__.InputFeatures object at 0x7facc3306850>, <__main__.InputFeatures object at 0x7facd71330d0>, <__main__.InputFeatures object at 0x7facd6c6a210>, <__main__.InputFeatures object at 0x7facd71331d0>, <__main__.InputFeatures object at 0x7facd7133610>, <__main__.InputFeatures object at 0x7facd71332d0>, <__main__.InputFeatures object at 0x7facd6c6a850>, <__main__.InputFeatures object at 0x7facd6c6afd0>, <__main__.InputFeatures object at 0x7facd7137910>, <__main__.InputFeatures object at 0x7facd6c6ab90>, <__main__.InputFeatures object at 0x7facd7137490>, <__main__.InputFeatures object at 0x7facd6c6a090>, <__main__.InputFeatures object at 0x7facd7137b10>, <__main__.InputFeatures object at 0x7facd6c6a890>, <__main__.InputFeatures object at 0x7facd6c6add0>, <__main__.InputFeatures object at 0x7facd7137710>, <__main__.InputFeatures object at 0x7facd6c6abd0>, <__main__.InputFeatures object at 0x7facd6c6acd0>, <__main__.InputFeatures object at 0x7facd6c6a1d0>, <__main__.InputFeatures object at 0x7facd7137350>, <__main__.InputFeatures object at 0x7facd6c6ae10>, <__main__.InputFeatures object at 0x7facd7137950>, <__main__.InputFeatures object at 0x7facd6c6a590>, <__main__.InputFeatures object at 0x7facd7129650>, <__main__.InputFeatures object at 0x7facd7129410>, <__main__.InputFeatures object at 0x7facd71374d0>, <__main__.InputFeatures object at 0x7facd7137250>, <__main__.InputFeatures object at 0x7facd7137d10>, <__main__.InputFeatures object at 0x7facd7137f50>, <__main__.InputFeatures object at 0x7facd7137f90>, <__main__.InputFeatures object at 0x7facd7137510>, <__main__.InputFeatures object at 0x7facd7137290>, <__main__.InputFeatures object at 0x7facd7129a50>, <__main__.InputFeatures object at 0x7facd715c9d0>, <__main__.InputFeatures object at 0x7facd715c7d0>, <__main__.InputFeatures object at 0x7facd715cc50>, <__main__.InputFeatures object at 0x7facd7137ad0>, <__main__.InputFeatures object at 0x7facd71373d0>, <__main__.InputFeatures object at 0x7facd7137390>, <__main__.InputFeatures object at 0x7facd7137450>, <__main__.InputFeatures object at 0x7facd7137c10>, <__main__.InputFeatures object at 0x7facd7137c50>, <__main__.InputFeatures object at 0x7facd7148fd0>, <__main__.InputFeatures object at 0x7facd7148910>, <__main__.InputFeatures object at 0x7facd71483d0>, <__main__.InputFeatures object at 0x7facd7148d50>, <__main__.InputFeatures object at 0x7facd7137790>, <__main__.InputFeatures object at 0x7facd7137e50>, <__main__.InputFeatures object at 0x7facd7137a10>, <__main__.InputFeatures object at 0x7facd7137850>, <__main__.InputFeatures object at 0x7facd7137750>, <__main__.InputFeatures object at 0x7facd7137210>, <__main__.InputFeatures object at 0x7facd7137cd0>, <__main__.InputFeatures object at 0x7facd7129f50>, <__main__.InputFeatures object at 0x7facd7137410>, <__main__.InputFeatures object at 0x7facd7129950>, <__main__.InputFeatures object at 0x7facd7129310>, <__main__.InputFeatures object at 0x7facd7129d90>, <__main__.InputFeatures object at 0x7facd7148c90>, <__main__.InputFeatures object at 0x7facd7129510>, <__main__.InputFeatures object at 0x7facd7129d50>, <__main__.InputFeatures object at 0x7facd7129210>, <__main__.InputFeatures object at 0x7facd7129850>, <__main__.InputFeatures object at 0x7facd7148510>, <__main__.InputFeatures object at 0x7facd7148550>, <__main__.InputFeatures object at 0x7facd7129710>, <__main__.InputFeatures object at 0x7facd71294d0>, <__main__.InputFeatures object at 0x7facd7129cd0>, <__main__.InputFeatures object at 0x7facd7129990>, <__main__.InputFeatures object at 0x7facd7148850>, <__main__.InputFeatures object at 0x7facd715cad0>, <__main__.InputFeatures object at 0x7facd715c550>, <__main__.InputFeatures object at 0x7facd715c950>, <__main__.InputFeatures object at 0x7facd715c450>, <__main__.InputFeatures object at 0x7facd715c750>, <__main__.InputFeatures object at 0x7facd7129110>, <__main__.InputFeatures object at 0x7facd7129550>, <__main__.InputFeatures object at 0x7facd71293d0>, <__main__.InputFeatures object at 0x7facd7129a90>, <__main__.InputFeatures object at 0x7facd71291d0>, <__main__.InputFeatures object at 0x7facd71296d0>, <__main__.InputFeatures object at 0x7facd7129ed0>, <__main__.InputFeatures object at 0x7facd7129750>, <__main__.InputFeatures object at 0x7facd7129050>, <__main__.InputFeatures object at 0x7facd7129090>, <__main__.InputFeatures object at 0x7facd7129290>, <__main__.InputFeatures object at 0x7facd7129490>, <__main__.InputFeatures object at 0x7facc3539250>, <__main__.InputFeatures object at 0x7facc3539fd0>, <__main__.InputFeatures object at 0x7facc35392d0>, <__main__.InputFeatures object at 0x7facc3539d90>, <__main__.InputFeatures object at 0x7facd7137d90>, <__main__.InputFeatures object at 0x7facc3538c10>, <__main__.InputFeatures object at 0x7facd6f8ad10>, <__main__.InputFeatures object at 0x7facd8e8c950>, <__main__.InputFeatures object at 0x7facd7133450>, <__main__.InputFeatures object at 0x7facd7a014d0>, <__main__.InputFeatures object at 0x7facd71335d0>, <__main__.InputFeatures object at 0x7facd7133350>, <__main__.InputFeatures object at 0x7facd7133410>, <__main__.InputFeatures object at 0x7facd7133210>, <__main__.InputFeatures object at 0x7facd71338d0>, <__main__.InputFeatures object at 0x7facd7137190>, <__main__.InputFeatures object at 0x7facd7133510>, <__main__.InputFeatures object at 0x7facc3538490>, <__main__.InputFeatures object at 0x7facd712ad90>, <__main__.InputFeatures object at 0x7facd712ad50>, <__main__.InputFeatures object at 0x7facd71334d0>, <__main__.InputFeatures object at 0x7facd7133250>, <__main__.InputFeatures object at 0x7facd71299d0>, <__main__.InputFeatures object at 0x7facd71295d0>, <__main__.InputFeatures object at 0x7facc3538810>, <__main__.InputFeatures object at 0x7facd7129450>, <__main__.InputFeatures object at 0x7facd71297d0>, <__main__.InputFeatures object at 0x7facc3538350>, <__main__.InputFeatures object at 0x7facc3538710>, <__main__.InputFeatures object at 0x7facd71298d0>, <__main__.InputFeatures object at 0x7facd7129b90>, <__main__.InputFeatures object at 0x7facd7129b10>, <__main__.InputFeatures object at 0x7facc3538d50>, <__main__.InputFeatures object at 0x7facc3538750>, <__main__.InputFeatures object at 0x7facd7129190>, <__main__.InputFeatures object at 0x7facd7137a50>, <__main__.InputFeatures object at 0x7facd7137590>, <__main__.InputFeatures object at 0x7facd6c6ac50>, <__main__.InputFeatures object at 0x7facd7129b50>, <__main__.InputFeatures object at 0x7facd71292d0>, <__main__.InputFeatures object at 0x7facd7129dd0>, <__main__.InputFeatures object at 0x7facc35383d0>, <__main__.InputFeatures object at 0x7facd6c6ae50>, <__main__.InputFeatures object at 0x7facd7137a90>, <__main__.InputFeatures object at 0x7facd7129890>, <__main__.InputFeatures object at 0x7facc3538850>, <__main__.InputFeatures object at 0x7facd6c6af50>, <__main__.InputFeatures object at 0x7facd6c6a710>, <__main__.InputFeatures object at 0x7facc3538a10>, <__main__.InputFeatures object at 0x7facd7129d10>, <__main__.InputFeatures object at 0x7facd7129250>, <__main__.InputFeatures object at 0x7facd6c6aad0>, <__main__.InputFeatures object at 0x7facc3538690>, <__main__.InputFeatures object at 0x7facd6c6a0d0>, <__main__.InputFeatures object at 0x7facd71377d0>, <__main__.InputFeatures object at 0x7facd7137310>, <__main__.InputFeatures object at 0x7facd7129590>, <__main__.InputFeatures object at 0x7facd6c6aa90>, <__main__.InputFeatures object at 0x7facc35385d0>, <__main__.InputFeatures object at 0x7facd712a110>, <__main__.InputFeatures object at 0x7facc3538c50>, <__main__.InputFeatures object at 0x7facd7137650>, <__main__.InputFeatures object at 0x7facd6c6a8d0>, <__main__.InputFeatures object at 0x7facd6c6a290>, <__main__.InputFeatures object at 0x7facd7129610>, <__main__.InputFeatures object at 0x7facd7137e90>, <__main__.InputFeatures object at 0x7facd7137050>, <__main__.InputFeatures object at 0x7facc33064d0>, <__main__.InputFeatures object at 0x7facd7137150>, <__main__.InputFeatures object at 0x7facd71371d0>, <__main__.InputFeatures object at 0x7facc3306c90>, <__main__.InputFeatures object at 0x7facc3306950>, <__main__.InputFeatures object at 0x7facc3306dd0>, <__main__.InputFeatures object at 0x7facc3306290>, <__main__.InputFeatures object at 0x7facd7137610>, <__main__.InputFeatures object at 0x7facc33062d0>, <__main__.InputFeatures object at 0x7facc3306910>, <__main__.InputFeatures object at 0x7facd71370d0>, <__main__.InputFeatures object at 0x7facd7129f90>, <__main__.InputFeatures object at 0x7facd7129690>, <__main__.InputFeatures object at 0x7facd7129150>, <__main__.InputFeatures object at 0x7facc3538190>, <__main__.InputFeatures object at 0x7facc3306f90>, <__main__.InputFeatures object at 0x7facc3538b50>, <__main__.InputFeatures object at 0x7facc3538dd0>, <__main__.InputFeatures object at 0x7facc35388d0>, <__main__.InputFeatures object at 0x7facc35386d0>, <__main__.InputFeatures object at 0x7facd715c250>, <__main__.InputFeatures object at 0x7facd715c990>, <__main__.InputFeatures object at 0x7facd715ca10>, <__main__.InputFeatures object at 0x7facc3538b10>]\n"
          ]
        },
        {
          "output_type": "stream",
          "name": "stderr",
          "text": [
            "\r  0%|          | 0/13 [00:00<?, ?it/s]"
          ]
        },
        {
          "output_type": "stream",
          "name": "stdout",
          "text": [
            "LOGITS SHAPE: torch.Size([32, 1])\n"
          ]
        },
        {
          "output_type": "stream",
          "name": "stderr",
          "text": [
            "\r  8%|▊         | 1/13 [00:00<00:03,  3.15it/s]"
          ]
        },
        {
          "output_type": "stream",
          "name": "stdout",
          "text": [
            "tensor([[ 0.3252],\n",
            "        [-0.2875],\n",
            "        [-0.3114],\n",
            "        [ 0.1604]], device='cuda:0')\n",
            "NEW LOGITS SHAPE: (32,)\n",
            "SANITY DF LOGITS VS LABELS\n",
            ":      logits  labels\n",
            "0  0.437700       0\n",
            "1  0.580596       1\n",
            "2  0.428623       1\n",
            "3  0.422784       0\n",
            "4  0.540012       1\n",
            "5  0.480686       1\n",
            "6  0.433120       0\n",
            "7  0.514380       1\n",
            "8  0.499826       1\n",
            "9  0.464214       1\n",
            "SANITY OUTPUT DF \n",
            ":     orig outputs  rev_outputs  labels\n",
            "0              0            1       0\n",
            "1              1            0       1\n",
            "2              0            1       1\n",
            "3              0            1       0\n",
            "4              1            0       1\n",
            "5              0            1       1\n",
            "6              0            1       0\n",
            "7              1            0       1\n",
            "8              0            1       1\n",
            "9              0            1       1\n",
            "10             0            1       0\n",
            "11             0            1       0\n",
            "12             0            1       1\n",
            "13             0            1       1\n",
            "14             0            1       1\n",
            "15             0            1       1\n",
            "16             0            1       0\n",
            "17             0            1       0\n",
            "18             0            1       1\n",
            "19             0            1       0\n",
            "true_labels / pred_labels / rev_outputs\n",
            "     true_labels  pred_labels  match  rev_match\n",
            "0             0            0   True      False\n",
            "1             1            1   True      False\n",
            "2             1            0  False       True\n",
            "3             0            0   True      False\n",
            "4             1            1   True      False\n",
            "5             1            0  False       True\n",
            "6             0            0   True      False\n",
            "7             1            1   True      False\n",
            "8             1            0  False       True\n",
            "9             1            0  False       True\n",
            "10            0            0   True      False\n",
            "11            0            0   True      False\n",
            "12            1            0  False       True\n",
            "13            1            0  False       True\n",
            "14            1            0  False       True\n",
            "LOGITS SHAPE: torch.Size([32, 1])\n"
          ]
        },
        {
          "output_type": "stream",
          "name": "stderr",
          "text": [
            "\r 15%|█▌        | 2/13 [00:00<00:03,  3.24it/s]"
          ]
        },
        {
          "output_type": "stream",
          "name": "stdout",
          "text": [
            "tensor([[ 0.0494],\n",
            "        [-0.3148],\n",
            "        [-0.0347],\n",
            "        [-0.1460]], device='cuda:0')\n",
            "NEW LOGITS SHAPE: (32,)\n",
            "SANITY DF LOGITS VS LABELS\n",
            ":      logits  labels\n",
            "0  0.433366       1\n",
            "1  0.512337       1\n",
            "2  0.421937       0\n",
            "3  0.491324       1\n",
            "4  0.463553       1\n",
            "5  0.493410       1\n",
            "6  0.408045       0\n",
            "7  0.421251       0\n",
            "8  0.388426       0\n",
            "9  0.433432       0\n",
            "SANITY OUTPUT DF \n",
            ":     orig outputs  rev_outputs  labels\n",
            "0              0            1       1\n",
            "1              1            0       1\n",
            "2              0            1       0\n",
            "3              0            1       1\n",
            "4              0            1       1\n",
            "5              0            1       1\n",
            "6              0            1       0\n",
            "7              0            1       0\n",
            "8              0            1       0\n",
            "9              0            1       0\n",
            "10             0            1       0\n",
            "11             0            1       1\n",
            "12             1            0       1\n",
            "13             0            1       1\n",
            "14             0            1       0\n",
            "15             1            0       1\n",
            "16             1            0       1\n",
            "17             0            1       1\n",
            "18             0            1       1\n",
            "19             0            1       1\n",
            "true_labels / pred_labels / rev_outputs\n",
            "     true_labels  pred_labels  match  rev_match\n",
            "0             0            0   True      False\n",
            "1             1            1   True      False\n",
            "2             1            0  False       True\n",
            "3             0            0   True      False\n",
            "4             1            1   True      False\n",
            "5             1            0  False       True\n",
            "6             0            0   True      False\n",
            "7             1            1   True      False\n",
            "8             1            0  False       True\n",
            "9             1            0  False       True\n",
            "10            0            0   True      False\n",
            "11            0            0   True      False\n",
            "12            1            0  False       True\n",
            "13            1            0  False       True\n",
            "14            1            0  False       True\n",
            "LOGITS SHAPE: torch.Size([32, 1])\n"
          ]
        },
        {
          "output_type": "stream",
          "name": "stderr",
          "text": [
            "\r 23%|██▎       | 3/13 [00:00<00:03,  3.27it/s]"
          ]
        },
        {
          "output_type": "stream",
          "name": "stdout",
          "text": [
            "tensor([[-0.4539],\n",
            "        [-0.1000],\n",
            "        [-0.2673],\n",
            "        [ 0.7995]], device='cuda:0')\n",
            "NEW LOGITS SHAPE: (32,)\n",
            "SANITY DF LOGITS VS LABELS\n",
            ":      logits  labels\n",
            "0  0.488163       1\n",
            "1  0.388426       0\n",
            "2  0.475013       1\n",
            "3  0.433577       0\n",
            "4  0.689873       1\n",
            "5  0.285209       1\n",
            "6  0.456503       1\n",
            "7  0.542875       1\n",
            "8  0.474849       0\n",
            "9  0.552553       1\n",
            "SANITY OUTPUT DF \n",
            ":     orig outputs  rev_outputs  labels\n",
            "0              0            1       1\n",
            "1              0            1       0\n",
            "2              0            1       1\n",
            "3              0            1       0\n",
            "4              1            0       1\n",
            "5              0            1       1\n",
            "6              0            1       1\n",
            "7              1            0       1\n",
            "8              0            1       0\n",
            "9              1            0       1\n",
            "10             0            1       0\n",
            "11             0            1       1\n",
            "12             0            1       1\n",
            "13             0            1       0\n",
            "14             0            1       0\n",
            "15             0            1       0\n",
            "16             0            1       0\n",
            "17             0            1       1\n",
            "18             0            1       1\n",
            "19             1            0       1\n",
            "true_labels / pred_labels / rev_outputs\n",
            "     true_labels  pred_labels  match  rev_match\n",
            "0             0            0   True      False\n",
            "1             1            1   True      False\n",
            "2             1            0  False       True\n",
            "3             0            0   True      False\n",
            "4             1            1   True      False\n",
            "5             1            0  False       True\n",
            "6             0            0   True      False\n",
            "7             1            1   True      False\n",
            "8             1            0  False       True\n",
            "9             1            0  False       True\n",
            "10            0            0   True      False\n",
            "11            0            0   True      False\n",
            "12            1            0  False       True\n",
            "13            1            0  False       True\n",
            "14            1            0  False       True\n",
            "LOGITS SHAPE: torch.Size([32, 1])\n"
          ]
        },
        {
          "output_type": "stream",
          "name": "stderr",
          "text": [
            "\r 31%|███       | 4/13 [00:01<00:02,  3.28it/s]"
          ]
        },
        {
          "output_type": "stream",
          "name": "stdout",
          "text": [
            "tensor([[-0.2443],\n",
            "        [-0.0642],\n",
            "        [-0.3645],\n",
            "        [-0.2673]], device='cuda:0')\n",
            "NEW LOGITS SHAPE: (32,)\n",
            "SANITY DF LOGITS VS LABELS\n",
            ":      logits  labels\n",
            "0  0.468584       0\n",
            "1  0.439215       0\n",
            "2  0.483955       1\n",
            "3  0.409869       1\n",
            "4  0.433577       0\n",
            "5  0.458472       1\n",
            "6  0.441008       1\n",
            "7  0.471079       0\n",
            "8  0.555680       1\n",
            "9  0.530869       1\n",
            "SANITY OUTPUT DF \n",
            ":     orig outputs  rev_outputs  labels\n",
            "0              0            1       0\n",
            "1              0            1       0\n",
            "2              0            1       1\n",
            "3              0            1       1\n",
            "4              0            1       0\n",
            "5              0            1       1\n",
            "6              0            1       1\n",
            "7              0            1       0\n",
            "8              1            0       1\n",
            "9              1            0       1\n",
            "10             0            1       0\n",
            "11             1            0       1\n",
            "12             0            1       0\n",
            "13             1            0       1\n",
            "14             0            1       1\n",
            "15             0            1       1\n",
            "16             0            1       1\n",
            "17             0            1       1\n",
            "18             0            1       0\n",
            "19             1            0       1\n",
            "true_labels / pred_labels / rev_outputs\n",
            "     true_labels  pred_labels  match  rev_match\n",
            "0             0            0   True      False\n",
            "1             1            1   True      False\n",
            "2             1            0  False       True\n",
            "3             0            0   True      False\n",
            "4             1            1   True      False\n",
            "5             1            0  False       True\n",
            "6             0            0   True      False\n",
            "7             1            1   True      False\n",
            "8             1            0  False       True\n",
            "9             1            0  False       True\n",
            "10            0            0   True      False\n",
            "11            0            0   True      False\n",
            "12            1            0  False       True\n",
            "13            1            0  False       True\n",
            "14            1            0  False       True\n",
            "LOGITS SHAPE: torch.Size([32, 1])\n"
          ]
        },
        {
          "output_type": "stream",
          "name": "stderr",
          "text": [
            "\r 38%|███▊      | 5/13 [00:01<00:02,  3.29it/s]"
          ]
        },
        {
          "output_type": "stream",
          "name": "stdout",
          "text": [
            "tensor([[ 0.2921],\n",
            "        [ 0.3433],\n",
            "        [-0.5489],\n",
            "        [-0.0916]], device='cuda:0')\n",
            "NEW LOGITS SHAPE: (32,)\n",
            "SANITY DF LOGITS VS LABELS\n",
            ":      logits  labels\n",
            "0  0.324076       1\n",
            "1  0.572511       1\n",
            "2  0.584981       1\n",
            "3  0.366117       0\n",
            "4  0.477107       1\n",
            "5  0.347655       1\n",
            "6  0.528785       1\n",
            "7  0.454476       0\n",
            "8  0.443633       0\n",
            "9  0.573079       1\n",
            "SANITY OUTPUT DF \n",
            ":     orig outputs  rev_outputs  labels\n",
            "0              0            1       1\n",
            "1              1            0       1\n",
            "2              1            0       1\n",
            "3              0            1       0\n",
            "4              0            1       1\n",
            "5              0            1       1\n",
            "6              1            0       1\n",
            "7              0            1       0\n",
            "8              0            1       0\n",
            "9              1            0       1\n",
            "10             1            0       1\n",
            "11             0            1       0\n",
            "12             0            1       1\n",
            "13             0            1       0\n",
            "14             1            0       1\n",
            "15             1            0       1\n",
            "16             0            1       1\n",
            "17             0            1       1\n",
            "18             0            1       1\n",
            "19             0            1       0\n",
            "true_labels / pred_labels / rev_outputs\n",
            "     true_labels  pred_labels  match  rev_match\n",
            "0             0            0   True      False\n",
            "1             1            1   True      False\n",
            "2             1            0  False       True\n",
            "3             0            0   True      False\n",
            "4             1            1   True      False\n",
            "5             1            0  False       True\n",
            "6             0            0   True      False\n",
            "7             1            1   True      False\n",
            "8             1            0  False       True\n",
            "9             1            0  False       True\n",
            "10            0            0   True      False\n",
            "11            0            0   True      False\n",
            "12            1            0  False       True\n",
            "13            1            0  False       True\n",
            "14            1            0  False       True\n",
            "LOGITS SHAPE: torch.Size([32, 1])\n"
          ]
        },
        {
          "output_type": "stream",
          "name": "stderr",
          "text": [
            "\r 46%|████▌     | 6/13 [00:01<00:02,  3.30it/s]"
          ]
        },
        {
          "output_type": "stream",
          "name": "stdout",
          "text": [
            "tensor([[ 0.0229],\n",
            "        [ 0.0294],\n",
            "        [-0.2339],\n",
            "        [-0.1403]], device='cuda:0')\n",
            "NEW LOGITS SHAPE: (32,)\n",
            "SANITY DF LOGITS VS LABELS\n",
            ":      logits  labels\n",
            "0  0.465939       1\n",
            "1  0.505714       1\n",
            "2  0.507353       0\n",
            "3  0.441780       1\n",
            "4  0.464984       1\n",
            "5  0.481679       1\n",
            "6  0.406786       1\n",
            "7  0.479716       0\n",
            "8  0.472856       1\n",
            "9  0.439111       0\n",
            "SANITY OUTPUT DF \n",
            ":     orig outputs  rev_outputs  labels\n",
            "0              0            1       1\n",
            "1              1            0       1\n",
            "2              1            0       0\n",
            "3              0            1       1\n",
            "4              0            1       1\n",
            "5              0            1       1\n",
            "6              0            1       1\n",
            "7              0            1       0\n",
            "8              0            1       1\n",
            "9              0            1       0\n",
            "10             0            1       1\n",
            "11             0            1       1\n",
            "12             0            1       0\n",
            "13             0            1       0\n",
            "14             0            1       0\n",
            "15             0            1       0\n",
            "16             0            1       1\n",
            "17             0            1       0\n",
            "18             0            1       0\n",
            "19             1            0       1\n",
            "true_labels / pred_labels / rev_outputs\n",
            "     true_labels  pred_labels  match  rev_match\n",
            "0             0            0   True      False\n",
            "1             1            1   True      False\n",
            "2             1            0  False       True\n",
            "3             0            0   True      False\n",
            "4             1            1   True      False\n",
            "5             1            0  False       True\n",
            "6             0            0   True      False\n",
            "7             1            1   True      False\n",
            "8             1            0  False       True\n",
            "9             1            0  False       True\n",
            "10            0            0   True      False\n",
            "11            0            0   True      False\n",
            "12            1            0  False       True\n",
            "13            1            0  False       True\n",
            "14            1            0  False       True\n",
            "LOGITS SHAPE: torch.Size([32, 1])\n"
          ]
        },
        {
          "output_type": "stream",
          "name": "stderr",
          "text": [
            "\r 54%|█████▍    | 7/13 [00:02<00:01,  3.31it/s]"
          ]
        },
        {
          "output_type": "stream",
          "name": "stdout",
          "text": [
            "tensor([[-0.3406],\n",
            "        [-0.2223],\n",
            "        [ 0.2211],\n",
            "        [-0.0907]], device='cuda:0')\n",
            "NEW LOGITS SHAPE: (32,)\n",
            "SANITY DF LOGITS VS LABELS\n",
            ":      logits  labels\n",
            "0  0.481757       1\n",
            "1  0.415666       1\n",
            "2  0.444648       1\n",
            "3  0.555041       1\n",
            "4  0.477353       1\n",
            "5  0.460396       0\n",
            "6  0.503377       1\n",
            "7  0.457783       0\n",
            "8  0.478938       0\n",
            "9  0.531128       1\n",
            "SANITY OUTPUT DF \n",
            ":     orig outputs  rev_outputs  labels\n",
            "0              0            1       1\n",
            "1              0            1       1\n",
            "2              0            1       1\n",
            "3              1            0       1\n",
            "4              0            1       1\n",
            "5              0            1       0\n",
            "6              1            0       1\n",
            "7              0            1       0\n",
            "8              0            1       0\n",
            "9              1            0       1\n",
            "10             0            1       0\n",
            "11             0            1       0\n",
            "12             1            0       1\n",
            "13             0            1       0\n",
            "14             0            1       1\n",
            "15             0            1       1\n",
            "16             0            1       1\n",
            "17             0            1       1\n",
            "18             0            1       0\n",
            "19             0            1       0\n",
            "true_labels / pred_labels / rev_outputs\n",
            "     true_labels  pred_labels  match  rev_match\n",
            "0             0            0   True      False\n",
            "1             1            1   True      False\n",
            "2             1            0  False       True\n",
            "3             0            0   True      False\n",
            "4             1            1   True      False\n",
            "5             1            0  False       True\n",
            "6             0            0   True      False\n",
            "7             1            1   True      False\n",
            "8             1            0  False       True\n",
            "9             1            0  False       True\n",
            "10            0            0   True      False\n",
            "11            0            0   True      False\n",
            "12            1            0  False       True\n",
            "13            1            0  False       True\n",
            "14            1            0  False       True\n",
            "LOGITS SHAPE: torch.Size([32, 1])\n"
          ]
        },
        {
          "output_type": "stream",
          "name": "stderr",
          "text": [
            "\r 62%|██████▏   | 8/13 [00:02<00:01,  3.31it/s]"
          ]
        },
        {
          "output_type": "stream",
          "name": "stdout",
          "text": [
            "tensor([[-0.0870],\n",
            "        [ 0.0828],\n",
            "        [ 0.1284],\n",
            "        [-0.1194]], device='cuda:0')\n",
            "NEW LOGITS SHAPE: (32,)\n",
            "SANITY DF LOGITS VS LABELS\n",
            ":      logits  labels\n",
            "0  0.570775       1\n",
            "1  0.478260       1\n",
            "2  0.520697       1\n",
            "3  0.532056       1\n",
            "4  0.470174       1\n",
            "5  0.486258       1\n",
            "6  0.600902       1\n",
            "7  0.487409       1\n",
            "8  0.426333       0\n",
            "9  0.519673       1\n",
            "SANITY OUTPUT DF \n",
            ":     orig outputs  rev_outputs  labels\n",
            "0              1            0       1\n",
            "1              0            1       1\n",
            "2              1            0       1\n",
            "3              1            0       1\n",
            "4              0            1       1\n",
            "5              0            1       1\n",
            "6              1            0       1\n",
            "7              0            1       1\n",
            "8              0            1       0\n",
            "9              1            0       1\n",
            "10             0            1       1\n",
            "11             0            1       1\n",
            "12             0            1       0\n",
            "13             0            1       0\n",
            "14             1            0       1\n",
            "15             0            1       1\n",
            "16             1            0       1\n",
            "17             0            1       0\n",
            "18             1            0       1\n",
            "19             0            1       0\n",
            "true_labels / pred_labels / rev_outputs\n",
            "     true_labels  pred_labels  match  rev_match\n",
            "0             0            0   True      False\n",
            "1             1            1   True      False\n",
            "2             1            0  False       True\n",
            "3             0            0   True      False\n",
            "4             1            1   True      False\n",
            "5             1            0  False       True\n",
            "6             0            0   True      False\n",
            "7             1            1   True      False\n",
            "8             1            0  False       True\n",
            "9             1            0  False       True\n",
            "10            0            0   True      False\n",
            "11            0            0   True      False\n",
            "12            1            0  False       True\n",
            "13            1            0  False       True\n",
            "14            1            0  False       True\n",
            "LOGITS SHAPE: torch.Size([32, 1])\n"
          ]
        },
        {
          "output_type": "stream",
          "name": "stderr",
          "text": [
            "\r 69%|██████▉   | 9/13 [00:02<00:01,  3.32it/s]"
          ]
        },
        {
          "output_type": "stream",
          "name": "stdout",
          "text": [
            "tensor([[-0.0280],\n",
            "        [ 0.0553],\n",
            "        [-0.3721],\n",
            "        [-0.2590]], device='cuda:0')\n",
            "NEW LOGITS SHAPE: (32,)\n",
            "SANITY DF LOGITS VS LABELS\n",
            ":      logits  labels\n",
            "0  0.408045       0\n",
            "1  0.493000       1\n",
            "2  0.513817       1\n",
            "3  0.408045       0\n",
            "4  0.435597       1\n",
            "5  0.529143       1\n",
            "6  0.467297       1\n",
            "7  0.439111       0\n",
            "8  0.412080       0\n",
            "9  0.486595       1\n",
            "SANITY OUTPUT DF \n",
            ":     orig outputs  rev_outputs  labels\n",
            "0              0            1       0\n",
            "1              0            1       1\n",
            "2              1            0       1\n",
            "3              0            1       0\n",
            "4              0            1       1\n",
            "5              1            0       1\n",
            "6              0            1       1\n",
            "7              0            1       0\n",
            "8              0            1       0\n",
            "9              0            1       1\n",
            "10             0            1       0\n",
            "11             0            1       0\n",
            "12             0            1       0\n",
            "13             0            1       1\n",
            "14             0            1       0\n",
            "15             0            1       0\n",
            "16             0            1       0\n",
            "17             0            1       0\n",
            "18             0            1       0\n",
            "19             1            0       1\n",
            "true_labels / pred_labels / rev_outputs\n",
            "     true_labels  pred_labels  match  rev_match\n",
            "0             0            0   True      False\n",
            "1             1            1   True      False\n",
            "2             1            0  False       True\n",
            "3             0            0   True      False\n",
            "4             1            1   True      False\n",
            "5             1            0  False       True\n",
            "6             0            0   True      False\n",
            "7             1            1   True      False\n",
            "8             1            0  False       True\n",
            "9             1            0  False       True\n",
            "10            0            0   True      False\n",
            "11            0            0   True      False\n",
            "12            1            0  False       True\n",
            "13            1            0  False       True\n",
            "14            1            0  False       True\n",
            "LOGITS SHAPE: torch.Size([32, 1])\n"
          ]
        },
        {
          "output_type": "stream",
          "name": "stderr",
          "text": [
            "\r 77%|███████▋  | 10/13 [00:03<00:00,  3.31it/s]"
          ]
        },
        {
          "output_type": "stream",
          "name": "stdout",
          "text": [
            "tensor([[-0.0517],\n",
            "        [-0.3148],\n",
            "        [ 0.1166],\n",
            "        [ 0.2373]], device='cuda:0')\n",
            "NEW LOGITS SHAPE: (32,)\n",
            "SANITY DF LOGITS VS LABELS\n",
            ":      logits  labels\n",
            "0  0.453930       0\n",
            "1  0.487081       1\n",
            "2  0.421937       0\n",
            "3  0.529114       1\n",
            "4  0.559054       1\n",
            "5  0.433577       0\n",
            "6  0.488305       1\n",
            "7  0.415786       0\n",
            "8  0.431839       1\n",
            "9  0.367905       0\n",
            "SANITY OUTPUT DF \n",
            ":     orig outputs  rev_outputs  labels\n",
            "0              0            1       0\n",
            "1              0            1       1\n",
            "2              0            1       0\n",
            "3              1            0       1\n",
            "4              1            0       1\n",
            "5              0            1       0\n",
            "6              0            1       1\n",
            "7              0            1       0\n",
            "8              0            1       1\n",
            "9              0            1       0\n",
            "10             0            1       0\n",
            "11             1            0       1\n",
            "12             0            1       1\n",
            "13             0            1       1\n",
            "14             0            1       0\n",
            "15             1            0       1\n",
            "16             0            1       0\n",
            "17             1            0       1\n",
            "18             0            1       1\n",
            "19             0            1       1\n",
            "true_labels / pred_labels / rev_outputs\n",
            "     true_labels  pred_labels  match  rev_match\n",
            "0             0            0   True      False\n",
            "1             1            1   True      False\n",
            "2             1            0  False       True\n",
            "3             0            0   True      False\n",
            "4             1            1   True      False\n",
            "5             1            0  False       True\n",
            "6             0            0   True      False\n",
            "7             1            1   True      False\n",
            "8             1            0  False       True\n",
            "9             1            0  False       True\n",
            "10            0            0   True      False\n",
            "11            0            0   True      False\n",
            "12            1            0  False       True\n",
            "13            1            0  False       True\n",
            "14            1            0  False       True\n",
            "LOGITS SHAPE: torch.Size([32, 1])\n"
          ]
        },
        {
          "output_type": "stream",
          "name": "stderr",
          "text": [
            "\r 85%|████████▍ | 11/13 [00:03<00:00,  3.31it/s]"
          ]
        },
        {
          "output_type": "stream",
          "name": "stdout",
          "text": [
            "tensor([[ 0.2605],\n",
            "        [-0.5329],\n",
            "        [-0.2384],\n",
            "        [-0.3341]], device='cuda:0')\n",
            "NEW LOGITS SHAPE: (32,)\n",
            "SANITY DF LOGITS VS LABELS\n",
            ":      logits  labels\n",
            "0  0.501514       1\n",
            "1  0.564748       1\n",
            "2  0.369835       1\n",
            "3  0.440676       1\n",
            "4  0.417251       0\n",
            "5  0.454839       1\n",
            "6  0.497591       0\n",
            "7  0.422269       0\n",
            "8  0.416076       1\n",
            "9  0.470077       0\n",
            "SANITY OUTPUT DF \n",
            ":     orig outputs  rev_outputs  labels\n",
            "0              1            0       1\n",
            "1              1            0       1\n",
            "2              0            1       1\n",
            "3              0            1       1\n",
            "4              0            1       0\n",
            "5              0            1       1\n",
            "6              0            1       0\n",
            "7              0            1       0\n",
            "8              0            1       1\n",
            "9              0            1       0\n",
            "10             0            1       1\n",
            "11             0            1       0\n",
            "12             0            1       0\n",
            "13             0            1       1\n",
            "14             1            0       1\n",
            "15             0            1       0\n",
            "16             1            0       1\n",
            "17             0            1       0\n",
            "18             0            1       0\n",
            "19             0            1       0\n",
            "true_labels / pred_labels / rev_outputs\n",
            "     true_labels  pred_labels  match  rev_match\n",
            "0             0            0   True      False\n",
            "1             1            1   True      False\n",
            "2             1            0  False       True\n",
            "3             0            0   True      False\n",
            "4             1            1   True      False\n",
            "5             1            0  False       True\n",
            "6             0            0   True      False\n",
            "7             1            1   True      False\n",
            "8             1            0  False       True\n",
            "9             1            0  False       True\n",
            "10            0            0   True      False\n",
            "11            0            0   True      False\n",
            "12            1            0  False       True\n",
            "13            1            0  False       True\n",
            "14            1            0  False       True\n",
            "LOGITS SHAPE: torch.Size([32, 1])\n"
          ]
        },
        {
          "output_type": "stream",
          "name": "stderr",
          "text": [
            "100%|██████████| 13/13 [00:03<00:00,  3.47it/s]"
          ]
        },
        {
          "output_type": "stream",
          "name": "stdout",
          "text": [
            "tensor([[-0.1019],\n",
            "        [ 0.0383],\n",
            "        [-0.1449],\n",
            "        [-0.1481]], device='cuda:0')\n",
            "NEW LOGITS SHAPE: (32,)\n",
            "SANITY DF LOGITS VS LABELS\n",
            ":      logits  labels\n",
            "0  0.468584       0\n",
            "1  0.474537       1\n",
            "2  0.509582       1\n",
            "3  0.463834       1\n",
            "4  0.463035       1\n",
            "5  0.453749       0\n",
            "6  0.400813       1\n",
            "7  0.446649       0\n",
            "8  0.546216       1\n",
            "9  0.491903       1\n",
            "SANITY OUTPUT DF \n",
            ":     orig outputs  rev_outputs  labels\n",
            "0              0            1       0\n",
            "1              0            1       1\n",
            "2              1            0       1\n",
            "3              0            1       1\n",
            "4              0            1       1\n",
            "5              0            1       0\n",
            "6              0            1       1\n",
            "7              0            1       0\n",
            "8              1            0       1\n",
            "9              0            1       1\n",
            "10             1            0       1\n",
            "11             1            0       1\n",
            "12             0            1       0\n",
            "13             0            1       0\n",
            "14             1            0       1\n",
            "15             0            1       0\n",
            "16             0            1       0\n",
            "17             0            1       1\n",
            "18             0            1       1\n",
            "19             0            1       0\n",
            "true_labels / pred_labels / rev_outputs\n",
            "     true_labels  pred_labels  match  rev_match\n",
            "0             0            0   True      False\n",
            "1             1            1   True      False\n",
            "2             1            0  False       True\n",
            "3             0            0   True      False\n",
            "4             1            1   True      False\n",
            "5             1            0  False       True\n",
            "6             0            0   True      False\n",
            "7             1            1   True      False\n",
            "8             1            0  False       True\n",
            "9             1            0  False       True\n",
            "10            0            0   True      False\n",
            "11            0            0   True      False\n",
            "12            1            0  False       True\n",
            "13            1            0  False       True\n",
            "14            1            0  False       True\n",
            "LOGITS SHAPE: torch.Size([9, 1])\n",
            "tensor([[ 0.0677],\n",
            "        [-0.3348],\n",
            "        [-0.0366],\n",
            "        [-0.2551]], device='cuda:0')\n",
            "NEW LOGITS SHAPE: (9,)\n",
            "SANITY DF LOGITS VS LABELS\n",
            ":      logits  labels\n",
            "0  0.529829       1\n",
            "1  0.516918       1\n",
            "2  0.417063       1\n",
            "3  0.490839       0\n",
            "4  0.436575       0\n",
            "5  0.417251       0\n",
            "6  0.536316       0\n",
            "7  0.458486       0\n",
            "8  0.477079       1\n",
            "SANITY OUTPUT DF \n",
            ":    orig outputs  rev_outputs  labels\n",
            "0             1            0       1\n",
            "1             1            0       1\n",
            "2             0            1       1\n",
            "3             0            1       0\n",
            "4             0            1       0\n",
            "5             0            1       0\n",
            "6             1            0       0\n",
            "7             0            1       0\n",
            "8             0            1       1\n",
            "true_labels / pred_labels / rev_outputs\n",
            "     true_labels  pred_labels  match  rev_match\n",
            "0             0            0   True      False\n",
            "1             1            1   True      False\n",
            "2             1            0  False       True\n",
            "3             0            0   True      False\n",
            "4             1            1   True      False\n",
            "5             1            0  False       True\n",
            "6             0            0   True      False\n",
            "7             1            1   True      False\n",
            "8             1            0  False       True\n",
            "9             1            0  False       True\n",
            "10            0            0   True      False\n",
            "11            0            0   True      False\n",
            "12            1            0  False       True\n",
            "13            1            0  False       True\n",
            "14            1            0  False       True\n",
            "\n",
            "DF TEST\n",
            "     ID                                               TEXT  LABEL\n",
            "0  3681  lung clear without evidence focal airspace dis...      0\n",
            "1   665  interval removal gastric suction tube otherwis...      1\n",
            "2  1264  stable slight cardiomegaly sternotomy lung cle...      1\n",
            "3  3913  cardiomediastinal silhouette vasculature withi...      0\n",
            "4  2546  mild cardiomegaly unchanged stable superior me...      1\n",
            "LOGITS HISTORY\n",
            "[0.4376995265483856, 0.5805957913398743, 0.42862290143966675, 0.4227840006351471, 0.5400118827819824, 0.4806864857673645, 0.43312036991119385, 0.5143797397613525, 0.49982649087905884, 0.46421435475349426, 0.4514678120613098, 0.46823301911354065, 0.49518242478370667, 0.4662620425224304, 0.4877038598060608, 0.4937198758125305, 0.43458300828933716, 0.4655628800392151, 0.4578552544116974, 0.444627046585083, 0.42193713784217834, 0.4391109049320221, 0.4496510326862335, 0.4764207601547241, 0.34418490529060364, 0.46082228422164917, 0.43093666434288025, 0.2827128767967224, 0.4301396310329437, 0.4256516396999359, 0.4528336822986603, 0.5496876835823059, 0.4333663284778595, 0.5123368501663208, 0.42193713784217834, 0.4913240969181061, 0.4635530412197113, 0.49341002106666565, 0.40804535150527954, 0.421251118183136, 0.3884260654449463, 0.43343207240104675, 0.44314709305763245, 0.4725477993488312, 0.5041972398757935, 0.46822476387023926, 0.456954687833786, 0.5402750968933105, 0.5696271657943726, 0.4457763135433197, 0.49016836285591125, 0.4377857446670532, 0.5420358777046204, 0.4265669882297516, 0.4409387707710266, 0.465103417634964, 0.5436230301856995, 0.4603272080421448, 0.48564082384109497, 0.48724427819252014, 0.48228007555007935, 0.5098205208778381, 0.40804535150527954, 0.468825101852417, 0.48816320300102234, 0.3884260654449463, 0.47501349449157715, 0.43357741832733154, 0.6898731589317322, 0.285209059715271, 0.45650261640548706, 0.5428746342658997, 0.4748487174510956, 0.5525533556938171, 0.4496510326862335, 0.4947938323020935, 0.4836401045322418, 0.48730766773223877, 0.4584856331348419, 0.4584856331348419, 0.4110046327114105, 0.4695380926132202, 0.476884663105011, 0.5215461850166321, 0.5952706933021545, 0.5505294799804688, 0.5161738395690918, 0.4709824323654175, 0.44767653942108154, 0.4592732787132263, 0.4369434416294098, 0.431606262922287, 0.42193713784217834, 0.4040735960006714, 0.4391109049320221, 0.5634371042251587, 0.46858444809913635, 0.4392147362232208, 0.4839549660682678, 0.4098692238330841, 0.43357741832733154, 0.45847246050834656, 0.4410078525543213, 0.4710785150527954, 0.5556796193122864, 0.5308688879013062, 0.46720147132873535, 0.5575674772262573, 0.48564082384109497, 0.5042003989219666, 0.44283372163772583, 0.4216487407684326, 0.4621029198169708, 0.46786749362945557, 0.3576415181159973, 0.560141921043396, 0.47488635778427124, 0.4733563959598541, 0.5011307597160339, 0.41413992643356323, 0.4584856331348419, 0.46082228422164917, 0.497208833694458, 0.4312226176261902, 0.5047858953475952, 0.4610213041305542, 0.47569146752357483, 0.5184739232063293, 0.3240763247013092, 0.5725113749504089, 0.5849813222885132, 0.36611682176589966, 0.4771072268486023, 0.34765496850013733, 0.5287846922874451, 0.45447584986686707, 0.44363269209861755, 0.5730794668197632, 0.505815327167511, 0.4115374684333801, 0.49669933319091797, 0.46826282143592834, 0.5038652420043945, 0.5078440308570862, 0.48259416222572327, 0.3473639190196991, 0.3913228511810303, 0.4110046327114105, 0.551508903503418, 0.48564082384109497, 0.46530359983444214, 0.5363318920135498, 0.5341709852218628, 0.4423081576824188, 0.3739277124404907, 0.6389856934547424, 0.46288001537323, 0.44378942251205444, 0.5913758873939514, 0.4595416784286499, 0.46593883633613586, 0.5057141780853271, 0.5073530077934265, 0.441780149936676, 0.46498358249664307, 0.48167940974235535, 0.4067864716053009, 0.4797157943248749, 0.47285598516464233, 0.4391109049320221, 0.4787924289703369, 0.4992530643939972, 0.44717082381248474, 0.3324444890022278, 0.4496510326862335, 0.4815460443496704, 0.4533642530441284, 0.43357741832733154, 0.48837530612945557, 0.5209655165672302, 0.5098501443862915, 0.45854651927948, 0.49340155720710754, 0.46823301911354065, 0.5073530077934265, 0.4553668200969696, 0.49107441306114197, 0.5224596261978149, 0.388668954372406, 0.5306636691093445, 0.4444085955619812, 0.45805996656417847, 0.4817565977573395, 0.41566580533981323, 0.44464826583862305, 0.5550413727760315, 0.4773527681827545, 0.4603963792324066, 0.5033766627311707, 0.4577831029891968, 0.47893786430358887, 0.5311278700828552, 0.4752025604248047, 0.44287553429603577, 0.5484674572944641, 0.46815064549446106, 0.45220744609832764, 0.43262001872062683, 0.4386558532714844, 0.4321683943271637, 0.42193713784217834, 0.46823301911354065, 0.5025480389595032, 0.4764207601547241, 0.4586189389228821, 0.5162167549133301, 0.4346393942832947, 0.5138682126998901, 0.4495139420032501, 0.4679335355758667, 0.4732086658477783, 0.4075137972831726, 0.48730766773223877, 0.4863613545894623, 0.5707746744155884, 0.47826018929481506, 0.5206966400146484, 0.5320555567741394, 0.4701739251613617, 0.48625823855400085, 0.6009016036987305, 0.4874086380004883, 0.4263328015804291, 0.519672691822052, 0.4467727243900299, 0.46869155764579773, 0.45058202743530273, 0.41725122928619385, 0.5668268203735352, 0.4551330506801605, 0.5269849896430969, 0.45491164922714233, 0.524619996547699, 0.4573075473308563, 0.5093847513198853, 0.40457683801651, 0.4491131901741028, 0.5259514451026917, 0.4421466588973999, 0.4110046327114105, 0.5180153250694275, 0.4943225383758545, 0.4573075473308563, 0.4916028082370758, 0.531514585018158, 0.4227840006351471, 0.40804535150527954, 0.49299952387809753, 0.5138170123100281, 0.40804535150527954, 0.43559741973876953, 0.5291431546211243, 0.4672967195510864, 0.4391109049320221, 0.4120800495147705, 0.4865954518318176, 0.43554428219795227, 0.4497697055339813, 0.44990092515945435, 0.458926796913147, 0.4278353154659271, 0.40804535150527954, 0.3884260654449463, 0.4537492096424103, 0.45670372247695923, 0.5549640655517578, 0.4784137010574341, 0.488404780626297, 0.45712772011756897, 0.46823301911354065, 0.46823301911354065, 0.43459129333496094, 0.5739363431930542, 0.4881783127784729, 0.6147328615188599, 0.4697665572166443, 0.4882449209690094, 0.3884260654449463, 0.45393043756484985, 0.4870810806751251, 0.42193713784217834, 0.5291138291358948, 0.5590537190437317, 0.43357741832733154, 0.4883049428462982, 0.41578570008277893, 0.4318387806415558, 0.3679046928882599, 0.45005589723587036, 0.5184697508811951, 0.4585275650024414, 0.4694685637950897, 0.41761714220046997, 0.5523097515106201, 0.4110046327114105, 0.5284378528594971, 0.43770334124565125, 0.45119965076446533, 0.4584856331348419, 0.48649996519088745, 0.40200817584991455, 0.49951857328414917, 0.45360034704208374, 0.40903645753860474, 0.42555922269821167, 0.3679046928882599, 0.4128858149051666, 0.4754904508590698, 0.46858444809913635, 0.538365364074707, 0.5015143752098083, 0.56474769115448, 0.3698350191116333, 0.4406757354736328, 0.41725122928619385, 0.4548386335372925, 0.49759140610694885, 0.4222686290740967, 0.41607606410980225, 0.47007694840431213, 0.4783506691455841, 0.3884260654449463, 0.3884260654449463, 0.42802339792251587, 0.500415027141571, 0.4579053521156311, 0.5422284603118896, 0.4076373279094696, 0.4167502820491791, 0.4709824323654175, 0.4577831029891968, 0.4709824323654175, 0.45491164922714233, 0.4677104651927948, 0.5133579969406128, 0.4275994300842285, 0.4391109049320221, 0.5144970417022705, 0.5080352425575256, 0.4837755560874939, 0.4450703561306, 0.4997546672821045, 0.46858444809913635, 0.4745365083217621, 0.5095821619033813, 0.46383410692214966, 0.46303537487983704, 0.4537492096424103, 0.40081310272216797, 0.44664883613586426, 0.5462157726287842, 0.4919029474258423, 0.7575234174728394, 0.7295750975608826, 0.48168933391571045, 0.4391109049320221, 0.5038076639175415, 0.46823301911354065, 0.4584856331348419, 0.4491720199584961, 0.4794318675994873, 0.4573075473308563, 0.45106542110443115, 0.46894875168800354, 0.4800563156604767, 0.5243980884552002, 0.49375447630882263, 0.4865683615207672, 0.39247849583625793, 0.4715392589569092, 0.4663088917732239, 0.4209936857223511, 0.4455209970474243, 0.5760639309883118, 0.5298293232917786, 0.5169176459312439, 0.417063444852829, 0.4908389151096344, 0.4365746080875397, 0.41725125908851624, 0.5363162755966187, 0.4584857225418091, 0.4770791232585907]\n",
            "INCOMING DF\n",
            "      ID                                               TEXT  LABEL\n",
            "0  3681  lung clear without evidence focal airspace dis...      0\n",
            "1   665  interval removal gastric suction tube otherwis...      1\n",
            "2  1264  stable slight cardiomegaly sternotomy lung cle...      1\n",
            "3  3913  cardiomediastinal silhouette vasculature withi...      0\n",
            "4  2546  mild cardiomegaly unchanged stable superior me...      1\n",
            "IN VOTE SCORE\n",
            "      ID                                               TEXT  LABEL  pred_score\n",
            "0  3681  lung clear without evidence focal airspace dis...      0    0.437700\n",
            "1   665  interval removal gastric suction tube otherwis...      1    0.580596\n",
            "2  1264  stable slight cardiomegaly sternotomy lung cle...      1    0.428623\n",
            "3  3913  cardiomediastinal silhouette vasculature withi...      0    0.422784\n",
            "4  2546  mild cardiomegaly unchanged stable superior me...      1    0.540012\n",
            "GROUP BY LABEL PRODUCING X [1 0 1 1 0 0 0 0 1 1 1 0 0 0 1 1 1 0 1 0 1 1 1 0 1 0 0 1 0 0 1 0 1 1 1 1 1\n",
            " 1 1 1 1 0 1 1 1 1 1 0 1 1 0 1 0 0 1 1 1 0 1 1 1 0 1 1 0 1 1 0 0 1 0 1 1 1\n",
            " 0 0 1 1 0 0 1 1 0 0 0 0 1 0 1 1 0 1 1 1 1 1 0 0 0 1 1 1 1 1 1 0 1 0 1 1 1\n",
            " 1 1 0 0 1 0 1 1 0 0 1 1 1 1 1 0 0 0 1 1 1 1 0 1 1 0 1 1 0 1 1 0 1 1 1 0 1\n",
            " 1 1 0 0 1 0 0 0 0 1 0 1 1 0 1 0 1 1 0 1 1 0 1 1 1 0 1 1 0 1 0 0 0 1 0 1 1\n",
            " 1 1 0 1 1 1 1 0 1 1 1 0 0 1 1 0 1 0 0 1 0 0 1 0 1 1 0 0 1 1 1 1 0 1 1 1 1\n",
            " 0 0 1 0 1 1 1 0 1 0 1 0 0 1 1 1 1 1 1 1 0 1 1 1 1 1 0 1 1 1 0 1 1 1 1 1 1\n",
            " 1 1 0 1 1 0 1 1 0 0 0 1 0 1 0 1 1 1 0 1 0 0 0 1 1 1 1 1 1 1 1 1 0 1 0 0 0\n",
            " 1 1 1 1 1 0 1 1 0 0 1 1 1 1 0 0 1 1 0 1 0 0 0 0 1 1 1 0 1 0 0 0 1 1 0 0 0\n",
            " 1 0 1 0 1 1 0 1 0 1 1 1 1 0 0 1 0 0 0 0 0 0 0 1 1 0 0 1 0 1 1 1 1 0 0 0 0\n",
            " 1 1 0 0 0 0 0 0 0 0 1 1 1 1 0 1 0 0 1 1 0 0 1]\n",
            "COMPARISON OF SCORE AND TEMP\n",
            "     logits  orig_score\n",
            "0  0.442147    0.437700\n",
            "1  0.476421    0.580596\n",
            "2  0.460327    0.428623\n",
            "3  0.559054    0.422784\n",
            "4  0.436575    0.540012\n"
          ]
        },
        {
          "output_type": "stream",
          "name": "stderr",
          "text": [
            "\n"
          ]
        },
        {
          "output_type": "display_data",
          "data": {
            "text/plain": [
              "<Figure size 432x288 with 1 Axes>"
            ],
            "image/png": "[encoded data removed]"
          },
          "metadata": {
            "needs_background": "light"
          }
        },
        {
          "output_type": "stream",
          "name": "stderr",
          "text": [
            "05/07/2022 19:36:14 - INFO - __main__ -   ***** Eval results *****\n",
            "05/07/2022 19:36:14 - INFO - __main__ -     RP80 = 0.6266094420600858\n",
            "05/07/2022 19:36:14 - INFO - __main__ -     eval_accuracy = 0.03307888040712468\n",
            "05/07/2022 19:36:14 - INFO - __main__ -     eval_loss = 0.673754659982828\n",
            "05/07/2022 19:36:14 - INFO - __main__ -     global_step = 99\n",
            "05/07/2022 19:36:14 - INFO - __main__ -     rev_eval_accuracy = 0.03307888040712468\n",
            "05/07/2022 19:36:14 - INFO - __main__ -     training loss = 0.6818302893879438\n"
          ]
        },
        {
          "output_type": "stream",
          "name": "stdout",
          "text": [
            "Recall at Precision of 80 is {} 0.6266094420600858\n"
          ]
        },
        {
          "output_type": "display_data",
          "data": {
            "text/plain": [
              "<Figure size 432x288 with 0 Axes>"
            ]
          },
          "metadata": {}
        },
        {
          "output_type": "display_data",
          "data": {
            "text/plain": [
              "<Figure size 432x288 with 1 Axes>"
            ],
            "image/png": "[encoded data removed]"
          },
          "metadata": {
            "needs_background": "light"
          }
        }
      ],
      "source": [
        "m = nn.Sigmoid()\n",
        "if do_eval:\n",
        "\n",
        "    eval_examples = processor.get_test_examples(data_dir)\n",
        "    eval_features = convert_examples_to_features(\n",
        "        eval_examples, label_list, max_seq_length, tokenizer)\n",
        "    print(eval_features)\n",
        "\n",
        "    logger.info(\"***** Running evaluation *****\")\n",
        "    logger.info(\"  Num examples = %d\", len(eval_examples))\n",
        "    logger.info(\"  Batch size = %d\", eval_batch_size)\n",
        "\n",
        "    all_input_ids = torch.tensor([f.input_ids for f in eval_features], dtype=torch.long)\n",
        "    all_input_mask = torch.tensor([f.input_mask for f in eval_features], dtype=torch.long)\n",
        "    all_segment_ids = torch.tensor([f.segment_ids for f in eval_features], dtype=torch.long)\n",
        "    all_label_ids = torch.tensor([f.label_id for f in eval_features], dtype=torch.long)\n",
        "\n",
        "    eval_data = TensorDataset(all_input_ids, all_input_mask, all_segment_ids, all_label_ids)\n",
        "\n",
        "    if local_rank == -1:\n",
        "        eval_sampler = SequentialSampler(eval_data)\n",
        "    else:\n",
        "        eval_sampler = DistributedSampler(eval_data)\n",
        "\n",
        "    eval_dataloader = DataLoader(eval_data, sampler=eval_sampler, batch_size=eval_batch_size)\n",
        "    model.eval()\n",
        "    eval_loss, eval_accuracy, opposite_accuracy = 0, 0, 0\n",
        "    nb_eval_steps, nb_eval_examples = 0, 0\n",
        "    true_labels=[]\n",
        "    pred_labels=[]\n",
        "    rev_labels=[]\n",
        "    logits_history=[]\n",
        "\n",
        "    for input_ids, input_mask, segment_ids, label_ids in tqdm(eval_dataloader):\n",
        "\n",
        "        input_ids = input_ids.to(device)\n",
        "        # print(f'input ids: {input_ids}')\n",
        "        input_mask = input_mask.to(device)\n",
        "        # print(f'input mask: {input_mask}')\n",
        "        segment_ids = segment_ids.to(device) # this is not used in the other article\n",
        "        # print(f'segment ids: {segment_ids}')\n",
        "\n",
        "        label_ids = label_ids.to(device)\n",
        "        # print(f'label ids: {label_ids}')\n",
        "\n",
        "        with torch.no_grad():\n",
        "            tmp_eval_loss, temp_logits = model(input_ids, segment_ids, input_mask, label_ids)\n",
        "            logits = model(input_ids, segment_ids, input_mask)\n",
        "            print(f'LOGITS SHAPE: {logits.shape}')\n",
        "            print(logits[1:5,])\n",
        "\n",
        "        logits = torch.squeeze(m(logits),dim = -1).detach().cpu().numpy() # squeezing dimension out of the return of sigmoid\n",
        "        print(f'NEW LOGITS SHAPE: {logits.shape}')\n",
        "\n",
        "        label_ids = label_ids.to('cpu').numpy()\n",
        "\n",
        "        # MY EXPLORATION OF REVERSED POLARITY\n",
        "        sanity_df = pd.DataFrame({'logits':logits, 'labels':label_ids})\n",
        "        print(f'SANITY DF LOGITS VS LABELS\\n: {sanity_df.head(10)}')\n",
        "\n",
        "        outputs_orig = np.asarray([1 if i else 0 for i in (logits.flatten()>=0.5)]) # ORIGINAL POLARITY\n",
        "        outputs_rev = np.asarray([1 if i else 0 for i in (logits.flatten()< 0.5)]) # TRYING THE REVERSE POLARITY\n",
        "        ouput_sanity_df = pd.DataFrame({'orig outputs':outputs_orig, 'rev_outputs': outputs_rev, 'labels': label_ids})\n",
        "        print(f'SANITY OUTPUT DF \\n: {ouput_sanity_df.head(20)}')\n",
        "\n",
        "        # CHOOSE WHETHER TO USE REVERSE OR NOT\n",
        "        use_reverse_logits = False\n",
        "        if (use_reverse_logits == True):\n",
        "          outputs = outputs_rev\n",
        "          opposite = outputs_orig\n",
        "        else:\n",
        "          outputs = outputs_orig\n",
        "          opposite = outputs_rev\n",
        "\n",
        "\n",
        "        tmp_eval_accuracy = np.sum(outputs == label_ids).all() # currently with reversed output\n",
        "        opp_eval_accuracy = np.sum(opposite == label_ids).all() # currently with reversed output\n",
        "\n",
        "        true_labels = true_labels + label_ids.flatten().tolist()\n",
        "        pred_labels = pred_labels + outputs_orig.flatten().tolist()\n",
        "        rev_labels = rev_labels + outputs.flatten().tolist()\n",
        "        \n",
        "        logits_history = logits_history + logits.flatten().tolist()\n",
        "\n",
        "        true_pred_match = np.equal(true_labels, pred_labels)\n",
        "        opposite_match = np.invert(true_pred_match)\n",
        "        compare_df = pd.DataFrame({'true_labels': true_labels, 'pred_labels': pred_labels, \n",
        "                                   'match': true_pred_match, 'rev_match': opposite_match})\n",
        "        print('true_labels / pred_labels / rev_outputs\\n', compare_df.head(15))\n",
        "\n",
        "        eval_loss += tmp_eval_loss.mean().item()\n",
        "        eval_accuracy += tmp_eval_accuracy\n",
        "        opposite_accuracy += opp_eval_accuracy\n",
        "\n",
        "        nb_eval_examples += input_ids.size(0)\n",
        "        nb_eval_steps += 1\n",
        "\n",
        "    eval_loss = eval_loss / nb_eval_steps\n",
        "    eval_accuracy = eval_accuracy / nb_eval_examples\n",
        "    reversed_accuracy = opposite_accuracy / nb_eval_examples\n",
        "\n",
        "    df = pd.DataFrame({'logits':logits_history, 'pred_label': pred_labels, 'label':true_labels})\n",
        "\n",
        "    # string = 'logits_clinicalbert_'+readmission_mode+'_chunks.csv'\n",
        "    string = 'camlbert_logit_chunks.csv'\n",
        "\n",
        "    df.to_csv(os.path.join(results_location, string))\n",
        "\n",
        "    df_test = pd.read_csv(os.path.join(data_dir, \"test.csv\"))\n",
        "    # reverse_logits = np.array(logits_history)\n",
        "    # reverse_logits = 1 - reverse_logits\n",
        "\n",
        "    # print('SHAPE ORIG', logits.shape)\n",
        "    # print('SHAPE', reverse_logits.shape)\n",
        "    # reverse_logits = reverse_logits.flatten().tolist()\n",
        "    # print(len(reverse_logits), reverse_logits[0])\n",
        "    print()\n",
        "    print(f'DF TEST\\n{df_test.head()}')\n",
        "    print(f'LOGITS HISTORY\\n{logits_history}')\n",
        "    fpr, tpr, df_out = vote_score(df_test, logits_history, results_location)\n",
        "    # fpr, tpr, df_out = vote_score(df_test, reverse_logits, readmission_mode, results_location)\n",
        "\n",
        "    # string = 'logits_clinicalbert_'+readmission_mode+'_readmissions.csv'\n",
        "    string = 'camlbert_logits.csv'\n",
        "\n",
        "    df_out.to_csv(os.path.join(results_location,string))\n",
        "\n",
        "    rp80 = vote_pr_curve(df_test, logits_history, results_location)\n",
        "\n",
        "    result = {'eval_loss': eval_loss,\n",
        "              'eval_accuracy': eval_accuracy,    \n",
        "              'rev_eval_accuracy' : reversed_accuracy,         \n",
        "              'global_step': global_step_check,\n",
        "              'training loss': train_loss/number_training_steps,\n",
        "              'RP80': rp80}\n",
        "\n",
        "    output_eval_file = os.path.join(results_location, \"eval_results.txt\")\n",
        "    with open(output_eval_file, \"w\") as writer:\n",
        "        logger.info(\"***** Eval results *****\")\n",
        "        for key in sorted(result.keys()):\n",
        "            logger.info(\"  %s = %s\", key, str(result[key]))\n",
        "            writer.write(\"%s = %s\\n\" % (key, str(result[key])))"
      ]
    },
    {
      "cell_type": "code",
      "execution_count": 278,
      "metadata": {
        "colab": {
          "base_uri": "https://localhost:8080/"
        },
        "id": "ffuld3BPrh9x",
        "outputId": "b30c6fa0-75dc-4244-afe5-fe92f195584d"
      },
      "outputs": [
        {
          "output_type": "stream",
          "name": "stdout",
          "text": [
            "This version of COLAB works!\n"
          ]
        }
      ],
      "source": [
        "print('Everything ran OK!')"
      ]
    }
  ],
  "metadata": {
    "kernelspec": {
      "display_name": "Python 3",
      "language": "python",
      "name": "python3"
    },
    "language_info": {
      "codemirror_mode": {
        "name": "ipython",
        "version": 3
      },
      "file_extension": ".py",
      "mimetype": "text/x-python",
      "name": "python",
      "nbconvert_exporter": "python",
      "pygments_lexer": "ipython3",
      "version": "3.7.4"
    },
    "colab": {
      "name": "CAMLBERT_final.ipynb",
      "provenance": [],
      "collapsed_sections": [],
      "machine_shape": "hm"
    },
    "accelerator": "GPU"
  },
  "nbformat": 4,
  "nbformat_minor": 0
}